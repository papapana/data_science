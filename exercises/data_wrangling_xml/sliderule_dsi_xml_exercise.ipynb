{
 "cells": [
  {
   "cell_type": "markdown",
   "metadata": {},
   "source": [
    "# XML example and exercise\n",
    "****\n",
    "+ study examples of accessing nodes in XML tree structure  \n",
    "+ work on exercise to be completed and submitted\n",
    "****\n",
    "+ reference: https://docs.python.org/2.7/library/xml.etree.elementtree.html\n",
    "+ data source: http://www.dbis.informatik.uni-goettingen.de/Mondial\n",
    "****"
   ]
  },
  {
   "cell_type": "code",
   "execution_count": 2,
   "metadata": {
    "collapsed": true
   },
   "outputs": [],
   "source": [
    "from xml.etree import ElementTree as ET"
   ]
  },
  {
   "cell_type": "markdown",
   "metadata": {},
   "source": [
    "## XML example\n",
    "\n",
    "+ for details about tree traversal and iterators, see https://docs.python.org/2.7/library/xml.etree.elementtree.html"
   ]
  },
  {
   "cell_type": "code",
   "execution_count": 3,
   "metadata": {
    "collapsed": true
   },
   "outputs": [],
   "source": [
    "document_tree = ET.parse( './data/mondial_database_less.xml' )"
   ]
  },
  {
   "cell_type": "code",
   "execution_count": 4,
   "metadata": {
    "collapsed": false
   },
   "outputs": [
    {
     "name": "stdout",
     "output_type": "stream",
     "text": [
      "Albania\n",
      "Greece\n",
      "Macedonia\n",
      "Serbia\n",
      "Montenegro\n",
      "Kosovo\n",
      "Andorra\n"
     ]
    }
   ],
   "source": [
    "# print names of all countries\n",
    "for child in document_tree.getroot():\n",
    "    print child.find('name').text"
   ]
  },
  {
   "cell_type": "code",
   "execution_count": 5,
   "metadata": {
    "collapsed": false
   },
   "outputs": [
    {
     "name": "stdout",
     "output_type": "stream",
     "text": [
      "* Albania: Tirana, Shkodër, Durrës, Vlorë, Elbasan, Korçë\n",
      "* Greece: Komotini, Kavala, Athina, Peiraias, Peristeri, Acharnes, Patra, Kozani, Kerkyra, Ioannina, Thessaloniki, Iraklio, Chania, Ermoupoli, Rhodes, Tripoli, Lamia, Chalkida, Larissa, Volos, Mytilini, Karyes\n",
      "* Macedonia: Skopje, Kumanovo\n",
      "* Serbia: Beograd, Novi Sad, Niš\n",
      "* Montenegro: Podgorica\n",
      "* Kosovo: Prishtine\n",
      "* Andorra: Andorra la Vella\n"
     ]
    }
   ],
   "source": [
    "# print names of all countries and their cities\n",
    "for element in document_tree.iterfind('country'):\n",
    "    print '* ' + element.find('name').text + ':',\n",
    "    capitals_string = ''\n",
    "    for subelement in element.getiterator('city'):\n",
    "        capitals_string += subelement.find('name').text + ', '\n",
    "    print capitals_string[:-2]"
   ]
  },
  {
   "cell_type": "markdown",
   "metadata": {},
   "source": [
    "****\n",
    "## XML exercise\n",
    "\n",
    "Using data in 'data/mondial_database.xml', the examples above, and refering to https://docs.python.org/2.7/library/xml.etree.elementtree.html, find\n",
    "\n",
    "1. 10 countries with the lowest infant mortality rates\n",
    "2. 10 cities with the largest population\n",
    "3. 10 ethnic groups with the largest overall populations (sum of best/latest estimates over all countries)\n",
    "4. name and country of a) longest river, b) largest lake and c) airport at highest elevation"
   ]
  },
  {
   "cell_type": "code",
   "execution_count": 31,
   "metadata": {
    "collapsed": true
   },
   "outputs": [],
   "source": [
    "document = ET.parse( './data/mondial_database.xml' )"
   ]
  },
  {
   "cell_type": "code",
   "execution_count": 83,
   "metadata": {
    "collapsed": false
   },
   "outputs": [
    {
     "data": {
      "text/html": [
       "<table><th>Country</th><th>Rate</th><tr><td>Monaco</td><td>1.81%</td><tr><td>Japan</td><td>2.13%</td><tr><td>Norway</td><td>2.48%</td><tr><td>Bermuda</td><td>2.48%</td><tr><td>Singapore</td><td>2.53%</td><tr><td>Sweden</td><td>2.60%</td><tr><td>Czech Republic</td><td>2.63%</td><tr><td>Hong Kong</td><td>2.73%</td><tr><td>Macao</td><td>3.13%</td><tr><td>Iceland</td><td>3.15%</td></table>"
      ],
      "text/plain": [
       "<IPython.core.display.HTML object>"
      ]
     },
     "metadata": {},
     "output_type": "display_data"
    }
   ],
   "source": [
    "from IPython.display import display, HTML\n",
    "\n",
    "# Exercise 1\n",
    "# We will ignore countries with no mortality rate provided\n",
    "# First collect countries and their rates and then sort them\n",
    "mortality_rates = []\n",
    "for country in document.findall('country'):\n",
    "    country_name = \"\"\n",
    "    country_mortality_rate = None\n",
    "    try:\n",
    "        country_name = country.find('name').text\n",
    "        country_mortality_rate = float(country.find('infant_mortality').text)\n",
    "        mortality_rates += [[country_name, country_mortality_rate]]\n",
    "    except:\n",
    "        pass\n",
    "    \n",
    "mortality_rates.sort(key=lambda r: r[1])\n",
    "tbl = '<table><th>Country</th><th>Rate</th>';\n",
    "for country, rate in mortality_rates[:10]:\n",
    "    tbl += \"<tr><td>\"  + country +  \"</td><td>\" + format(rate, '.2f') + \"%</td>\"\n",
    "display(HTML(tbl + '</table>'))"
   ]
  },
  {
   "cell_type": "code",
   "execution_count": 86,
   "metadata": {
    "collapsed": false
   },
   "outputs": [
    {
     "data": {
      "text/html": [
       "<table><th>Country</th><th>Population</th><tr><td>Shanghai</td><td>22,315,474</td></tr><tr><td>Istanbul</td><td>13,710,512</td></tr><tr><td>Mumbai</td><td>12,442,373</td></tr><tr><td>Moskva</td><td>11,979,529</td></tr><tr><td>Beijing</td><td>11,716,620</td></tr><tr><td>São Paulo</td><td>11,152,344</td></tr><tr><td>Tianjin</td><td>11,090,314</td></tr><tr><td>Guangzhou</td><td>11,071,424</td></tr><tr><td>Delhi</td><td>11,034,555</td></tr><tr><td>Shenzhen</td><td>10,358,381</td></tr></table>"
      ],
      "text/plain": [
       "<IPython.core.display.HTML object>"
      ]
     },
     "metadata": {},
     "output_type": "display_data"
    }
   ],
   "source": [
    "# Exercise 2\n",
    "# We will ignore cities with no population provided\n",
    "# Also we consider the last measurement of populations in every city\n",
    "# First collect cities and their population and then sort them\n",
    "document = ET.parse( './data/mondial_database.xml' )\n",
    "city_population = []\n",
    "for city in document.findall('.//city'):\n",
    "    city_name = \"\"\n",
    "    try:\n",
    "        city_name = city.find('name').text\n",
    "        pop = max(city.findall('population'), key=lambda x: int(x.attrib['year']))\n",
    "        city_population += [[city_name, int(pop.text)]]\n",
    "    except:\n",
    "        pass\n",
    "    \n",
    "city_population.sort(key=lambda r: r[1], reverse=True)\n",
    "tbl = '<table><th>Country</th><th>Population</th>';\n",
    "for city, population in city_population[:10]:\n",
    "   tbl += \"<tr><td>\" + city + \"</td><td>\" + format(population, ',d') + \"</td></tr>\"\n",
    "display(HTML(tbl + \"</table>\"))"
   ]
  },
  {
   "cell_type": "code",
   "execution_count": 113,
   "metadata": {
    "collapsed": false
   },
   "outputs": [
    {
     "data": {
      "text/html": [
       "<table><th>Ethnic group</th><th>Population</th><tr><td>Han Chinese</td><td>1,245,058,800</td><tr><td>Indo-Aryan</td><td>871,815,583</td><tr><td>European</td><td>494,872,221</td><tr><td>African</td><td>318,325,122</td><tr><td>Dravidian</td><td>302,713,744</td><tr><td>Mestizo</td><td>157,734,355</td><tr><td>Bengali</td><td>146,776,917</td><tr><td>Russian</td><td>131,856,994</td><tr><td>Japanese</td><td>126,534,212</td><tr><td>Malay</td><td>121,993,550</td></table>"
      ],
      "text/plain": [
       "<IPython.core.display.HTML object>"
      ]
     },
     "metadata": {},
     "output_type": "display_data"
    }
   ],
   "source": [
    "# Exercise 3\n",
    "# For each country we will find the latest population and then all the ethnic groups\n",
    "# We will find the population of the ethnic group by multiplying latest_population * percentage\n",
    "# The ethnic groups will be stored in a dictionary\n",
    "\n",
    "ethnic_group = {}\n",
    "for country in document.findall('country'):\n",
    "    country_name = \"\"\n",
    "    try:\n",
    "        country_name = country.find('name').text\n",
    "        population = int(max(country.findall('population'), key=lambda x: int(x.attrib['year'])).text)\n",
    "        for ethnicgroup in country.findall('.//ethnicgroup'):\n",
    "            ethnic_group_population = round(population * (float(ethnicgroup.attrib['percentage'])/100))\n",
    "            ethnic_group_name = ethnicgroup.text\n",
    "            if ethnic_group_name not in ethnic_group:\n",
    "                ethnic_group[ethnic_group_name] = ethnic_group_population\n",
    "            else:\n",
    "                ethnic_group[ethnic_group_name] += ethnic_group_population\n",
    "    except:\n",
    "        pass\n",
    "\n",
    "import operator\n",
    "sorted_groups = sorted(ethnic_group.items(), key=operator.itemgetter(1), reverse=True)\n",
    "\n",
    "tbl = '<table><th>Ethnic group</th><th>Population</th>';\n",
    "for en_group, pop in sorted_groups[:10]:\n",
    "     tbl += \"<tr><td>\"  + en_group +  \"</td><td>\" + format(pop, ',.0f') + \"</td>\"\n",
    "display(HTML(tbl + '</table>'))"
   ]
  },
  {
   "cell_type": "code",
   "execution_count": 164,
   "metadata": {
    "collapsed": false
   },
   "outputs": [
    {
     "name": "stdout",
     "output_type": "stream",
     "text": [
      "Longest River: ('Colombia,Brazil,Peru', 'Amazonas', 6448.0)\n",
      "Largest Lake: ('Russia,Azerbaijan,Kazakhstan,Iran,Turkmenistan', 'Caspian Sea', 386400.0)\n",
      "Airport with highest elevation: ('Bolivia', 'El Alto Intl', 4063.0)\n"
     ]
    }
   ],
   "source": [
    "# Exercise 4\n",
    "# We detect each river, lake, airport and find their countries\n",
    "# Then we find the longest river, largest lake airport at highest elevation\n",
    "# Be careful the Nile doesn't have recorded length in this dataset!\n",
    "\n",
    "longest_river=('', '', 0.0)\n",
    "largest_lake=('','', 0.0)\n",
    "airport_highest_elev=('', '', 0.0)\n",
    "\n",
    "for river in document.findall('.//river'):\n",
    "    river_name = \"\"\n",
    "    try:\n",
    "        river_name = river.find('name').text\n",
    "        river_length = float(river.find('length').text)\n",
    "        country_codes = river.attrib['country'].split()\n",
    "        queries = [\"./country[@car_code='\" + country_code +\"']\"\n",
    "                   for country_code in country_codes]\n",
    "        country_elems = [document.find(query_str) for query_str in queries]\n",
    "        country_names = [country.find('name').text for country in country_elems]\n",
    "        country_name = \",\".join(country_names)\n",
    "\n",
    "        if river_length > longest_river[2]:\n",
    "           longest_river = (country_name, river_name, river_length)\n",
    "    except:\n",
    "        pass\n",
    "\n",
    "for lake in document.findall('.//lake'):\n",
    "    lake_name = \"\"\n",
    "    try:\n",
    "        lake_name = lake.find('name').text\n",
    "        lake_length = float(lake.find('area').text)\n",
    "        country_codes = lake.attrib['country'].split()\n",
    "        queries = [\"./country[@car_code='\" + country_code +\"']\"\n",
    "                   for country_code in country_codes]\n",
    "        country_elems = [document.find(query_str) for query_str in queries]\n",
    "        country_names = [country.find('name').text for country in country_elems]\n",
    "        country_name = \",\".join(country_names)\n",
    "\n",
    "        if lake_length > largest_lake[2]:\n",
    "           largest_lake = (country_name, lake_name, lake_length)\n",
    "    except:\n",
    "        pass\n",
    "\n",
    "for airport in document.findall('.//airport'):\n",
    "    airport_name = \"\"\n",
    "    try:\n",
    "        airport_name = airport.find('name').text\n",
    "        airport_elev = float(airport.find('elevation').text)\n",
    "        country_codes = airport.attrib['country'].split()\n",
    "        queries = [\"./country[@car_code='\" + country_code +\"']\"\n",
    "                   for country_code in country_codes]\n",
    "        country_elems = [document.find(query_str) for query_str in queries]\n",
    "        country_names = [country.find('name').text for country in country_elems]\n",
    "        country_name = \",\".join(country_names)\n",
    "\n",
    "        if airport_elev > airport_highest_elev[2]:\n",
    "           airport_highest_elev = (country_name, airport_name, airport_elev)\n",
    "    except:\n",
    "        pass\n",
    "    \n",
    "print(\"Longest River: \" + str(longest_river))\n",
    "print(\"Largest Lake: \" + str(largest_lake))\n",
    "print(\"Airport with highest elevation: \" + str(airport_highest_elev))"
   ]
  },
  {
   "cell_type": "code",
   "execution_count": null,
   "metadata": {
    "collapsed": true
   },
   "outputs": [],
   "source": []
  }
 ],
 "metadata": {
  "kernelspec": {
   "display_name": "Python 2",
   "language": "python",
   "name": "python2"
  },
  "language_info": {
   "codemirror_mode": {
    "name": "ipython",
    "version": 2
   },
   "file_extension": ".py",
   "mimetype": "text/x-python",
   "name": "python",
   "nbconvert_exporter": "python",
   "pygments_lexer": "ipython2",
   "version": "2.7.11"
  }
 },
 "nbformat": 4,
 "nbformat_minor": 0
}
