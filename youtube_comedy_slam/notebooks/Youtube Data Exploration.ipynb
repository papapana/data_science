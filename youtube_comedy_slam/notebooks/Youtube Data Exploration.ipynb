{
 "cells": [
  {
   "cell_type": "code",
   "execution_count": 122,
   "metadata": {
    "collapsed": false
   },
   "outputs": [],
   "source": [
    "%matplotlib inline\n",
    "import pandas as pd\n",
    "import numpy as np\n",
    "import matplotlib.pyplot as plt\n",
    "import matplotlib\n",
    "matplotlib.style.use('ggplot')\n",
    "import seaborn as sns"
   ]
  },
  {
   "cell_type": "code",
   "execution_count": 128,
   "metadata": {
    "collapsed": false
   },
   "outputs": [
    {
     "name": "stderr",
     "output_type": "stream",
     "text": [
      "/usr/local/lib/python3.5/site-packages/IPython/core/interactiveshell.py:2723: DtypeWarning: Columns (2,3,4,10) have mixed types. Specify dtype option on import or set low_memory=False.\n",
      "  interactivity=interactivity, compiler=compiler, result=result)\n"
     ]
    },
    {
     "data": {
      "text/html": [
       "<div>\n",
       "<table border=\"1\" class=\"dataframe\">\n",
       "  <thead>\n",
       "    <tr style=\"text-align: right;\">\n",
       "      <th></th>\n",
       "      <th>videoId</th>\n",
       "      <th>textDisplay</th>\n",
       "      <th>isReplyTo</th>\n",
       "      <th>canReply</th>\n",
       "      <th>totalReplyCount</th>\n",
       "      <th>kind</th>\n",
       "      <th>etag</th>\n",
       "      <th>id</th>\n",
       "      <th>authorChannelId</th>\n",
       "      <th>authorDisplayName</th>\n",
       "      <th>likeCount</th>\n",
       "      <th>publishedAt</th>\n",
       "      <th>updatedAt</th>\n",
       "      <th>viewerRating</th>\n",
       "    </tr>\n",
       "  </thead>\n",
       "  <tbody>\n",
       "    <tr>\n",
       "      <th>0</th>\n",
       "      <td>sNabaB-eb3Y</td>\n",
       "      <td>They should made this as a double prank.. when...</td>\n",
       "      <td>NaN</td>\n",
       "      <td>NaN</td>\n",
       "      <td>0</td>\n",
       "      <td>youtube#commentThread</td>\n",
       "      <td>\"I_8xdZu766_FSaexEaDXTIfEWc0/_aVRgxW14TFYS3sZy...</td>\n",
       "      <td>z23vvfnwmozww3ukvacdp433u2l5tjjzue32obodyxlw03...</td>\n",
       "      <td>{'value': 'UCDjudKsbl2T2KeanD-nrKXw'}</td>\n",
       "      <td>Grise Blacolar</td>\n",
       "      <td>0</td>\n",
       "      <td>2013-05-15T16:41:33.000Z</td>\n",
       "      <td>2013-05-15T16:41:33.000Z</td>\n",
       "      <td>none</td>\n",
       "    </tr>\n",
       "    <tr>\n",
       "      <th>1</th>\n",
       "      <td>sNabaB-eb3Y</td>\n",
       "      <td>People are friendlier here than in other state...</td>\n",
       "      <td>NaN</td>\n",
       "      <td>NaN</td>\n",
       "      <td>0</td>\n",
       "      <td>youtube#commentThread</td>\n",
       "      <td>\"I_8xdZu766_FSaexEaDXTIfEWc0/AOKhrA3U9J8iGUkun...</td>\n",
       "      <td>z22uxrrpaxiuyj5ri04t1aokg2ftoiu5vmacden0g5hzbk...</td>\n",
       "      <td>{'value': 'UCLBkXylBjiV0mN1dNhjIRbg'}</td>\n",
       "      <td>alphacino</td>\n",
       "      <td>0</td>\n",
       "      <td>2012-11-04T16:32:45.000Z</td>\n",
       "      <td>2012-11-04T16:32:45.000Z</td>\n",
       "      <td>none</td>\n",
       "    </tr>\n",
       "    <tr>\n",
       "      <th>2</th>\n",
       "      <td>sNabaB-eb3Y</td>\n",
       "      <td>I do live in Texas, how did you guess?!?!?!?!﻿</td>\n",
       "      <td>NaN</td>\n",
       "      <td>NaN</td>\n",
       "      <td>0</td>\n",
       "      <td>youtube#commentThread</td>\n",
       "      <td>\"I_8xdZu766_FSaexEaDXTIfEWc0/gxMEOZY-YvfKneJSI...</td>\n",
       "      <td>z222innj3rmgxhlzp04t1aokg5c1sf24ibuxgughzte0rk...</td>\n",
       "      <td>{'value': 'UCXc-CFxsN7iXSL6X4-dDfYQ'}</td>\n",
       "      <td>Lumilan</td>\n",
       "      <td>0</td>\n",
       "      <td>2012-11-04T16:21:29.000Z</td>\n",
       "      <td>2012-11-04T16:21:29.000Z</td>\n",
       "      <td>none</td>\n",
       "    </tr>\n",
       "    <tr>\n",
       "      <th>3</th>\n",
       "      <td>sNabaB-eb3Y</td>\n",
       "      <td>you mist live in texas. or maybe new york. you...</td>\n",
       "      <td>NaN</td>\n",
       "      <td>NaN</td>\n",
       "      <td>0</td>\n",
       "      <td>youtube#commentThread</td>\n",
       "      <td>\"I_8xdZu766_FSaexEaDXTIfEWc0/K88xlkocl8TtWTMMt...</td>\n",
       "      <td>z22uxrrpaxiuyj5ri04t1aokgvgnbgrn4ewpkvjulgacrk...</td>\n",
       "      <td>{'value': 'UCLBkXylBjiV0mN1dNhjIRbg'}</td>\n",
       "      <td>alphacino</td>\n",
       "      <td>0</td>\n",
       "      <td>2012-11-04T13:43:51.000Z</td>\n",
       "      <td>2012-11-04T13:43:51.000Z</td>\n",
       "      <td>none</td>\n",
       "    </tr>\n",
       "    <tr>\n",
       "      <th>4</th>\n",
       "      <td>sNabaB-eb3Y</td>\n",
       "      <td>They should have just opened the door with the...</td>\n",
       "      <td>NaN</td>\n",
       "      <td>NaN</td>\n",
       "      <td>0</td>\n",
       "      <td>youtube#commentThread</td>\n",
       "      <td>\"I_8xdZu766_FSaexEaDXTIfEWc0/3NozddevGyZcalCaO...</td>\n",
       "      <td>z23tdtdihp3sz3emtacdp43afln2va1zwj4c2wnmljxw03...</td>\n",
       "      <td>{'value': 'UCY8-Q3GTP-a4yZ99GpG4Qww'}</td>\n",
       "      <td>PandaMagicFTW</td>\n",
       "      <td>0</td>\n",
       "      <td>2012-10-02T21:35:52.000Z</td>\n",
       "      <td>2012-10-02T21:35:52.000Z</td>\n",
       "      <td>none</td>\n",
       "    </tr>\n",
       "    <tr>\n",
       "      <th>5</th>\n",
       "      <td>sNabaB-eb3Y</td>\n",
       "      <td>i love the music on JFL﻿</td>\n",
       "      <td>NaN</td>\n",
       "      <td>NaN</td>\n",
       "      <td>0</td>\n",
       "      <td>youtube#commentThread</td>\n",
       "      <td>\"I_8xdZu766_FSaexEaDXTIfEWc0/IRtPfKJcI4PawitZJ...</td>\n",
       "      <td>z23nebibyze2cb3pn04t1aokgkzznfqtt5wqaf5ebm3nbk...</td>\n",
       "      <td>{'value': 'UCXX6ufMotDsRRMj_1BiBk_w'}</td>\n",
       "      <td>kimmyw010</td>\n",
       "      <td>0</td>\n",
       "      <td>2012-08-25T04:50:19.000Z</td>\n",
       "      <td>2012-08-25T04:50:19.000Z</td>\n",
       "      <td>none</td>\n",
       "    </tr>\n",
       "    <tr>\n",
       "      <th>6</th>\n",
       "      <td>sNabaB-eb3Y</td>\n",
       "      <td>It has 6 human power﻿</td>\n",
       "      <td>NaN</td>\n",
       "      <td>NaN</td>\n",
       "      <td>0</td>\n",
       "      <td>youtube#commentThread</td>\n",
       "      <td>\"I_8xdZu766_FSaexEaDXTIfEWc0/mi6gcIdUHEWkn0TKZ...</td>\n",
       "      <td>z23pzpz5vvmrjji0facdp4350cxxomrhh0vdeykuf4tw03...</td>\n",
       "      <td>{'value': 'UCbigvKFMTwsUX1FBhvYY6Tg'}</td>\n",
       "      <td>SlickR12345</td>\n",
       "      <td>0</td>\n",
       "      <td>2012-06-26T12:59:15.000Z</td>\n",
       "      <td>2012-06-26T12:59:15.000Z</td>\n",
       "      <td>none</td>\n",
       "    </tr>\n",
       "    <tr>\n",
       "      <th>7</th>\n",
       "      <td>sNabaB-eb3Y</td>\n",
       "      <td>JustForLaughs is like an institution. Loads of...</td>\n",
       "      <td>NaN</td>\n",
       "      <td>NaN</td>\n",
       "      <td>0</td>\n",
       "      <td>youtube#commentThread</td>\n",
       "      <td>\"I_8xdZu766_FSaexEaDXTIfEWc0/d1OXVB16zaiNit0kA...</td>\n",
       "      <td>z22yjr1grzrdeviap04t1aokgb1oyubgsfvzaxkrilrgbk...</td>\n",
       "      <td>{'value': 'UCS3Ri5tvGweVXwzUDGd-8RQ'}</td>\n",
       "      <td>TheCulturalBomb</td>\n",
       "      <td>0</td>\n",
       "      <td>2012-06-20T02:17:52.000Z</td>\n",
       "      <td>2012-06-20T02:17:52.000Z</td>\n",
       "      <td>none</td>\n",
       "    </tr>\n",
       "    <tr>\n",
       "      <th>8</th>\n",
       "      <td>sNabaB-eb3Y</td>\n",
       "      <td>thumbs up if you saw the lauriel and hardy pos...</td>\n",
       "      <td>NaN</td>\n",
       "      <td>NaN</td>\n",
       "      <td>0</td>\n",
       "      <td>youtube#commentThread</td>\n",
       "      <td>\"I_8xdZu766_FSaexEaDXTIfEWc0/vqHiKYG7jh576wOsi...</td>\n",
       "      <td>z224tfyjmkrjhffqm04t1aokgr10lkpvdkr5hv23chkebk...</td>\n",
       "      <td>{'value': 'UCih6jccG8q_rVCkqRcm3avQ'}</td>\n",
       "      <td>MiguelBug</td>\n",
       "      <td>0</td>\n",
       "      <td>2012-05-16T13:22:37.000Z</td>\n",
       "      <td>2012-05-16T13:22:37.000Z</td>\n",
       "      <td>none</td>\n",
       "    </tr>\n",
       "    <tr>\n",
       "      <th>9</th>\n",
       "      <td>sNabaB-eb3Y</td>\n",
       "      <td>look at the shape of the key @1:11....lol lol ...</td>\n",
       "      <td>NaN</td>\n",
       "      <td>NaN</td>\n",
       "      <td>0</td>\n",
       "      <td>youtube#commentThread</td>\n",
       "      <td>\"I_8xdZu766_FSaexEaDXTIfEWc0/xzPbrBd0AJEttdE_c...</td>\n",
       "      <td>z23qjnzo2xz0ujr4a04t1aokggyigqzp4h4hecowxdz2rk...</td>\n",
       "      <td>{'value': 'UCCWyqVEPJS3v53ggTYfRGNA'}</td>\n",
       "      <td>varkyjas10</td>\n",
       "      <td>0</td>\n",
       "      <td>2012-03-27T10:05:55.000Z</td>\n",
       "      <td>2012-03-27T10:05:55.000Z</td>\n",
       "      <td>none</td>\n",
       "    </tr>\n",
       "  </tbody>\n",
       "</table>\n",
       "</div>"
      ],
      "text/plain": [
       "       videoId                                        textDisplay isReplyTo  \\\n",
       "0  sNabaB-eb3Y  They should made this as a double prank.. when...       NaN   \n",
       "1  sNabaB-eb3Y  People are friendlier here than in other state...       NaN   \n",
       "2  sNabaB-eb3Y     I do live in Texas, how did you guess?!?!?!?!﻿       NaN   \n",
       "3  sNabaB-eb3Y  you mist live in texas. or maybe new york. you...       NaN   \n",
       "4  sNabaB-eb3Y  They should have just opened the door with the...       NaN   \n",
       "5  sNabaB-eb3Y                           i love the music on JFL﻿       NaN   \n",
       "6  sNabaB-eb3Y                              It has 6 human power﻿       NaN   \n",
       "7  sNabaB-eb3Y  JustForLaughs is like an institution. Loads of...       NaN   \n",
       "8  sNabaB-eb3Y  thumbs up if you saw the lauriel and hardy pos...       NaN   \n",
       "9  sNabaB-eb3Y  look at the shape of the key @1:11....lol lol ...       NaN   \n",
       "\n",
       "  canReply totalReplyCount                   kind  \\\n",
       "0      NaN               0  youtube#commentThread   \n",
       "1      NaN               0  youtube#commentThread   \n",
       "2      NaN               0  youtube#commentThread   \n",
       "3      NaN               0  youtube#commentThread   \n",
       "4      NaN               0  youtube#commentThread   \n",
       "5      NaN               0  youtube#commentThread   \n",
       "6      NaN               0  youtube#commentThread   \n",
       "7      NaN               0  youtube#commentThread   \n",
       "8      NaN               0  youtube#commentThread   \n",
       "9      NaN               0  youtube#commentThread   \n",
       "\n",
       "                                                etag  \\\n",
       "0  \"I_8xdZu766_FSaexEaDXTIfEWc0/_aVRgxW14TFYS3sZy...   \n",
       "1  \"I_8xdZu766_FSaexEaDXTIfEWc0/AOKhrA3U9J8iGUkun...   \n",
       "2  \"I_8xdZu766_FSaexEaDXTIfEWc0/gxMEOZY-YvfKneJSI...   \n",
       "3  \"I_8xdZu766_FSaexEaDXTIfEWc0/K88xlkocl8TtWTMMt...   \n",
       "4  \"I_8xdZu766_FSaexEaDXTIfEWc0/3NozddevGyZcalCaO...   \n",
       "5  \"I_8xdZu766_FSaexEaDXTIfEWc0/IRtPfKJcI4PawitZJ...   \n",
       "6  \"I_8xdZu766_FSaexEaDXTIfEWc0/mi6gcIdUHEWkn0TKZ...   \n",
       "7  \"I_8xdZu766_FSaexEaDXTIfEWc0/d1OXVB16zaiNit0kA...   \n",
       "8  \"I_8xdZu766_FSaexEaDXTIfEWc0/vqHiKYG7jh576wOsi...   \n",
       "9  \"I_8xdZu766_FSaexEaDXTIfEWc0/xzPbrBd0AJEttdE_c...   \n",
       "\n",
       "                                                  id  \\\n",
       "0  z23vvfnwmozww3ukvacdp433u2l5tjjzue32obodyxlw03...   \n",
       "1  z22uxrrpaxiuyj5ri04t1aokg2ftoiu5vmacden0g5hzbk...   \n",
       "2  z222innj3rmgxhlzp04t1aokg5c1sf24ibuxgughzte0rk...   \n",
       "3  z22uxrrpaxiuyj5ri04t1aokgvgnbgrn4ewpkvjulgacrk...   \n",
       "4  z23tdtdihp3sz3emtacdp43afln2va1zwj4c2wnmljxw03...   \n",
       "5  z23nebibyze2cb3pn04t1aokgkzznfqtt5wqaf5ebm3nbk...   \n",
       "6  z23pzpz5vvmrjji0facdp4350cxxomrhh0vdeykuf4tw03...   \n",
       "7  z22yjr1grzrdeviap04t1aokgb1oyubgsfvzaxkrilrgbk...   \n",
       "8  z224tfyjmkrjhffqm04t1aokgr10lkpvdkr5hv23chkebk...   \n",
       "9  z23qjnzo2xz0ujr4a04t1aokggyigqzp4h4hecowxdz2rk...   \n",
       "\n",
       "                         authorChannelId authorDisplayName likeCount  \\\n",
       "0  {'value': 'UCDjudKsbl2T2KeanD-nrKXw'}    Grise Blacolar         0   \n",
       "1  {'value': 'UCLBkXylBjiV0mN1dNhjIRbg'}         alphacino         0   \n",
       "2  {'value': 'UCXc-CFxsN7iXSL6X4-dDfYQ'}           Lumilan         0   \n",
       "3  {'value': 'UCLBkXylBjiV0mN1dNhjIRbg'}         alphacino         0   \n",
       "4  {'value': 'UCY8-Q3GTP-a4yZ99GpG4Qww'}     PandaMagicFTW         0   \n",
       "5  {'value': 'UCXX6ufMotDsRRMj_1BiBk_w'}         kimmyw010         0   \n",
       "6  {'value': 'UCbigvKFMTwsUX1FBhvYY6Tg'}       SlickR12345         0   \n",
       "7  {'value': 'UCS3Ri5tvGweVXwzUDGd-8RQ'}   TheCulturalBomb         0   \n",
       "8  {'value': 'UCih6jccG8q_rVCkqRcm3avQ'}         MiguelBug         0   \n",
       "9  {'value': 'UCCWyqVEPJS3v53ggTYfRGNA'}        varkyjas10         0   \n",
       "\n",
       "                publishedAt                 updatedAt viewerRating  \n",
       "0  2013-05-15T16:41:33.000Z  2013-05-15T16:41:33.000Z         none  \n",
       "1  2012-11-04T16:32:45.000Z  2012-11-04T16:32:45.000Z         none  \n",
       "2  2012-11-04T16:21:29.000Z  2012-11-04T16:21:29.000Z         none  \n",
       "3  2012-11-04T13:43:51.000Z  2012-11-04T13:43:51.000Z         none  \n",
       "4  2012-10-02T21:35:52.000Z  2012-10-02T21:35:52.000Z         none  \n",
       "5  2012-08-25T04:50:19.000Z  2012-08-25T04:50:19.000Z         none  \n",
       "6  2012-06-26T12:59:15.000Z  2012-06-26T12:59:15.000Z         none  \n",
       "7  2012-06-20T02:17:52.000Z  2012-06-20T02:17:52.000Z         none  \n",
       "8  2012-05-16T13:22:37.000Z  2012-05-16T13:22:37.000Z         none  \n",
       "9  2012-03-27T10:05:55.000Z  2012-03-27T10:05:55.000Z         none  "
      ]
     },
     "execution_count": 128,
     "metadata": {},
     "output_type": "execute_result"
    }
   ],
   "source": [
    "# Load and check dataset\n",
    "\n",
    "data = pd.read_csv(\"../data/processed/train_dataset_movies.csv\")\n",
    "data.head(10)"
   ]
  },
  {
   "cell_type": "code",
   "execution_count": 3,
   "metadata": {
    "collapsed": false
   },
   "outputs": [
    {
     "data": {
      "text/plain": [
       "6645243"
      ]
     },
     "execution_count": 3,
     "metadata": {},
     "output_type": "execute_result"
    }
   ],
   "source": [
    "# Number of rows\n",
    "len(data)"
   ]
  },
  {
   "cell_type": "code",
   "execution_count": 4,
   "metadata": {
    "collapsed": false
   },
   "outputs": [
    {
     "data": {
      "text/plain": [
       "videoId              object\n",
       "textDisplay          object\n",
       "isReplyTo            object\n",
       "canReply             object\n",
       "totalReplyCount      object\n",
       "kind                 object\n",
       "etag                 object\n",
       "id                   object\n",
       "authorChannelId      object\n",
       "authorDisplayName    object\n",
       "likeCount            object\n",
       "publishedAt          object\n",
       "updatedAt            object\n",
       "viewerRating         object\n",
       "dtype: object"
      ]
     },
     "execution_count": 4,
     "metadata": {},
     "output_type": "execute_result"
    }
   ],
   "source": [
    "data.dtypes"
   ]
  },
  {
   "cell_type": "code",
   "execution_count": 5,
   "metadata": {
    "collapsed": false
   },
   "outputs": [
    {
     "data": {
      "text/plain": [
       "9422"
      ]
     },
     "execution_count": 5,
     "metadata": {},
     "output_type": "execute_result"
    }
   ],
   "source": [
    "# How many unique videos are there?\n",
    "len(pd.unique(data['videoId']))"
   ]
  },
  {
   "cell_type": "code",
   "execution_count": 6,
   "metadata": {
    "collapsed": false
   },
   "outputs": [
    {
     "data": {
      "text/plain": [
       "<matplotlib.axes._subplots.AxesSubplot at 0x23d652898>"
      ]
     },
     "execution_count": 6,
     "metadata": {},
     "output_type": "execute_result"
    },
    {
     "data": {
      "image/png": "[encoded data removed]",
      "text/plain": [
       "<matplotlib.figure.Figure at 0x24d9366a0>"
      ]
     },
     "metadata": {},
     "output_type": "display_data"
    }
   ],
   "source": [
    "# How many comments are there per video? (Distribution)\n",
    "# histogram for those with less than 200 comments\n",
    "data.groupby(\"videoId\").filter(lambda x: len(x)<200).videoId.value_counts().plot(kind = 'hist', bins=50)"
   ]
  },
  {
   "cell_type": "code",
   "execution_count": 9,
   "metadata": {
    "collapsed": false
   },
   "outputs": [
    {
     "data": {
      "text/plain": [
       "<matplotlib.axes._subplots.AxesSubplot at 0x10e851710>"
      ]
     },
     "execution_count": 9,
     "metadata": {},
     "output_type": "execute_result"
    },
    {
     "data": {
      "image/png": "[encoded data removed]",
      "text/plain": [
       "<matplotlib.figure.Figure at 0x10f303c50>"
      ]
     },
     "metadata": {},
     "output_type": "display_data"
    }
   ],
   "source": [
    "# How many comments are there per video? (Distribution)\n",
    "# histogram for those with more than 200 comments and less than 500\n",
    "data.groupby(\"videoId\").filter(lambda x: len(x)>200 and len(x)<=500).videoId.value_counts().plot(kind = 'hist', bins=50)"
   ]
  },
  {
   "cell_type": "code",
   "execution_count": 10,
   "metadata": {
    "collapsed": false
   },
   "outputs": [
    {
     "data": {
      "text/plain": [
       "<matplotlib.axes._subplots.AxesSubplot at 0x109a91a58>"
      ]
     },
     "execution_count": 10,
     "metadata": {},
     "output_type": "execute_result"
    },
    {
     "data": {
      "image/png": "[encoded data removed]",
      "text/plain": [
       "<matplotlib.figure.Figure at 0x109a52ef0>"
      ]
     },
     "metadata": {},
     "output_type": "display_data"
    }
   ],
   "source": [
    "# How many comments are there per video? (Distribution)\n",
    "# histogram for those with more than 500 comments and less than 1000\n",
    "data.groupby(\"videoId\").filter(lambda x: len(x)>500 and len(x)<=1000).videoId.value_counts().plot(kind = 'hist', bins=50)"
   ]
  },
  {
   "cell_type": "code",
   "execution_count": 13,
   "metadata": {
    "collapsed": false
   },
   "outputs": [
    {
     "data": {
      "text/plain": [
       "<matplotlib.axes._subplots.AxesSubplot at 0x11ca2b7b8>"
      ]
     },
     "execution_count": 13,
     "metadata": {},
     "output_type": "execute_result"
    },
    {
     "data": {
      "image/png": "[encoded data removed]",
      "text/plain": [
       "<matplotlib.figure.Figure at 0x11241ada0>"
      ]
     },
     "metadata": {},
     "output_type": "display_data"
    }
   ],
   "source": [
    "# How many comments are there per video? (Distribution)\n",
    "# histogram for those with more than 1000 comments and less than 10000\n",
    "data.groupby(\"videoId\").filter(lambda x: len(x)>1000 and len(x)<10000).videoId.value_counts().plot(kind = 'hist', bins=50)"
   ]
  },
  {
   "cell_type": "code",
   "execution_count": 14,
   "metadata": {
    "collapsed": false
   },
   "outputs": [
    {
     "data": {
      "text/plain": [
       "<matplotlib.axes._subplots.AxesSubplot at 0x11ccdec18>"
      ]
     },
     "execution_count": 14,
     "metadata": {},
     "output_type": "execute_result"
    },
    {
     "data": {
      "image/png": "[encoded data removed]",
      "text/plain": [
       "<matplotlib.figure.Figure at 0x112076be0>"
      ]
     },
     "metadata": {},
     "output_type": "display_data"
    }
   ],
   "source": [
    "# How many comments are there per video? (Distribution)\n",
    "# histogram for those with more than 10000 comments \n",
    "data.groupby(\"videoId\").filter(lambda x: len(x)>10000).videoId.value_counts().plot(kind = 'hist', bins=50)"
   ]
  },
  {
   "cell_type": "markdown",
   "metadata": {},
   "source": [
    "In general, it seems that the number of comments per video decreases exponentially"
   ]
  },
  {
   "cell_type": "code",
   "execution_count": 16,
   "metadata": {
    "collapsed": false
   },
   "outputs": [
    {
     "name": "stdout",
     "output_type": "stream",
     "text": [
      "Average comments per video: 705.0, std: 3809.0\n"
     ]
    }
   ],
   "source": [
    "# How many comments are there per video? (Average number) + std\n",
    "mean_comments = round(data.groupby('videoId').size().mean())\n",
    "std_comments = round(data.groupby('videoId').size().std())\n",
    "print(\"Average comments per video: {0}, std: {1}\".format(mean_comments, std_comments))"
   ]
  },
  {
   "cell_type": "markdown",
   "metadata": {},
   "source": [
    "It seems that the average comments per video is not reliable due to the huge standard deviation"
   ]
  },
  {
   "cell_type": "code",
   "execution_count": 17,
   "metadata": {
    "collapsed": false
   },
   "outputs": [
    {
     "data": {
      "text/plain": [
       "2910424"
      ]
     },
     "execution_count": 17,
     "metadata": {},
     "output_type": "execute_result"
    }
   ],
   "source": [
    "# How many different comment authors are there? \n",
    "len(pd.unique(data.authorDisplayName))"
   ]
  },
  {
   "cell_type": "code",
   "execution_count": null,
   "metadata": {
    "collapsed": false
   },
   "outputs": [],
   "source": [
    "# Comments per author (distribution) 0-8 \n",
    "data.groupby(\"authorDisplayName\").filter(lambda x: len(x)<5).authorDisplayName.value_counts().plot(kind='hist', bins = 5)"
   ]
  },
  {
   "cell_type": "code",
   "execution_count": 6,
   "metadata": {
    "collapsed": false
   },
   "outputs": [
    {
     "name": "stdout",
     "output_type": "stream",
     "text": [
      "Average comments by author: 2.0, std: 15.0\n"
     ]
    }
   ],
   "source": [
    "# Average comments per author\n",
    "mean_auth_comments = round(data.groupby('authorDisplayName').size().mean())\n",
    "std_auth_comments = round(data.groupby('authorDisplayName').size().std())\n",
    "print(\"Average comments by author: {0}, std: {1}\".format(mean_auth_comments, std_auth_comments))"
   ]
  },
  {
   "cell_type": "code",
   "execution_count": null,
   "metadata": {
    "collapsed": true
   },
   "outputs": [],
   "source": [
    "data.likeCount = pd.to_numeric(data.likeCount, errors='coerce')"
   ]
  },
  {
   "cell_type": "code",
   "execution_count": 10,
   "metadata": {
    "collapsed": false
   },
   "outputs": [
    {
     "name": "stdout",
     "output_type": "stream",
     "text": [
      "101648 out of 6645243 comments have more than 0 likes\n"
     ]
    }
   ],
   "source": [
    "# How many comments have over 0 likes?\n",
    "print(\"{0} out of {1} comments have more than 0 likes\".format(len(data[data.likeCount > 0]), len(data)))"
   ]
  },
  {
   "cell_type": "code",
   "execution_count": 15,
   "metadata": {
    "collapsed": false
   },
   "outputs": [
    {
     "data": {
      "text/plain": [
       "126.0     9\n",
       "132.0     9\n",
       "161.0     9\n",
       "149.0     9\n",
       "144.0     9\n",
       "141.0     9\n",
       "136.0     9\n",
       "151.0     9\n",
       "123.0     9\n",
       "165.0     9\n",
       "180.0     9\n",
       "236.0     9\n",
       "159.0     8\n",
       "199.0     8\n",
       "196.0     8\n",
       "171.0     8\n",
       "209.0     8\n",
       "162.0     8\n",
       "143.0     8\n",
       "210.0     8\n",
       "153.0     7\n",
       "219.0     7\n",
       "203.0     7\n",
       "215.0     7\n",
       "183.0     7\n",
       "202.0     7\n",
       "178.0     7\n",
       "166.0     7\n",
       "212.0     7\n",
       "172.0     7\n",
       "         ..\n",
       "472.0     1\n",
       "454.0     1\n",
       "478.0     1\n",
       "1505.0    1\n",
       "484.0     1\n",
       "488.0     1\n",
       "490.0     1\n",
       "491.0     1\n",
       "497.0     1\n",
       "455.0     1\n",
       "453.0     1\n",
       "409.0     1\n",
       "426.0     1\n",
       "1435.0    1\n",
       "414.0     1\n",
       "415.0     1\n",
       "416.0     1\n",
       "417.0     1\n",
       "422.0     1\n",
       "423.0     1\n",
       "430.0     1\n",
       "452.0     1\n",
       "432.0     1\n",
       "434.0     1\n",
       "438.0     1\n",
       "443.0     1\n",
       "444.0     1\n",
       "448.0     1\n",
       "451.0     1\n",
       "2065.0    1\n",
       "Name: likeCount, dtype: int64"
      ]
     },
     "execution_count": 15,
     "metadata": {},
     "output_type": "execute_result"
    }
   ],
   "source": [
    "# Like distribution for all comments + different histograms\n",
    "data.groupby('likeCount').filter(lambda x: len(x)<10).likeCount.sort_index().value_counts()"
   ]
  },
  {
   "cell_type": "code",
   "execution_count": 130,
   "metadata": {
    "collapsed": false
   },
   "outputs": [],
   "source": [
    "# Initialize gensim and start NLP\n",
    "import logging\n",
    "logging.basicConfig(format='%(asctime)s : %(levelname)s : %(message)s', level=logging.INFO)\n",
    "import gensim\n",
    "from gensim import corpora\n",
    "from gensim.utils import smart_open, simple_preprocess\n",
    "from gensim.parsing.preprocessing import STOPWORDS\n",
    "from sklearn.feature_extraction.text import CountVectorizer\n",
    "from wordcloud import WordCloud, STOPWORDS"
   ]
  },
  {
   "cell_type": "code",
   "execution_count": 131,
   "metadata": {
    "collapsed": false
   },
   "outputs": [],
   "source": [
    "def tokenize(text):\n",
    "    return [token for token in simple_preprocess(text) if token not in STOPWORDS]\n",
    "\n",
    "def iter_comments(commentsIterable):\n",
    "    for entry in commentsIterable:\n",
    "        comment = tokenize(entry[2])\n",
    "        yield entry[1], comment\n",
    "        "
   ]
  },
  {
   "cell_type": "code",
   "execution_count": 133,
   "metadata": {
    "collapsed": false
   },
   "outputs": [],
   "source": [
    "# Create a corpus out of the comments and save it\n",
    "commentsList = data[['videoId', 'textDisplay']].dropna().itertuples()\n",
    "stream = iter_comments(commentsList)\n",
    "doc_stream = (tokens for _, tokens in stream)\n",
    "id2word = gensim.corpora.Dictionary(doc_stream)\n",
    "id2word.save('../data/processed/youtube_comments.dict')"
   ]
  },
  {
   "cell_type": "code",
   "execution_count": 32,
   "metadata": {
    "collapsed": true
   },
   "outputs": [],
   "source": [
    "lst = data.textDisplay.dropna().to_string()\n",
    "lst"
   ]
  },
  {
   "cell_type": "code",
   "execution_count": 37,
   "metadata": {
    "collapsed": false
   },
   "outputs": [],
   "source": [
    "wordcloud = WordCloud(    stopwords=STOPWORDS,\n",
    "                          background_color='white',\n",
    "                          width=1200,\n",
    "                          height=1000\n",
    "                         ).generate(lst)\n"
   ]
  },
  {
   "cell_type": "code",
   "execution_count": 39,
   "metadata": {
    "collapsed": false
   },
   "outputs": [
    {
     "data": {
      "image/png": "[encoded data removed]",
      "text/plain": [
       "<matplotlib.figure.Figure at 0x26fbc8748>"
      ]
     },
     "metadata": {},
     "output_type": "display_data"
    }
   ],
   "source": [
    "plt.imshow(wordcloud)\n",
    "plt.axis(\"off\")\n",
    "plt.show()"
   ]
  },
  {
   "cell_type": "code",
   "execution_count": 135,
   "metadata": {
    "collapsed": false
   },
   "outputs": [
    {
     "name": "stdout",
     "output_type": "stream",
     "text": [
      "Number of tokens before filtering 1109304\n"
     ]
    }
   ],
   "source": [
    "print(\"Number of tokens before filtering {0}\".format(len(id2word)))"
   ]
  },
  {
   "cell_type": "code",
   "execution_count": 136,
   "metadata": {
    "collapsed": false
   },
   "outputs": [
    {
     "name": "stdout",
     "output_type": "stream",
     "text": [
      "Dictionary(54435 unique tokens: ['tradechat', 'practiced', 'famous', 'simmons', 'helfen']...)\n"
     ]
    }
   ],
   "source": [
    "# Filter words + maybe language detector --> ignore or put it in another dataset + check youtube api for language\n",
    "# ignore words that appear in less than 20 documents or more than 10% documents\n",
    "id2word.filter_extremes(no_below=20, no_above=0.1)\n",
    "print(id2word)"
   ]
  },
  {
   "cell_type": "code",
   "execution_count": 145,
   "metadata": {
    "collapsed": true
   },
   "outputs": [],
   "source": [
    "import itertools\n",
    "# Create a bag-of-words corpus\n",
    "\n",
    "class YoutubeCommentsCorpus(object):\n",
    "    def __init__(self, comment_tuples, dictionary, clip_docs=None):\n",
    "        self.comment_tuples = comment_tuples\n",
    "        self.dictionary = dictionary\n",
    "        self.clip_docs = clip_docs\n",
    "    \n",
    "    def __iter__(self):\n",
    "        self.video_ids = []\n",
    "        for video_id, tokens in itertools.islice(iter_comments(self.comment_tuples), self.clip_docs):\n",
    "            self.video_ids.append(video_id)\n",
    "            print(self.dictionary.doc2bow(tokens))\n",
    "            yield self.dictionary.doc2bow(tokens)\n",
    "    \n",
    "    def __len__(self):\n",
    "        return self.clip_docs"
   ]
  },
  {
   "cell_type": "code",
   "execution_count": 155,
   "metadata": {
    "collapsed": false
   },
   "outputs": [
    {
     "ename": "StopIteration",
     "evalue": "",
     "output_type": "error",
     "traceback": [
      "\u001b[0;31m---------------------------------------------------------------------------\u001b[0m",
      "\u001b[0;31mStopIteration\u001b[0m                             Traceback (most recent call last)",
      "\u001b[0;32m<ipython-input-155-99e9d0584a83>\u001b[0m in \u001b[0;36m<module>\u001b[0;34m()\u001b[0m\n\u001b[1;32m      1\u001b[0m \u001b[0mcomment_corpus\u001b[0m \u001b[0;34m=\u001b[0m \u001b[0mYoutubeCommentsCorpus\u001b[0m\u001b[0;34m(\u001b[0m\u001b[0mcommentsList\u001b[0m\u001b[0;34m,\u001b[0m \u001b[0mid2word\u001b[0m\u001b[0;34m)\u001b[0m\u001b[0;34m\u001b[0m\u001b[0m\n\u001b[0;32m----> 2\u001b[0;31m \u001b[0mprint\u001b[0m\u001b[0;34m(\u001b[0m\u001b[0mnext\u001b[0m\u001b[0;34m(\u001b[0m\u001b[0miter\u001b[0m\u001b[0;34m(\u001b[0m\u001b[0mcomment_corpus\u001b[0m\u001b[0;34m)\u001b[0m\u001b[0;34m)\u001b[0m\u001b[0;34m)\u001b[0m\u001b[0;34m\u001b[0m\u001b[0m\n\u001b[0m",
      "\u001b[0;31mStopIteration\u001b[0m: "
     ]
    }
   ],
   "source": [
    "comment_corpus = YoutubeCommentsCorpus(commentsList, id2word)\n",
    "print(next(iter(comment_corpus)))"
   ]
  },
  {
   "cell_type": "code",
   "execution_count": 160,
   "metadata": {
    "collapsed": false
   },
   "outputs": [
    {
     "ename": "NameError",
     "evalue": "name 'docstream' is not defined",
     "output_type": "error",
     "traceback": [
      "\u001b[0;31m---------------------------------------------------------------------------\u001b[0m",
      "\u001b[0;31mNameError\u001b[0m                                 Traceback (most recent call last)",
      "\u001b[0;32m<ipython-input-160-bce06277a7c0>\u001b[0m in \u001b[0;36m<module>\u001b[0;34m()\u001b[0m\n\u001b[0;32m----> 1\u001b[0;31m \u001b[0;32mfor\u001b[0m \u001b[0mi\u001b[0m \u001b[0;32min\u001b[0m \u001b[0mdocstream\u001b[0m\u001b[0;34m:\u001b[0m\u001b[0;34m\u001b[0m\u001b[0m\n\u001b[0m\u001b[1;32m      2\u001b[0m     \u001b[0mprint\u001b[0m\u001b[0;34m(\u001b[0m\u001b[0mi\u001b[0m\u001b[0;34m)\u001b[0m\u001b[0;34m\u001b[0m\u001b[0m\n",
      "\u001b[0;31mNameError\u001b[0m: name 'docstream' is not defined"
     ]
    }
   ],
   "source": [
    "for i in docstream:\n",
    "    print(i)"
   ]
  },
  {
   "cell_type": "code",
   "execution_count": 111,
   "metadata": {
    "collapsed": false
   },
   "outputs": [
    {
     "data": {
      "text/html": [
       "<div>\n",
       "<table border=\"1\" class=\"dataframe\">\n",
       "  <thead>\n",
       "    <tr style=\"text-align: right;\">\n",
       "      <th></th>\n",
       "      <th>video_id1</th>\n",
       "      <th>video_id2</th>\n",
       "      <th>funnier</th>\n",
       "    </tr>\n",
       "  </thead>\n",
       "  <tbody>\n",
       "    <tr>\n",
       "      <th>0</th>\n",
       "      <td>sNabaB-eb3Y</td>\n",
       "      <td>wHkPb68dxEw</td>\n",
       "      <td>left</td>\n",
       "    </tr>\n",
       "    <tr>\n",
       "      <th>1</th>\n",
       "      <td>sNabaB-eb3Y</td>\n",
       "      <td>y2emSXSE-N4</td>\n",
       "      <td>left</td>\n",
       "    </tr>\n",
       "    <tr>\n",
       "      <th>2</th>\n",
       "      <td>Vr4D8xO2lBY</td>\n",
       "      <td>sNabaB-eb3Y</td>\n",
       "      <td>right</td>\n",
       "    </tr>\n",
       "    <tr>\n",
       "      <th>3</th>\n",
       "      <td>sNabaB-eb3Y</td>\n",
       "      <td>dDtRnstrefE</td>\n",
       "      <td>left</td>\n",
       "    </tr>\n",
       "    <tr>\n",
       "      <th>4</th>\n",
       "      <td>vX95JgKGu0o</td>\n",
       "      <td>wu4SU70w7LA</td>\n",
       "      <td>left</td>\n",
       "    </tr>\n",
       "    <tr>\n",
       "      <th>5</th>\n",
       "      <td>SG2B7dIqbNQ</td>\n",
       "      <td>sNabaB-eb3Y</td>\n",
       "      <td>right</td>\n",
       "    </tr>\n",
       "    <tr>\n",
       "      <th>6</th>\n",
       "      <td>rhjIStU0JvI</td>\n",
       "      <td>sNabaB-eb3Y</td>\n",
       "      <td>right</td>\n",
       "    </tr>\n",
       "    <tr>\n",
       "      <th>7</th>\n",
       "      <td>axZ2xvYhOKw</td>\n",
       "      <td>vX95JgKGu0o</td>\n",
       "      <td>left</td>\n",
       "    </tr>\n",
       "    <tr>\n",
       "      <th>8</th>\n",
       "      <td>bfU4rTa-PfQ</td>\n",
       "      <td>jpntOJ_xDJ0</td>\n",
       "      <td>right</td>\n",
       "    </tr>\n",
       "    <tr>\n",
       "      <th>9</th>\n",
       "      <td>Lr4SS1zxRYg</td>\n",
       "      <td>QwpWaLrDHnU</td>\n",
       "      <td>left</td>\n",
       "    </tr>\n",
       "  </tbody>\n",
       "</table>\n",
       "</div>"
      ],
      "text/plain": [
       "     video_id1    video_id2 funnier\n",
       "0  sNabaB-eb3Y  wHkPb68dxEw    left\n",
       "1  sNabaB-eb3Y  y2emSXSE-N4    left\n",
       "2  Vr4D8xO2lBY  sNabaB-eb3Y   right\n",
       "3  sNabaB-eb3Y  dDtRnstrefE    left\n",
       "4  vX95JgKGu0o  wu4SU70w7LA    left\n",
       "5  SG2B7dIqbNQ  sNabaB-eb3Y   right\n",
       "6  rhjIStU0JvI  sNabaB-eb3Y   right\n",
       "7  axZ2xvYhOKw  vX95JgKGu0o    left\n",
       "8  bfU4rTa-PfQ  jpntOJ_xDJ0   right\n",
       "9  Lr4SS1zxRYg  QwpWaLrDHnU    left"
      ]
     },
     "execution_count": 111,
     "metadata": {},
     "output_type": "execute_result"
    }
   ],
   "source": [
    "train = pd.read_csv(\"../data/processed/comedy_comparisons.train\")\n",
    "train.head(10)"
   ]
  },
  {
   "cell_type": "code",
   "execution_count": 112,
   "metadata": {
    "collapsed": false
   },
   "outputs": [
    {
     "data": {
      "text/plain": [
       "378581"
      ]
     },
     "execution_count": 112,
     "metadata": {},
     "output_type": "execute_result"
    }
   ],
   "source": [
    "len(train)"
   ]
  },
  {
   "cell_type": "code",
   "execution_count": 113,
   "metadata": {
    "collapsed": false
   },
   "outputs": [
    {
     "data": {
      "text/plain": [
       "--epPVcv4W0     5.0\n",
       "--u9JclfPz0    10.0\n",
       "-1IzPnh43FQ     4.0\n",
       "-1Ud2FdJ8NQ     2.0\n",
       "-3P57xi7jMA     7.0\n",
       "-3lppfJv8IQ    76.0\n",
       "-4hsU6uYaoQ     1.0\n",
       "-52cU8PfI_c     9.0\n",
       "-6epnDtbAVc     8.0\n",
       "-6uhqfHipds     1.0\n",
       "dtype: float64"
      ]
     },
     "execution_count": 113,
     "metadata": {},
     "output_type": "execute_result"
    }
   ],
   "source": [
    "better1 = train[train.funnier == 'left'].video_id1.sort_index().value_counts()\n",
    "better2 = train[train.funnier == 'right'].video_id2.sort_index().value_counts()\n",
    "better = better1.add(better2, fill_value=0).sort_index()\n",
    "worse1 = train[train.funnier == 'right'].video_id1.sort_index().value_counts()\n",
    "worse2 = train[train.funnier == 'left'].video_id2.sort_index().value_counts()\n",
    "worse = worse1.add(worse2, fill_value=0).sort_index()\n",
    "\n",
    "better.head(10).sort_index()"
   ]
  },
  {
   "cell_type": "code",
   "execution_count": 114,
   "metadata": {
    "collapsed": false
   },
   "outputs": [
    {
     "data": {
      "text/plain": [
       "--epPVcv4W0     4.0\n",
       "--u9JclfPz0    18.0\n",
       "-0_iw2b9fXY     2.0\n",
       "-0lrQdFmL9U     2.0\n",
       "-1IzPnh43FQ     6.0\n",
       "-1Ud2FdJ8NQ     3.0\n",
       "-2Tn70_1OA8     2.0\n",
       "-3g_ENHcvGY     1.0\n",
       "-3lppfJv8IQ    57.0\n",
       "-4hsU6uYaoQ     2.0\n",
       "dtype: float64"
      ]
     },
     "execution_count": 114,
     "metadata": {},
     "output_type": "execute_result"
    }
   ],
   "source": [
    "worse.head(10).sort_index()"
   ]
  },
  {
   "cell_type": "code",
   "execution_count": 115,
   "metadata": {
    "collapsed": false
   },
   "outputs": [],
   "source": [
    "score = better.subtract(worse, fill_value=0).sort_index()"
   ]
  },
  {
   "cell_type": "code",
   "execution_count": 116,
   "metadata": {
    "collapsed": false
   },
   "outputs": [
    {
     "data": {
      "text/plain": [
       "--epPVcv4W0     1.0\n",
       "--u9JclfPz0    -8.0\n",
       "-0_iw2b9fXY    -2.0\n",
       "-0lrQdFmL9U    -2.0\n",
       "-1IzPnh43FQ    -2.0\n",
       "-1Ud2FdJ8NQ    -1.0\n",
       "-2Tn70_1OA8    -2.0\n",
       "-3P57xi7jMA     7.0\n",
       "-3g_ENHcvGY    -1.0\n",
       "-3lppfJv8IQ    19.0\n",
       "dtype: float64"
      ]
     },
     "execution_count": 116,
     "metadata": {},
     "output_type": "execute_result"
    }
   ],
   "source": [
    "score.head(10)"
   ]
  },
  {
   "cell_type": "code",
   "execution_count": 117,
   "metadata": {
    "collapsed": false
   },
   "outputs": [],
   "source": [
    "max_score = score.abs().max()"
   ]
  },
  {
   "cell_type": "code",
   "execution_count": 118,
   "metadata": {
    "collapsed": false
   },
   "outputs": [],
   "source": [
    "norm_score = score/max_score"
   ]
  },
  {
   "cell_type": "code",
   "execution_count": null,
   "metadata": {
    "collapsed": false
   },
   "outputs": [],
   "source": []
  },
  {
   "cell_type": "code",
   "execution_count": 119,
   "metadata": {
    "collapsed": false
   },
   "outputs": [
    {
     "data": {
      "text/plain": [
       "W9y6nwBwwyQ    0.9718\n",
       "dtype: float64"
      ]
     },
     "execution_count": 119,
     "metadata": {},
     "output_type": "execute_result"
    }
   ],
   "source": [
    "# Funniest video\n",
    "norm_score[norm_score == norm_score.max()]"
   ]
  },
  {
   "cell_type": "code",
   "execution_count": 120,
   "metadata": {
    "collapsed": false
   },
   "outputs": [
    {
     "data": {
      "text/plain": [
       "u2-od4n5Xl0   -1.0\n",
       "dtype: float64"
      ]
     },
     "execution_count": 120,
     "metadata": {},
     "output_type": "execute_result"
    }
   ],
   "source": [
    "# Least funny video\n",
    "norm_score[norm_score == norm_score.min()]"
   ]
  },
  {
   "cell_type": "code",
   "execution_count": 121,
   "metadata": {
    "collapsed": false
   },
   "outputs": [
    {
     "data": {
      "text/plain": [
       "--epPVcv4W0    0.000317\n",
       "--u9JclfPz0   -0.002535\n",
       "-0_iw2b9fXY   -0.000634\n",
       "-0lrQdFmL9U   -0.000634\n",
       "-1IzPnh43FQ   -0.000634\n",
       "-1Ud2FdJ8NQ   -0.000317\n",
       "-2Tn70_1OA8   -0.000634\n",
       "-3P57xi7jMA    0.002218\n",
       "-3g_ENHcvGY   -0.000317\n",
       "-3lppfJv8IQ    0.006020\n",
       "-4hsU6uYaoQ   -0.000317\n",
       "-52cU8PfI_c   -0.002218\n",
       "-6epnDtbAVc   -0.003169\n",
       "-6uhqfHipds    0.000000\n",
       "-6wg0oPq4Qc   -0.000317\n",
       "-8BnoTHRS9M   -0.000951\n",
       "-8CKVL3LlGQ    0.000634\n",
       "-8MEVVU3bxM    0.006337\n",
       "-8_QMNVtt14    0.001584\n",
       "-8cYeAr814w    0.012991\n",
       "-8fA0MsDNko   -0.000317\n",
       "-9Del2eYT4Q    0.000951\n",
       "-9JcOZlMlLY   -0.000317\n",
       "-AXQjpHE5bs   -0.001584\n",
       "-AZsrDqF83A   -0.002218\n",
       "-BkQeX31eyc    0.006337\n",
       "-C_DvhFroIk   -0.004119\n",
       "-DNya705PQY   -0.000634\n",
       "-EYgRWZ04s4   -0.000317\n",
       "-EnwTmCo4ro   -0.000317\n",
       "                 ...   \n",
       "zjMIrpBTj1E   -0.001267\n",
       "zjOrgzEUGto   -0.000317\n",
       "zjgJRokMhaM   -0.000317\n",
       "zjtdpnTGqMo   -0.000317\n",
       "zkFNBN8AhzU   -0.002535\n",
       "zkUjjZQyNQY   -0.000634\n",
       "zmbElXDau_Q   -0.000317\n",
       "znDI9UpFYKE    0.000317\n",
       "zpmF8fSTmZo   -0.001901\n",
       "zq97eUnf7fY    0.000317\n",
       "zqAC9eZk6bA   -0.001901\n",
       "zqF48-0xl00    0.000317\n",
       "zqx6RDT57ow   -0.000317\n",
       "zsrWAdmxLR4    0.000000\n",
       "zsz1cmX1CKQ    0.000000\n",
       "zt7iwmgGfIc    0.001267\n",
       "ztaeyxIBdyE    0.000000\n",
       "ztpiMnjisyE    0.001584\n",
       "zuv41P6xRYA   -0.000634\n",
       "zv0H0dt6kaY   -0.001584\n",
       "zv1zjoM75e8    0.000951\n",
       "zv750BWrUhY    0.001901\n",
       "zvMkIQKroM0   -0.000317\n",
       "zyJ0hWjFme8   -0.000317\n",
       "zyVaOgXWTk8    0.000000\n",
       "zyrMl2RKPwI   -0.006020\n",
       "zzSpPaCIG0g   -0.001267\n",
       "zzYowVIAaHo   -0.002535\n",
       "zzglj-x9qjQ    0.000634\n",
       "zzokIDh7Asc    0.000634\n",
       "dtype: float64"
      ]
     },
     "execution_count": 121,
     "metadata": {},
     "output_type": "execute_result"
    }
   ],
   "source": [
    "norm_score"
   ]
  },
  {
   "cell_type": "code",
   "execution_count": 125,
   "metadata": {
    "collapsed": false
   },
   "outputs": [
    {
     "data": {
      "text/plain": [
       "<matplotlib.axes._subplots.AxesSubplot at 0x22e3345c0>"
      ]
     },
     "execution_count": 125,
     "metadata": {},
     "output_type": "execute_result"
    },
    {
     "data": {
      "image/png": "[encoded data removed]",
      "text/plain": [
       "<matplotlib.figure.Figure at 0x22debd6d8>"
      ]
     },
     "metadata": {},
     "output_type": "display_data"
    }
   ],
   "source": [
    "sns.set(color_codes=True)\n",
    "sns.distplot(norm_score, bins=1000, kde=False, rug=True)"
   ]
  },
  {
   "cell_type": "code",
   "execution_count": 126,
   "metadata": {
    "collapsed": false
   },
   "outputs": [
    {
     "data": {
      "text/plain": [
       "<matplotlib.axes._subplots.AxesSubplot at 0x258f06208>"
      ]
     },
     "execution_count": 126,
     "metadata": {},
     "output_type": "execute_result"
    },
    {
     "data": {
      "image/png": "[encoded data removed]",
      "text/plain": [
       "<matplotlib.figure.Figure at 0x1d943ea90>"
      ]
     },
     "metadata": {},
     "output_type": "display_data"
    }
   ],
   "source": [
    "sns.boxplot(norm_score)"
   ]
  },
  {
   "cell_type": "code",
   "execution_count": 127,
   "metadata": {
    "collapsed": false
   },
   "outputs": [
    {
     "data": {
      "text/plain": [
       "<matplotlib.axes._subplots.AxesSubplot at 0x2599678d0>"
      ]
     },
     "execution_count": 127,
     "metadata": {},
     "output_type": "execute_result"
    },
    {
     "data": {
      "image/png": "[encoded data removed]",
      "text/plain": [
       "<matplotlib.figure.Figure at 0x2599ed438>"
      ]
     },
     "metadata": {},
     "output_type": "display_data"
    }
   ],
   "source": [
    "sns.boxplot(score)"
   ]
  },
  {
   "cell_type": "code",
   "execution_count": 129,
   "metadata": {
    "collapsed": false
   },
   "outputs": [
    {
     "data": {
      "text/html": [
       "<div>\n",
       "<table border=\"1\" class=\"dataframe\">\n",
       "  <thead>\n",
       "    <tr style=\"text-align: right;\">\n",
       "      <th></th>\n",
       "      <th>videoId</th>\n",
       "      <th>textDisplay</th>\n",
       "      <th>isReplyTo</th>\n",
       "      <th>canReply</th>\n",
       "      <th>totalReplyCount</th>\n",
       "      <th>kind</th>\n",
       "      <th>etag</th>\n",
       "      <th>id</th>\n",
       "      <th>authorChannelId</th>\n",
       "      <th>authorDisplayName</th>\n",
       "      <th>likeCount</th>\n",
       "      <th>publishedAt</th>\n",
       "      <th>updatedAt</th>\n",
       "      <th>viewerRating</th>\n",
       "    </tr>\n",
       "  </thead>\n",
       "  <tbody>\n",
       "    <tr>\n",
       "      <th>0</th>\n",
       "      <td>sNabaB-eb3Y</td>\n",
       "      <td>They should made this as a double prank.. when...</td>\n",
       "      <td>NaN</td>\n",
       "      <td>NaN</td>\n",
       "      <td>0</td>\n",
       "      <td>youtube#commentThread</td>\n",
       "      <td>\"I_8xdZu766_FSaexEaDXTIfEWc0/_aVRgxW14TFYS3sZy...</td>\n",
       "      <td>z23vvfnwmozww3ukvacdp433u2l5tjjzue32obodyxlw03...</td>\n",
       "      <td>{'value': 'UCDjudKsbl2T2KeanD-nrKXw'}</td>\n",
       "      <td>Grise Blacolar</td>\n",
       "      <td>0</td>\n",
       "      <td>2013-05-15T16:41:33.000Z</td>\n",
       "      <td>2013-05-15T16:41:33.000Z</td>\n",
       "      <td>none</td>\n",
       "    </tr>\n",
       "    <tr>\n",
       "      <th>1</th>\n",
       "      <td>sNabaB-eb3Y</td>\n",
       "      <td>People are friendlier here than in other state...</td>\n",
       "      <td>NaN</td>\n",
       "      <td>NaN</td>\n",
       "      <td>0</td>\n",
       "      <td>youtube#commentThread</td>\n",
       "      <td>\"I_8xdZu766_FSaexEaDXTIfEWc0/AOKhrA3U9J8iGUkun...</td>\n",
       "      <td>z22uxrrpaxiuyj5ri04t1aokg2ftoiu5vmacden0g5hzbk...</td>\n",
       "      <td>{'value': 'UCLBkXylBjiV0mN1dNhjIRbg'}</td>\n",
       "      <td>alphacino</td>\n",
       "      <td>0</td>\n",
       "      <td>2012-11-04T16:32:45.000Z</td>\n",
       "      <td>2012-11-04T16:32:45.000Z</td>\n",
       "      <td>none</td>\n",
       "    </tr>\n",
       "    <tr>\n",
       "      <th>2</th>\n",
       "      <td>sNabaB-eb3Y</td>\n",
       "      <td>I do live in Texas, how did you guess?!?!?!?!﻿</td>\n",
       "      <td>NaN</td>\n",
       "      <td>NaN</td>\n",
       "      <td>0</td>\n",
       "      <td>youtube#commentThread</td>\n",
       "      <td>\"I_8xdZu766_FSaexEaDXTIfEWc0/gxMEOZY-YvfKneJSI...</td>\n",
       "      <td>z222innj3rmgxhlzp04t1aokg5c1sf24ibuxgughzte0rk...</td>\n",
       "      <td>{'value': 'UCXc-CFxsN7iXSL6X4-dDfYQ'}</td>\n",
       "      <td>Lumilan</td>\n",
       "      <td>0</td>\n",
       "      <td>2012-11-04T16:21:29.000Z</td>\n",
       "      <td>2012-11-04T16:21:29.000Z</td>\n",
       "      <td>none</td>\n",
       "    </tr>\n",
       "    <tr>\n",
       "      <th>3</th>\n",
       "      <td>sNabaB-eb3Y</td>\n",
       "      <td>you mist live in texas. or maybe new york. you...</td>\n",
       "      <td>NaN</td>\n",
       "      <td>NaN</td>\n",
       "      <td>0</td>\n",
       "      <td>youtube#commentThread</td>\n",
       "      <td>\"I_8xdZu766_FSaexEaDXTIfEWc0/K88xlkocl8TtWTMMt...</td>\n",
       "      <td>z22uxrrpaxiuyj5ri04t1aokgvgnbgrn4ewpkvjulgacrk...</td>\n",
       "      <td>{'value': 'UCLBkXylBjiV0mN1dNhjIRbg'}</td>\n",
       "      <td>alphacino</td>\n",
       "      <td>0</td>\n",
       "      <td>2012-11-04T13:43:51.000Z</td>\n",
       "      <td>2012-11-04T13:43:51.000Z</td>\n",
       "      <td>none</td>\n",
       "    </tr>\n",
       "    <tr>\n",
       "      <th>4</th>\n",
       "      <td>sNabaB-eb3Y</td>\n",
       "      <td>They should have just opened the door with the...</td>\n",
       "      <td>NaN</td>\n",
       "      <td>NaN</td>\n",
       "      <td>0</td>\n",
       "      <td>youtube#commentThread</td>\n",
       "      <td>\"I_8xdZu766_FSaexEaDXTIfEWc0/3NozddevGyZcalCaO...</td>\n",
       "      <td>z23tdtdihp3sz3emtacdp43afln2va1zwj4c2wnmljxw03...</td>\n",
       "      <td>{'value': 'UCY8-Q3GTP-a4yZ99GpG4Qww'}</td>\n",
       "      <td>PandaMagicFTW</td>\n",
       "      <td>0</td>\n",
       "      <td>2012-10-02T21:35:52.000Z</td>\n",
       "      <td>2012-10-02T21:35:52.000Z</td>\n",
       "      <td>none</td>\n",
       "    </tr>\n",
       "    <tr>\n",
       "      <th>5</th>\n",
       "      <td>sNabaB-eb3Y</td>\n",
       "      <td>i love the music on JFL﻿</td>\n",
       "      <td>NaN</td>\n",
       "      <td>NaN</td>\n",
       "      <td>0</td>\n",
       "      <td>youtube#commentThread</td>\n",
       "      <td>\"I_8xdZu766_FSaexEaDXTIfEWc0/IRtPfKJcI4PawitZJ...</td>\n",
       "      <td>z23nebibyze2cb3pn04t1aokgkzznfqtt5wqaf5ebm3nbk...</td>\n",
       "      <td>{'value': 'UCXX6ufMotDsRRMj_1BiBk_w'}</td>\n",
       "      <td>kimmyw010</td>\n",
       "      <td>0</td>\n",
       "      <td>2012-08-25T04:50:19.000Z</td>\n",
       "      <td>2012-08-25T04:50:19.000Z</td>\n",
       "      <td>none</td>\n",
       "    </tr>\n",
       "    <tr>\n",
       "      <th>6</th>\n",
       "      <td>sNabaB-eb3Y</td>\n",
       "      <td>It has 6 human power﻿</td>\n",
       "      <td>NaN</td>\n",
       "      <td>NaN</td>\n",
       "      <td>0</td>\n",
       "      <td>youtube#commentThread</td>\n",
       "      <td>\"I_8xdZu766_FSaexEaDXTIfEWc0/mi6gcIdUHEWkn0TKZ...</td>\n",
       "      <td>z23pzpz5vvmrjji0facdp4350cxxomrhh0vdeykuf4tw03...</td>\n",
       "      <td>{'value': 'UCbigvKFMTwsUX1FBhvYY6Tg'}</td>\n",
       "      <td>SlickR12345</td>\n",
       "      <td>0</td>\n",
       "      <td>2012-06-26T12:59:15.000Z</td>\n",
       "      <td>2012-06-26T12:59:15.000Z</td>\n",
       "      <td>none</td>\n",
       "    </tr>\n",
       "    <tr>\n",
       "      <th>7</th>\n",
       "      <td>sNabaB-eb3Y</td>\n",
       "      <td>JustForLaughs is like an institution. Loads of...</td>\n",
       "      <td>NaN</td>\n",
       "      <td>NaN</td>\n",
       "      <td>0</td>\n",
       "      <td>youtube#commentThread</td>\n",
       "      <td>\"I_8xdZu766_FSaexEaDXTIfEWc0/d1OXVB16zaiNit0kA...</td>\n",
       "      <td>z22yjr1grzrdeviap04t1aokgb1oyubgsfvzaxkrilrgbk...</td>\n",
       "      <td>{'value': 'UCS3Ri5tvGweVXwzUDGd-8RQ'}</td>\n",
       "      <td>TheCulturalBomb</td>\n",
       "      <td>0</td>\n",
       "      <td>2012-06-20T02:17:52.000Z</td>\n",
       "      <td>2012-06-20T02:17:52.000Z</td>\n",
       "      <td>none</td>\n",
       "    </tr>\n",
       "    <tr>\n",
       "      <th>8</th>\n",
       "      <td>sNabaB-eb3Y</td>\n",
       "      <td>thumbs up if you saw the lauriel and hardy pos...</td>\n",
       "      <td>NaN</td>\n",
       "      <td>NaN</td>\n",
       "      <td>0</td>\n",
       "      <td>youtube#commentThread</td>\n",
       "      <td>\"I_8xdZu766_FSaexEaDXTIfEWc0/vqHiKYG7jh576wOsi...</td>\n",
       "      <td>z224tfyjmkrjhffqm04t1aokgr10lkpvdkr5hv23chkebk...</td>\n",
       "      <td>{'value': 'UCih6jccG8q_rVCkqRcm3avQ'}</td>\n",
       "      <td>MiguelBug</td>\n",
       "      <td>0</td>\n",
       "      <td>2012-05-16T13:22:37.000Z</td>\n",
       "      <td>2012-05-16T13:22:37.000Z</td>\n",
       "      <td>none</td>\n",
       "    </tr>\n",
       "    <tr>\n",
       "      <th>9</th>\n",
       "      <td>sNabaB-eb3Y</td>\n",
       "      <td>look at the shape of the key @1:11....lol lol ...</td>\n",
       "      <td>NaN</td>\n",
       "      <td>NaN</td>\n",
       "      <td>0</td>\n",
       "      <td>youtube#commentThread</td>\n",
       "      <td>\"I_8xdZu766_FSaexEaDXTIfEWc0/xzPbrBd0AJEttdE_c...</td>\n",
       "      <td>z23qjnzo2xz0ujr4a04t1aokggyigqzp4h4hecowxdz2rk...</td>\n",
       "      <td>{'value': 'UCCWyqVEPJS3v53ggTYfRGNA'}</td>\n",
       "      <td>varkyjas10</td>\n",
       "      <td>0</td>\n",
       "      <td>2012-03-27T10:05:55.000Z</td>\n",
       "      <td>2012-03-27T10:05:55.000Z</td>\n",
       "      <td>none</td>\n",
       "    </tr>\n",
       "  </tbody>\n",
       "</table>\n",
       "</div>"
      ],
      "text/plain": [
       "       videoId                                        textDisplay isReplyTo  \\\n",
       "0  sNabaB-eb3Y  They should made this as a double prank.. when...       NaN   \n",
       "1  sNabaB-eb3Y  People are friendlier here than in other state...       NaN   \n",
       "2  sNabaB-eb3Y     I do live in Texas, how did you guess?!?!?!?!﻿       NaN   \n",
       "3  sNabaB-eb3Y  you mist live in texas. or maybe new york. you...       NaN   \n",
       "4  sNabaB-eb3Y  They should have just opened the door with the...       NaN   \n",
       "5  sNabaB-eb3Y                           i love the music on JFL﻿       NaN   \n",
       "6  sNabaB-eb3Y                              It has 6 human power﻿       NaN   \n",
       "7  sNabaB-eb3Y  JustForLaughs is like an institution. Loads of...       NaN   \n",
       "8  sNabaB-eb3Y  thumbs up if you saw the lauriel and hardy pos...       NaN   \n",
       "9  sNabaB-eb3Y  look at the shape of the key @1:11....lol lol ...       NaN   \n",
       "\n",
       "  canReply totalReplyCount                   kind  \\\n",
       "0      NaN               0  youtube#commentThread   \n",
       "1      NaN               0  youtube#commentThread   \n",
       "2      NaN               0  youtube#commentThread   \n",
       "3      NaN               0  youtube#commentThread   \n",
       "4      NaN               0  youtube#commentThread   \n",
       "5      NaN               0  youtube#commentThread   \n",
       "6      NaN               0  youtube#commentThread   \n",
       "7      NaN               0  youtube#commentThread   \n",
       "8      NaN               0  youtube#commentThread   \n",
       "9      NaN               0  youtube#commentThread   \n",
       "\n",
       "                                                etag  \\\n",
       "0  \"I_8xdZu766_FSaexEaDXTIfEWc0/_aVRgxW14TFYS3sZy...   \n",
       "1  \"I_8xdZu766_FSaexEaDXTIfEWc0/AOKhrA3U9J8iGUkun...   \n",
       "2  \"I_8xdZu766_FSaexEaDXTIfEWc0/gxMEOZY-YvfKneJSI...   \n",
       "3  \"I_8xdZu766_FSaexEaDXTIfEWc0/K88xlkocl8TtWTMMt...   \n",
       "4  \"I_8xdZu766_FSaexEaDXTIfEWc0/3NozddevGyZcalCaO...   \n",
       "5  \"I_8xdZu766_FSaexEaDXTIfEWc0/IRtPfKJcI4PawitZJ...   \n",
       "6  \"I_8xdZu766_FSaexEaDXTIfEWc0/mi6gcIdUHEWkn0TKZ...   \n",
       "7  \"I_8xdZu766_FSaexEaDXTIfEWc0/d1OXVB16zaiNit0kA...   \n",
       "8  \"I_8xdZu766_FSaexEaDXTIfEWc0/vqHiKYG7jh576wOsi...   \n",
       "9  \"I_8xdZu766_FSaexEaDXTIfEWc0/xzPbrBd0AJEttdE_c...   \n",
       "\n",
       "                                                  id  \\\n",
       "0  z23vvfnwmozww3ukvacdp433u2l5tjjzue32obodyxlw03...   \n",
       "1  z22uxrrpaxiuyj5ri04t1aokg2ftoiu5vmacden0g5hzbk...   \n",
       "2  z222innj3rmgxhlzp04t1aokg5c1sf24ibuxgughzte0rk...   \n",
       "3  z22uxrrpaxiuyj5ri04t1aokgvgnbgrn4ewpkvjulgacrk...   \n",
       "4  z23tdtdihp3sz3emtacdp43afln2va1zwj4c2wnmljxw03...   \n",
       "5  z23nebibyze2cb3pn04t1aokgkzznfqtt5wqaf5ebm3nbk...   \n",
       "6  z23pzpz5vvmrjji0facdp4350cxxomrhh0vdeykuf4tw03...   \n",
       "7  z22yjr1grzrdeviap04t1aokgb1oyubgsfvzaxkrilrgbk...   \n",
       "8  z224tfyjmkrjhffqm04t1aokgr10lkpvdkr5hv23chkebk...   \n",
       "9  z23qjnzo2xz0ujr4a04t1aokggyigqzp4h4hecowxdz2rk...   \n",
       "\n",
       "                         authorChannelId authorDisplayName likeCount  \\\n",
       "0  {'value': 'UCDjudKsbl2T2KeanD-nrKXw'}    Grise Blacolar         0   \n",
       "1  {'value': 'UCLBkXylBjiV0mN1dNhjIRbg'}         alphacino         0   \n",
       "2  {'value': 'UCXc-CFxsN7iXSL6X4-dDfYQ'}           Lumilan         0   \n",
       "3  {'value': 'UCLBkXylBjiV0mN1dNhjIRbg'}         alphacino         0   \n",
       "4  {'value': 'UCY8-Q3GTP-a4yZ99GpG4Qww'}     PandaMagicFTW         0   \n",
       "5  {'value': 'UCXX6ufMotDsRRMj_1BiBk_w'}         kimmyw010         0   \n",
       "6  {'value': 'UCbigvKFMTwsUX1FBhvYY6Tg'}       SlickR12345         0   \n",
       "7  {'value': 'UCS3Ri5tvGweVXwzUDGd-8RQ'}   TheCulturalBomb         0   \n",
       "8  {'value': 'UCih6jccG8q_rVCkqRcm3avQ'}         MiguelBug         0   \n",
       "9  {'value': 'UCCWyqVEPJS3v53ggTYfRGNA'}        varkyjas10         0   \n",
       "\n",
       "                publishedAt                 updatedAt viewerRating  \n",
       "0  2013-05-15T16:41:33.000Z  2013-05-15T16:41:33.000Z         none  \n",
       "1  2012-11-04T16:32:45.000Z  2012-11-04T16:32:45.000Z         none  \n",
       "2  2012-11-04T16:21:29.000Z  2012-11-04T16:21:29.000Z         none  \n",
       "3  2012-11-04T13:43:51.000Z  2012-11-04T13:43:51.000Z         none  \n",
       "4  2012-10-02T21:35:52.000Z  2012-10-02T21:35:52.000Z         none  \n",
       "5  2012-08-25T04:50:19.000Z  2012-08-25T04:50:19.000Z         none  \n",
       "6  2012-06-26T12:59:15.000Z  2012-06-26T12:59:15.000Z         none  \n",
       "7  2012-06-20T02:17:52.000Z  2012-06-20T02:17:52.000Z         none  \n",
       "8  2012-05-16T13:22:37.000Z  2012-05-16T13:22:37.000Z         none  \n",
       "9  2012-03-27T10:05:55.000Z  2012-03-27T10:05:55.000Z         none  "
      ]
     },
     "execution_count": 129,
     "metadata": {},
     "output_type": "execute_result"
    }
   ],
   "source": [
    "data.head(10)"
   ]
  },
  {
   "cell_type": "code",
   "execution_count": null,
   "metadata": {
    "collapsed": true
   },
   "outputs": [],
   "source": []
  }
 ],
 "metadata": {
  "kernelspec": {
   "display_name": "Python 3",
   "language": "python",
   "name": "python3"
  },
  "language_info": {
   "codemirror_mode": {
    "name": "ipython",
    "version": 3
   },
   "file_extension": ".py",
   "mimetype": "text/x-python",
   "name": "python",
   "nbconvert_exporter": "python",
   "pygments_lexer": "ipython3",
   "version": "3.5.2"
  }
 },
 "nbformat": 4,
 "nbformat_minor": 0
}
