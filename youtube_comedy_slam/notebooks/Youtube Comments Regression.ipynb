{
 "cells": [
  {
   "cell_type": "code",
   "execution_count": 1,
   "metadata": {
    "collapsed": true
   },
   "outputs": [],
   "source": [
    "%matplotlib inline\n",
    "import matplotlib.pyplot as plt\n",
    "import pandas as pd\n",
    "import logging\n",
    "logging.basicConfig(format='%(asctime)s : %(levelname)s : %(message)s', level=logging.INFO)\n",
    "import gensim\n",
    "from gensim import corpora\n",
    "from gensim.utils import smart_open, simple_preprocess\n",
    "from gensim.parsing.preprocessing import STOPWORDS\n",
    "from sklearn import cross_validation\n",
    "from sklearn import linear_model\n",
    "from sklearn.metrics import r2_score, mean_squared_error\n",
    "from tqdm import tqdm, tqdm_notebook, tnrange\n",
    "from sklearn.externals import joblib"
   ]
  },
  {
   "cell_type": "code",
   "execution_count": 2,
   "metadata": {
    "collapsed": true
   },
   "outputs": [],
   "source": [
    "train = pd.read_csv(\"../data/processed/comedy_comparisons.train\")\n",
    "test = pd.read_csv(\"../data/processed/comedy_comparisons.test\")"
   ]
  },
  {
   "cell_type": "code",
   "execution_count": 3,
   "metadata": {
    "collapsed": true
   },
   "outputs": [],
   "source": [
    "def feature_sum_score(dataset_df):\n",
    "    \"\"\"\n",
    "    This functions creates a score for each video which is the sum(better)-sum(worse)\n",
    "    :param dataset_df: The dataset panda dataframe\n",
    "    :return: Normalized series with the final score [-1..1] and the video_id's as index\n",
    "    \"\"\"\n",
    "    better1 = dataset_df[dataset_df.funnier == 'left'].video_id1.sort_index().value_counts()\n",
    "    better2 = dataset_df[dataset_df.funnier == 'right'].video_id2.sort_index().value_counts()\n",
    "    better = better1.add(better2, fill_value=0).sort_index()\n",
    "    worse1 = dataset_df[dataset_df.funnier == 'right'].video_id1.sort_index().value_counts()\n",
    "    worse2 = dataset_df[dataset_df.funnier == 'left'].video_id2.sort_index().value_counts()\n",
    "    worse = worse1.add(worse2, fill_value=0).sort_index()\n",
    "    score = better.subtract(worse, fill_value=0).sort_index()\n",
    "    max_score = score.abs().max()\n",
    "    assert max_score != 0\n",
    "    norm_score = score / max_score\n",
    "\n",
    "    return norm_score"
   ]
  },
  {
   "cell_type": "code",
   "execution_count": 4,
   "metadata": {
    "collapsed": true
   },
   "outputs": [],
   "source": [
    "score_train = feature_sum_score(train)\n",
    "score_test = feature_sum_score(test)"
   ]
  },
  {
   "cell_type": "code",
   "execution_count": 5,
   "metadata": {
    "collapsed": false
   },
   "outputs": [],
   "source": [
    "def get_corpus(df, dictionary, pbar=None):\n",
    "    corpus = []\n",
    "    df1 = {}\n",
    "    for i, row in enumerate(df.itertuples()):\n",
    "        curbow = dictionary.doc2bow(tokenize(row.textDisplay))\n",
    "        corpus.append(curbow)\n",
    "        if not pbar is None:\n",
    "            pbar.update(1)\n",
    "    #corpus['score'] = get_label(df, score, dictionary)\n",
    "    return corpus"
   ]
  },
  {
   "cell_type": "code",
   "execution_count": 6,
   "metadata": {
    "collapsed": true
   },
   "outputs": [],
   "source": [
    "def get_label(df, score, dictionary):\n",
    "    label = []\n",
    "    for i, row in enumerate(df.itertuples()):\n",
    "        if row.videoId in score:\n",
    "            label.append(score[row.videoId])\n",
    "        else:\n",
    "            label.append(0)\n",
    "    return label"
   ]
  },
  {
   "cell_type": "code",
   "execution_count": 7,
   "metadata": {
    "collapsed": false,
    "scrolled": true
   },
   "outputs": [
    {
     "name": "stderr",
     "output_type": "stream",
     "text": [
      "/usr/local/lib/python3.5/site-packages/IPython/core/interactiveshell.py:2723: DtypeWarning: Columns (3,4,5,11) have mixed types. Specify dtype option on import or set low_memory=False.\n",
      "  interactivity=interactivity, compiler=compiler, result=result)\n"
     ]
    },
    {
     "data": {
      "text/html": [
       "<div>\n",
       "<table border=\"1\" class=\"dataframe\">\n",
       "  <thead>\n",
       "    <tr style=\"text-align: right;\">\n",
       "      <th></th>\n",
       "      <th>Unnamed: 0</th>\n",
       "      <th>videoId</th>\n",
       "      <th>textDisplay</th>\n",
       "      <th>isReplyTo</th>\n",
       "      <th>canReply</th>\n",
       "      <th>totalReplyCount</th>\n",
       "      <th>kind</th>\n",
       "      <th>etag</th>\n",
       "      <th>id</th>\n",
       "      <th>authorChannelId</th>\n",
       "      <th>authorDisplayName</th>\n",
       "      <th>likeCount</th>\n",
       "      <th>publishedAt</th>\n",
       "      <th>updatedAt</th>\n",
       "      <th>viewerRating</th>\n",
       "      <th>language</th>\n",
       "    </tr>\n",
       "  </thead>\n",
       "  <tbody>\n",
       "    <tr>\n",
       "      <th>0</th>\n",
       "      <td>0</td>\n",
       "      <td>sNabaB-eb3Y</td>\n",
       "      <td>They should made this as a double prank.. when...</td>\n",
       "      <td>NaN</td>\n",
       "      <td>NaN</td>\n",
       "      <td>0</td>\n",
       "      <td>youtube#commentThread</td>\n",
       "      <td>\"I_8xdZu766_FSaexEaDXTIfEWc0/_aVRgxW14TFYS3sZy...</td>\n",
       "      <td>z23vvfnwmozww3ukvacdp433u2l5tjjzue32obodyxlw03...</td>\n",
       "      <td>{'value': 'UCDjudKsbl2T2KeanD-nrKXw'}</td>\n",
       "      <td>Grise Blacolar</td>\n",
       "      <td>0</td>\n",
       "      <td>2013-05-15T16:41:33.000Z</td>\n",
       "      <td>2013-05-15T16:41:33.000Z</td>\n",
       "      <td>none</td>\n",
       "      <td>en</td>\n",
       "    </tr>\n",
       "    <tr>\n",
       "      <th>1</th>\n",
       "      <td>1</td>\n",
       "      <td>sNabaB-eb3Y</td>\n",
       "      <td>People are friendlier here than in other state...</td>\n",
       "      <td>NaN</td>\n",
       "      <td>NaN</td>\n",
       "      <td>0</td>\n",
       "      <td>youtube#commentThread</td>\n",
       "      <td>\"I_8xdZu766_FSaexEaDXTIfEWc0/AOKhrA3U9J8iGUkun...</td>\n",
       "      <td>z22uxrrpaxiuyj5ri04t1aokg2ftoiu5vmacden0g5hzbk...</td>\n",
       "      <td>{'value': 'UCLBkXylBjiV0mN1dNhjIRbg'}</td>\n",
       "      <td>alphacino</td>\n",
       "      <td>0</td>\n",
       "      <td>2012-11-04T16:32:45.000Z</td>\n",
       "      <td>2012-11-04T16:32:45.000Z</td>\n",
       "      <td>none</td>\n",
       "      <td>en</td>\n",
       "    </tr>\n",
       "    <tr>\n",
       "      <th>2</th>\n",
       "      <td>2</td>\n",
       "      <td>sNabaB-eb3Y</td>\n",
       "      <td>I do live in Texas, how did you guess?!?!?!?!﻿</td>\n",
       "      <td>NaN</td>\n",
       "      <td>NaN</td>\n",
       "      <td>0</td>\n",
       "      <td>youtube#commentThread</td>\n",
       "      <td>\"I_8xdZu766_FSaexEaDXTIfEWc0/gxMEOZY-YvfKneJSI...</td>\n",
       "      <td>z222innj3rmgxhlzp04t1aokg5c1sf24ibuxgughzte0rk...</td>\n",
       "      <td>{'value': 'UCXc-CFxsN7iXSL6X4-dDfYQ'}</td>\n",
       "      <td>Lumilan</td>\n",
       "      <td>0</td>\n",
       "      <td>2012-11-04T16:21:29.000Z</td>\n",
       "      <td>2012-11-04T16:21:29.000Z</td>\n",
       "      <td>none</td>\n",
       "      <td>en</td>\n",
       "    </tr>\n",
       "    <tr>\n",
       "      <th>3</th>\n",
       "      <td>3</td>\n",
       "      <td>sNabaB-eb3Y</td>\n",
       "      <td>you mist live in texas. or maybe new york. you...</td>\n",
       "      <td>NaN</td>\n",
       "      <td>NaN</td>\n",
       "      <td>0</td>\n",
       "      <td>youtube#commentThread</td>\n",
       "      <td>\"I_8xdZu766_FSaexEaDXTIfEWc0/K88xlkocl8TtWTMMt...</td>\n",
       "      <td>z22uxrrpaxiuyj5ri04t1aokgvgnbgrn4ewpkvjulgacrk...</td>\n",
       "      <td>{'value': 'UCLBkXylBjiV0mN1dNhjIRbg'}</td>\n",
       "      <td>alphacino</td>\n",
       "      <td>0</td>\n",
       "      <td>2012-11-04T13:43:51.000Z</td>\n",
       "      <td>2012-11-04T13:43:51.000Z</td>\n",
       "      <td>none</td>\n",
       "      <td>en</td>\n",
       "    </tr>\n",
       "    <tr>\n",
       "      <th>4</th>\n",
       "      <td>4</td>\n",
       "      <td>sNabaB-eb3Y</td>\n",
       "      <td>They should have just opened the door with the...</td>\n",
       "      <td>NaN</td>\n",
       "      <td>NaN</td>\n",
       "      <td>0</td>\n",
       "      <td>youtube#commentThread</td>\n",
       "      <td>\"I_8xdZu766_FSaexEaDXTIfEWc0/3NozddevGyZcalCaO...</td>\n",
       "      <td>z23tdtdihp3sz3emtacdp43afln2va1zwj4c2wnmljxw03...</td>\n",
       "      <td>{'value': 'UCY8-Q3GTP-a4yZ99GpG4Qww'}</td>\n",
       "      <td>PandaMagicFTW</td>\n",
       "      <td>0</td>\n",
       "      <td>2012-10-02T21:35:52.000Z</td>\n",
       "      <td>2012-10-02T21:35:52.000Z</td>\n",
       "      <td>none</td>\n",
       "      <td>en</td>\n",
       "    </tr>\n",
       "    <tr>\n",
       "      <th>5</th>\n",
       "      <td>5</td>\n",
       "      <td>sNabaB-eb3Y</td>\n",
       "      <td>i love the music on JFL﻿</td>\n",
       "      <td>NaN</td>\n",
       "      <td>NaN</td>\n",
       "      <td>0</td>\n",
       "      <td>youtube#commentThread</td>\n",
       "      <td>\"I_8xdZu766_FSaexEaDXTIfEWc0/IRtPfKJcI4PawitZJ...</td>\n",
       "      <td>z23nebibyze2cb3pn04t1aokgkzznfqtt5wqaf5ebm3nbk...</td>\n",
       "      <td>{'value': 'UCXX6ufMotDsRRMj_1BiBk_w'}</td>\n",
       "      <td>kimmyw010</td>\n",
       "      <td>0</td>\n",
       "      <td>2012-08-25T04:50:19.000Z</td>\n",
       "      <td>2012-08-25T04:50:19.000Z</td>\n",
       "      <td>none</td>\n",
       "      <td>en</td>\n",
       "    </tr>\n",
       "    <tr>\n",
       "      <th>6</th>\n",
       "      <td>6</td>\n",
       "      <td>sNabaB-eb3Y</td>\n",
       "      <td>It has 6 human power﻿</td>\n",
       "      <td>NaN</td>\n",
       "      <td>NaN</td>\n",
       "      <td>0</td>\n",
       "      <td>youtube#commentThread</td>\n",
       "      <td>\"I_8xdZu766_FSaexEaDXTIfEWc0/mi6gcIdUHEWkn0TKZ...</td>\n",
       "      <td>z23pzpz5vvmrjji0facdp4350cxxomrhh0vdeykuf4tw03...</td>\n",
       "      <td>{'value': 'UCbigvKFMTwsUX1FBhvYY6Tg'}</td>\n",
       "      <td>SlickR12345</td>\n",
       "      <td>0</td>\n",
       "      <td>2012-06-26T12:59:15.000Z</td>\n",
       "      <td>2012-06-26T12:59:15.000Z</td>\n",
       "      <td>none</td>\n",
       "      <td>en</td>\n",
       "    </tr>\n",
       "    <tr>\n",
       "      <th>7</th>\n",
       "      <td>7</td>\n",
       "      <td>sNabaB-eb3Y</td>\n",
       "      <td>JustForLaughs is like an institution. Loads of...</td>\n",
       "      <td>NaN</td>\n",
       "      <td>NaN</td>\n",
       "      <td>0</td>\n",
       "      <td>youtube#commentThread</td>\n",
       "      <td>\"I_8xdZu766_FSaexEaDXTIfEWc0/d1OXVB16zaiNit0kA...</td>\n",
       "      <td>z22yjr1grzrdeviap04t1aokgb1oyubgsfvzaxkrilrgbk...</td>\n",
       "      <td>{'value': 'UCS3Ri5tvGweVXwzUDGd-8RQ'}</td>\n",
       "      <td>TheCulturalBomb</td>\n",
       "      <td>0</td>\n",
       "      <td>2012-06-20T02:17:52.000Z</td>\n",
       "      <td>2012-06-20T02:17:52.000Z</td>\n",
       "      <td>none</td>\n",
       "      <td>en</td>\n",
       "    </tr>\n",
       "    <tr>\n",
       "      <th>8</th>\n",
       "      <td>8</td>\n",
       "      <td>sNabaB-eb3Y</td>\n",
       "      <td>thumbs up if you saw the lauriel and hardy pos...</td>\n",
       "      <td>NaN</td>\n",
       "      <td>NaN</td>\n",
       "      <td>0</td>\n",
       "      <td>youtube#commentThread</td>\n",
       "      <td>\"I_8xdZu766_FSaexEaDXTIfEWc0/vqHiKYG7jh576wOsi...</td>\n",
       "      <td>z224tfyjmkrjhffqm04t1aokgr10lkpvdkr5hv23chkebk...</td>\n",
       "      <td>{'value': 'UCih6jccG8q_rVCkqRcm3avQ'}</td>\n",
       "      <td>MiguelBug</td>\n",
       "      <td>0</td>\n",
       "      <td>2012-05-16T13:22:37.000Z</td>\n",
       "      <td>2012-05-16T13:22:37.000Z</td>\n",
       "      <td>none</td>\n",
       "      <td>en</td>\n",
       "    </tr>\n",
       "    <tr>\n",
       "      <th>9</th>\n",
       "      <td>9</td>\n",
       "      <td>sNabaB-eb3Y</td>\n",
       "      <td>look at the shape of the key @1:11....lol lol ...</td>\n",
       "      <td>NaN</td>\n",
       "      <td>NaN</td>\n",
       "      <td>0</td>\n",
       "      <td>youtube#commentThread</td>\n",
       "      <td>\"I_8xdZu766_FSaexEaDXTIfEWc0/xzPbrBd0AJEttdE_c...</td>\n",
       "      <td>z23qjnzo2xz0ujr4a04t1aokggyigqzp4h4hecowxdz2rk...</td>\n",
       "      <td>{'value': 'UCCWyqVEPJS3v53ggTYfRGNA'}</td>\n",
       "      <td>varkyjas10</td>\n",
       "      <td>0</td>\n",
       "      <td>2012-03-27T10:05:55.000Z</td>\n",
       "      <td>2012-03-27T10:05:55.000Z</td>\n",
       "      <td>none</td>\n",
       "      <td>en</td>\n",
       "    </tr>\n",
       "  </tbody>\n",
       "</table>\n",
       "</div>"
      ],
      "text/plain": [
       "   Unnamed: 0      videoId                                        textDisplay  \\\n",
       "0           0  sNabaB-eb3Y  They should made this as a double prank.. when...   \n",
       "1           1  sNabaB-eb3Y  People are friendlier here than in other state...   \n",
       "2           2  sNabaB-eb3Y     I do live in Texas, how did you guess?!?!?!?!﻿   \n",
       "3           3  sNabaB-eb3Y  you mist live in texas. or maybe new york. you...   \n",
       "4           4  sNabaB-eb3Y  They should have just opened the door with the...   \n",
       "5           5  sNabaB-eb3Y                           i love the music on JFL﻿   \n",
       "6           6  sNabaB-eb3Y                              It has 6 human power﻿   \n",
       "7           7  sNabaB-eb3Y  JustForLaughs is like an institution. Loads of...   \n",
       "8           8  sNabaB-eb3Y  thumbs up if you saw the lauriel and hardy pos...   \n",
       "9           9  sNabaB-eb3Y  look at the shape of the key @1:11....lol lol ...   \n",
       "\n",
       "  isReplyTo canReply totalReplyCount                   kind  \\\n",
       "0       NaN      NaN               0  youtube#commentThread   \n",
       "1       NaN      NaN               0  youtube#commentThread   \n",
       "2       NaN      NaN               0  youtube#commentThread   \n",
       "3       NaN      NaN               0  youtube#commentThread   \n",
       "4       NaN      NaN               0  youtube#commentThread   \n",
       "5       NaN      NaN               0  youtube#commentThread   \n",
       "6       NaN      NaN               0  youtube#commentThread   \n",
       "7       NaN      NaN               0  youtube#commentThread   \n",
       "8       NaN      NaN               0  youtube#commentThread   \n",
       "9       NaN      NaN               0  youtube#commentThread   \n",
       "\n",
       "                                                etag  \\\n",
       "0  \"I_8xdZu766_FSaexEaDXTIfEWc0/_aVRgxW14TFYS3sZy...   \n",
       "1  \"I_8xdZu766_FSaexEaDXTIfEWc0/AOKhrA3U9J8iGUkun...   \n",
       "2  \"I_8xdZu766_FSaexEaDXTIfEWc0/gxMEOZY-YvfKneJSI...   \n",
       "3  \"I_8xdZu766_FSaexEaDXTIfEWc0/K88xlkocl8TtWTMMt...   \n",
       "4  \"I_8xdZu766_FSaexEaDXTIfEWc0/3NozddevGyZcalCaO...   \n",
       "5  \"I_8xdZu766_FSaexEaDXTIfEWc0/IRtPfKJcI4PawitZJ...   \n",
       "6  \"I_8xdZu766_FSaexEaDXTIfEWc0/mi6gcIdUHEWkn0TKZ...   \n",
       "7  \"I_8xdZu766_FSaexEaDXTIfEWc0/d1OXVB16zaiNit0kA...   \n",
       "8  \"I_8xdZu766_FSaexEaDXTIfEWc0/vqHiKYG7jh576wOsi...   \n",
       "9  \"I_8xdZu766_FSaexEaDXTIfEWc0/xzPbrBd0AJEttdE_c...   \n",
       "\n",
       "                                                  id  \\\n",
       "0  z23vvfnwmozww3ukvacdp433u2l5tjjzue32obodyxlw03...   \n",
       "1  z22uxrrpaxiuyj5ri04t1aokg2ftoiu5vmacden0g5hzbk...   \n",
       "2  z222innj3rmgxhlzp04t1aokg5c1sf24ibuxgughzte0rk...   \n",
       "3  z22uxrrpaxiuyj5ri04t1aokgvgnbgrn4ewpkvjulgacrk...   \n",
       "4  z23tdtdihp3sz3emtacdp43afln2va1zwj4c2wnmljxw03...   \n",
       "5  z23nebibyze2cb3pn04t1aokgkzznfqtt5wqaf5ebm3nbk...   \n",
       "6  z23pzpz5vvmrjji0facdp4350cxxomrhh0vdeykuf4tw03...   \n",
       "7  z22yjr1grzrdeviap04t1aokgb1oyubgsfvzaxkrilrgbk...   \n",
       "8  z224tfyjmkrjhffqm04t1aokgr10lkpvdkr5hv23chkebk...   \n",
       "9  z23qjnzo2xz0ujr4a04t1aokggyigqzp4h4hecowxdz2rk...   \n",
       "\n",
       "                         authorChannelId authorDisplayName likeCount  \\\n",
       "0  {'value': 'UCDjudKsbl2T2KeanD-nrKXw'}    Grise Blacolar         0   \n",
       "1  {'value': 'UCLBkXylBjiV0mN1dNhjIRbg'}         alphacino         0   \n",
       "2  {'value': 'UCXc-CFxsN7iXSL6X4-dDfYQ'}           Lumilan         0   \n",
       "3  {'value': 'UCLBkXylBjiV0mN1dNhjIRbg'}         alphacino         0   \n",
       "4  {'value': 'UCY8-Q3GTP-a4yZ99GpG4Qww'}     PandaMagicFTW         0   \n",
       "5  {'value': 'UCXX6ufMotDsRRMj_1BiBk_w'}         kimmyw010         0   \n",
       "6  {'value': 'UCbigvKFMTwsUX1FBhvYY6Tg'}       SlickR12345         0   \n",
       "7  {'value': 'UCS3Ri5tvGweVXwzUDGd-8RQ'}   TheCulturalBomb         0   \n",
       "8  {'value': 'UCih6jccG8q_rVCkqRcm3avQ'}         MiguelBug         0   \n",
       "9  {'value': 'UCCWyqVEPJS3v53ggTYfRGNA'}        varkyjas10         0   \n",
       "\n",
       "                publishedAt                 updatedAt viewerRating language  \n",
       "0  2013-05-15T16:41:33.000Z  2013-05-15T16:41:33.000Z         none       en  \n",
       "1  2012-11-04T16:32:45.000Z  2012-11-04T16:32:45.000Z         none       en  \n",
       "2  2012-11-04T16:21:29.000Z  2012-11-04T16:21:29.000Z         none       en  \n",
       "3  2012-11-04T13:43:51.000Z  2012-11-04T13:43:51.000Z         none       en  \n",
       "4  2012-10-02T21:35:52.000Z  2012-10-02T21:35:52.000Z         none       en  \n",
       "5  2012-08-25T04:50:19.000Z  2012-08-25T04:50:19.000Z         none       en  \n",
       "6  2012-06-26T12:59:15.000Z  2012-06-26T12:59:15.000Z         none       en  \n",
       "7  2012-06-20T02:17:52.000Z  2012-06-20T02:17:52.000Z         none       en  \n",
       "8  2012-05-16T13:22:37.000Z  2012-05-16T13:22:37.000Z         none       en  \n",
       "9  2012-03-27T10:05:55.000Z  2012-03-27T10:05:55.000Z         none       en  "
      ]
     },
     "execution_count": 7,
     "metadata": {},
     "output_type": "execute_result"
    }
   ],
   "source": [
    "data = pd.read_csv(\"../data/processed/train_dataset_with_lang_feature.csv\")\n",
    "data_en = data[data.language == 'en']\n",
    "len(data_en)\n",
    "data_en.head(10)"
   ]
  },
  {
   "cell_type": "code",
   "execution_count": 8,
   "metadata": {
    "collapsed": false
   },
   "outputs": [
    {
     "name": "stderr",
     "output_type": "stream",
     "text": [
      "/usr/local/lib/python3.5/site-packages/IPython/core/interactiveshell.py:2723: DtypeWarning: Columns (3,4,5,11) have mixed types. Specify dtype option on import or set low_memory=False.\n",
      "  interactivity=interactivity, compiler=compiler, result=result)\n"
     ]
    },
    {
     "data": {
      "text/plain": [
       "2312215"
      ]
     },
     "execution_count": 8,
     "metadata": {},
     "output_type": "execute_result"
    }
   ],
   "source": [
    "data_test = pd.read_csv(\"../data/processed/test_dataset_with_lang_feature.csv\")\n",
    "data_test_en = data_test[data_test.language == 'en']\n",
    "len(data_test_en)"
   ]
  },
  {
   "cell_type": "code",
   "execution_count": 9,
   "metadata": {
    "collapsed": false
   },
   "outputs": [
    {
     "data": {
      "text/plain": [
       "11000"
      ]
     },
     "execution_count": 9,
     "metadata": {},
     "output_type": "execute_result"
    }
   ],
   "source": [
    "seed = 85\n",
    "dat = data.sample(10000, random_state=seed)\n",
    "dat_test = data_test.sample(1000, random_state=seed)\n",
    "all_data = pd.concat([dat, dat_test])\n",
    "len(all_data)"
   ]
  },
  {
   "cell_type": "code",
   "execution_count": 9,
   "metadata": {
    "collapsed": false,
    "scrolled": true
   },
   "outputs": [],
   "source": [
    "id2word = gensim.corpora.Dictionary.load('../data/processed/youtube_comments.dict')"
   ]
  },
  {
   "cell_type": "code",
   "execution_count": 10,
   "metadata": {
    "collapsed": true
   },
   "outputs": [],
   "source": [
    "def tokenize(text):\n",
    "    ret = []\n",
    "    i = 0\n",
    "    token = \"\"\n",
    "    try:\n",
    "        for token in simple_preprocess(text):\n",
    "            if token not in STOPWORDS:\n",
    "                ret.append(token)\n",
    "            i = i + 1\n",
    "        #ret = [token for token in simple_preprocess(text) if token not in STOPWORDS]\n",
    "    except Exception as e:\n",
    "        pass\n",
    "        # print(\"ERROR in line: \", i)\n",
    "        # print(\"Cur token\", token)\n",
    "        # print(\"ERROR: \", e)\n",
    "    return ret\n",
    "        "
   ]
  },
  {
   "cell_type": "code",
   "execution_count": 11,
   "metadata": {
    "collapsed": true
   },
   "outputs": [],
   "source": [
    "dat = data\n",
    "dat_test = data_test\n",
    "all_data = pd.concat([data, data_test])"
   ]
  },
  {
   "cell_type": "code",
   "execution_count": 18,
   "metadata": {
    "collapsed": false,
    "scrolled": true
   },
   "outputs": [
    {
     "name": "stdout",
     "output_type": "stream",
     "text": [
      "\n"
     ]
    }
   ],
   "source": [
    "pbar = tqdm_notebook(range(len(all_data)), desc=\"Creating corpus\")\n",
    "corpus = get_corpus(all_data, id2word, pbar)\n",
    "scipy_corpus = gensim.matutils.corpus2csc(corpus)\n",
    "label = get_label(dat, score_train, id2word)"
   ]
  },
  {
   "cell_type": "code",
   "execution_count": 19,
   "metadata": {
    "collapsed": true
   },
   "outputs": [],
   "source": [
    "corpora.MmCorpus.serialize('../data/processed/fullcorpus.mm', corpus)"
   ]
  },
  {
   "cell_type": "code",
   "execution_count": 10,
   "metadata": {
    "collapsed": false
   },
   "outputs": [],
   "source": [
    "corpus = corpora.MmCorpus('../data/processed/fullcorpus.mm')\n"
   ]
  },
  {
   "cell_type": "code",
   "execution_count": 11,
   "metadata": {
    "collapsed": false
   },
   "outputs": [],
   "source": [
    "scipy_corpus = gensim.matutils.corpus2csc(corpus)\n"
   ]
  },
  {
   "cell_type": "code",
   "execution_count": 12,
   "metadata": {
    "collapsed": true
   },
   "outputs": [],
   "source": [
    "label = get_label(data, score_train, id2word)"
   ]
  },
  {
   "cell_type": "code",
   "execution_count": 15,
   "metadata": {
    "collapsed": false
   },
   "outputs": [],
   "source": [
    "training_size = len(data)\n",
    "scipy_train = scipy_corpus[:, 0:training_size]"
   ]
  },
  {
   "cell_type": "code",
   "execution_count": 17,
   "metadata": {
    "collapsed": false
   },
   "outputs": [
    {
     "data": {
      "text/plain": [
       "LinearRegression(copy_X=True, fit_intercept=True, n_jobs=-1, normalize=False)"
      ]
     },
     "execution_count": 17,
     "metadata": {},
     "output_type": "execute_result"
    }
   ],
   "source": [
    "# Create linear regression object\n",
    "regr = linear_model.LinearRegression(n_jobs=-1)\n",
    "\n",
    "# Train the model using the training sets\n",
    "regr.fit(scipy_train.transpose(), label)"
   ]
  },
  {
   "cell_type": "code",
   "execution_count": 19,
   "metadata": {
    "collapsed": false
   },
   "outputs": [
    {
     "data": {
      "text/plain": [
       "['../models/linear_regression.pkl', '../models/linear_regression.pkl_01.npy']"
      ]
     },
     "execution_count": 19,
     "metadata": {},
     "output_type": "execute_result"
    }
   ],
   "source": [
    "joblib.dump(regr, '../models/linear_regression.pkl')"
   ]
  },
  {
   "cell_type": "code",
   "execution_count": 13,
   "metadata": {
    "collapsed": true
   },
   "outputs": [],
   "source": [
    "regr = joblib.load('../models/linear_regression.pkl')"
   ]
  },
  {
   "cell_type": "code",
   "execution_count": 14,
   "metadata": {
    "collapsed": false
   },
   "outputs": [
    {
     "ename": "NameError",
     "evalue": "name 'training_size' is not defined",
     "output_type": "error",
     "traceback": [
      "\u001b[0;31m---------------------------------------------------------------------------\u001b[0m",
      "\u001b[0;31mNameError\u001b[0m                                 Traceback (most recent call last)",
      "\u001b[0;32m<ipython-input-14-590aec58eb11>\u001b[0m in \u001b[0;36m<module>\u001b[0;34m()\u001b[0m\n\u001b[0;32m----> 1\u001b[0;31m \u001b[0mscipy_test\u001b[0m \u001b[0;34m=\u001b[0m \u001b[0mscipy_corpus\u001b[0m\u001b[0;34m[\u001b[0m\u001b[0;34m:\u001b[0m\u001b[0;34m,\u001b[0m \u001b[0mtraining_size\u001b[0m\u001b[0;34m:\u001b[0m\u001b[0;34m]\u001b[0m\u001b[0;34m\u001b[0m\u001b[0m\n\u001b[0m\u001b[1;32m      2\u001b[0m \u001b[0mlabel_test\u001b[0m \u001b[0;34m=\u001b[0m \u001b[0mget_label\u001b[0m\u001b[0;34m(\u001b[0m\u001b[0mdata_test\u001b[0m\u001b[0;34m,\u001b[0m \u001b[0mscore_test\u001b[0m\u001b[0;34m,\u001b[0m \u001b[0mid2word\u001b[0m\u001b[0;34m)\u001b[0m\u001b[0;34m\u001b[0m\u001b[0m\n",
      "\u001b[0;31mNameError\u001b[0m: name 'training_size' is not defined"
     ]
    }
   ],
   "source": [
    "scipy_test = scipy_corpus[:, training_size:]\n",
    "label_test = get_label(data_test, score_test, id2word)"
   ]
  },
  {
   "cell_type": "code",
   "execution_count": 23,
   "metadata": {
    "collapsed": false
   },
   "outputs": [
    {
     "name": "stdout",
     "output_type": "stream",
     "text": [
      "Variance score: 0.27\n"
     ]
    }
   ],
   "source": [
    "print('Variance score: %.2f' % regr.score(scipy_train.transpose(), label))"
   ]
  },
  {
   "cell_type": "code",
   "execution_count": 24,
   "metadata": {
    "collapsed": false
   },
   "outputs": [
    {
     "data": {
      "text/plain": [
       "(-0.31908803103436467, 0.00041419454445549246)"
      ]
     },
     "execution_count": 24,
     "metadata": {},
     "output_type": "execute_result"
    }
   ],
   "source": [
    "y_true = label_test\n",
    "y_pred = regr.predict(scipy_test.transpose())\n",
    "r2 = r2_score(y_true, y_pred)\n",
    "mean_sq_error = mean_squared_error(y_true, y_pred)\n",
    "r2, mean_sq_error"
   ]
  },
  {
   "cell_type": "code",
   "execution_count": 25,
   "metadata": {
    "collapsed": false
   },
   "outputs": [
    {
     "name": "stderr",
     "output_type": "stream",
     "text": [
      "/usr/local/lib/python3.5/site-packages/matplotlib/collections.py:590: FutureWarning: elementwise comparison failed; returning scalar instead, but in the future will perform elementwise comparison\n",
      "  if self._edgecolors == str('face'):\n"
     ]
    },
    {
     "data": {
      "image/png": "[encoded data removed]",
      "text/plain": [
       "<matplotlib.figure.Figure at 0x3702c7da0>"
      ]
     },
     "metadata": {},
     "output_type": "display_data"
    }
   ],
   "source": [
    "plt.scatter(range(len(label_test)), label_test,  color='black')\n",
    "plt.plot(range(len(label_test)), regr.predict(scipy_test.transpose()), color='blue',\n",
    "         linewidth=3)\n",
    "\n",
    "plt.xticks(())\n",
    "plt.yticks(())\n",
    "\n",
    "plt.show()"
   ]
  },
  {
   "cell_type": "code",
   "execution_count": null,
   "metadata": {
    "collapsed": false
   },
   "outputs": [],
   "source": [
    "# cross validation in the training set\n",
    "#array_train = scipy_train.toarray()\n",
    "#X = array_train.transpose()\n",
    "X = scipy_train.transpose()\n",
    "Y = label\n",
    "num_folds = 100\n",
    "num_instances = len(array_train)"
   ]
  },
  {
   "cell_type": "code",
   "execution_count": null,
   "metadata": {
    "collapsed": false
   },
   "outputs": [],
   "source": [
    "seed = 85\n",
    "kfold = cross_validation.KFold(n=num_instances, n_folds=num_folds, random_state=seed)\n",
    "model = linear_model.LinearRegression()\n",
    "scoring = 'mean_squared_error'"
   ]
  },
  {
   "cell_type": "code",
   "execution_count": null,
   "metadata": {
    "collapsed": false
   },
   "outputs": [],
   "source": [
    "results = cross_validation.cross_val_score(model, X, Y, cv=kfold, scoring=scoring)"
   ]
  },
  {
   "cell_type": "code",
   "execution_count": 25,
   "metadata": {
    "collapsed": false
   },
   "outputs": [
    {
     "data": {
      "text/plain": [
       "6645243"
      ]
     },
     "execution_count": 25,
     "metadata": {},
     "output_type": "execute_result"
    }
   ],
   "source": []
  },
  {
   "cell_type": "code",
   "execution_count": null,
   "metadata": {
    "collapsed": true
   },
   "outputs": [],
   "source": []
  },
  {
   "cell_type": "code",
   "execution_count": null,
   "metadata": {
    "collapsed": true
   },
   "outputs": [],
   "source": []
  }
 ],
 "metadata": {
  "kernelspec": {
   "display_name": "Python 3",
   "language": "python",
   "name": "python3"
  },
  "language_info": {
   "codemirror_mode": {
    "name": "ipython",
    "version": 3
   },
   "file_extension": ".py",
   "mimetype": "text/x-python",
   "name": "python",
   "nbconvert_exporter": "python",
   "pygments_lexer": "ipython3",
   "version": "3.5.2"
  }
 },
 "nbformat": 4,
 "nbformat_minor": 0
}
