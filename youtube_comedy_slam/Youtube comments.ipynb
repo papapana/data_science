{
 "cells": [
  {
   "cell_type": "markdown",
   "metadata": {},
   "source": [
    "# Creation of the dataset\n"
   ]
  },
  {
   "cell_type": "markdown",
   "metadata": {},
   "source": [
    "## Cleaning the existing dataset\n",
    "\n",
    "First of all, after the dataset was published, some of the videos have become private and therefore we do not want them in the dataset. So, first we have to detect and clean all private videos"
   ]
  },
  {
   "cell_type": "code",
   "execution_count": 1,
   "metadata": {
    "collapsed": false
   },
   "outputs": [],
   "source": [
    "import youtube_comments as yc\n",
    "import youtube_comments_api as yc_api\n",
    "from tqdm import tqdm, tqdm_notebook, tnrange\n",
    "from time import sleep"
   ]
  },
  {
   "cell_type": "code",
   "execution_count": 17,
   "metadata": {
    "collapsed": false
   },
   "outputs": [
    {
     "name": "stdout",
     "output_type": "stream",
     "text": [
      "CPU times: user 29.2 ms, sys: 6.7 ms, total: 35.9 ms\n",
      "Wall time: 704 ms\n"
     ]
    },
    {
     "data": {
      "text/plain": [
       "False"
      ]
     },
     "execution_count": 17,
     "metadata": {},
     "output_type": "execute_result"
    }
   ],
   "source": [
    "%%time\n",
    "# Here we check the time it takes to check if a non-private video is private\n",
    "yc.is_video_private(\"7zCIRPQ8qWc\")"
   ]
  },
  {
   "cell_type": "code",
   "execution_count": 4,
   "metadata": {
    "collapsed": false
   },
   "outputs": [
    {
     "data": {
      "text/plain": [
       "True"
      ]
     },
     "execution_count": 4,
     "metadata": {},
     "output_type": "execute_result"
    }
   ],
   "source": [
    "yc.is_video_private(\"Gr9aYWkT4qk\")"
   ]
  },
  {
   "cell_type": "code",
   "execution_count": 3,
   "metadata": {
    "collapsed": false,
    "scrolled": true
   },
   "outputs": [
    {
     "name": "stdout",
     "output_type": "stream",
     "text": [
      "CPU times: user 32.2 ms, sys: 3.65 ms, total: 35.9 ms\n",
      "Wall time: 391 ms\n"
     ]
    },
    {
     "data": {
      "text/plain": [
       "True"
      ]
     },
     "execution_count": 3,
     "metadata": {},
     "output_type": "execute_result"
    }
   ],
   "source": [
    "%%time\n",
    "# Here we check the time it takes to check if a private video is private\n",
    "yc.is_video_private(\"oyP16Qg3UP4\")"
   ]
  },
  {
   "cell_type": "code",
   "execution_count": 9,
   "metadata": {
    "collapsed": false
   },
   "outputs": [
    {
     "name": "stdout",
     "output_type": "stream",
     "text": [
      "\"Hilarious\" isn't the word I would use. I would use \"boring\".﻿\n",
      "great video !!!!!!!!!!﻿\n",
      "that's so funny LLLLLLLOOOOOOOOLLLLLLLL!!!!!!!!﻿\n",
      "Waha haha hahaha﻿\n",
      "Waha haha hahaha﻿\n",
      "i couldn't stop laughing and feeling bad for the cats\n",
      "﻿\n",
      "ik huilde bijna van het lachen﻿\n",
      "OMG XD﻿\n",
      "Суууууууууууууууупер﻿\n",
      "We were ALL kids once! Adults are even suckier!﻿\n",
      "True, but nows the time to teach him/her NOT to do that kinda stuff to kitty! :)\n",
      "They learn quick!﻿\n",
      "I agree! I saw another video like this and the 3 year old kid threw a cat into the pool! I would've whacked the parents upside the head and swatted the kid on the butt and tell him to NEVER ever be mean to any animal, especially throwing our kitty into water! Yeah, that \"baby\" looked like he was trying to drown the cat! The parents better watch out for that, it can lead to other things with animals that are hurtful to them! And he could have gotten badly scratched up too.﻿\n",
      "Epic - Cats the song xD\n",
      "/watch?v=Nxxu0i9UVMk﻿\n",
      "The last two aren't really funny. they are actually cute\n",
      "﻿\n",
      "The kid in the tub should have been supervised, not videoed. Being allowed to pull a cat into a tub of water is a good way to get your kid's face slashed... morons with cameras.﻿\n",
      "whats that music? i heard it on tom and jerry's KITTY FOILED episode.\n",
      "﻿\n",
      "This was definitely worth watching!\n",
      "Had my partner and I in fits of laughter﻿\n",
      "Hillaours\n",
      "\n",
      "﻿\n",
      "The siamese cats were like \"COME AT ME, BRO!\"﻿\n",
      "Lmao to funny I was laughing the whole time﻿\n",
      "Lol the end one the cat was like five me a kiss!!﻿\n",
      "like the video like the 1st i fell outa my chair﻿\n",
      "at 1:07 at the end it looked like the cat was kissing the dog on the lips lol great video﻿\n",
      "FINALLY A VIDEO WITH A LAUGH TRACK SO MENTALLY RETARDED PEOPLE KNOW WHEN TO LAUGH!!﻿\n",
      "I enjoyed you video ..... Merry Christmas ... Best wish'e for 2013  :>)﻿\n",
      "babys are crazy probloms XD﻿\n",
      "the baby is hiting the cat curs you baby﻿\n",
      "Lol DOG TAKEDOWN﻿\n",
      "Lol do funny﻿\n",
      "Hahahaha﻿\n",
      "1:01 Its a TRAP﻿\n",
      "the most hillarious cat video ive ever seen hahahah!\n",
      "﻿\n",
      "that baby was going to drown that cat! XD thank god he let go before dragging him under water. but the parents really should have stepped in, when a cat is in water and it freaking out it claws anything in its path.﻿\n",
      "This is the cutest stuff ever!!﻿\n",
      "I love this vid﻿\n",
      "great video.... love these crazy cats﻿\n",
      "Cool vid! Watch my vids﻿\n",
      "All my cat does is hide in a box and attack a moth the flies by. The moth always wins. :l﻿\n",
      "Poor cats.  \n",
      "You have to laugh with because of their tactics\n",
      ".\n",
      "﻿\n",
      "1:07 \n",
      "Cat: I love you!!!!!!!﻿\n",
      "soooo cute!!!!!!!!! <3﻿\n",
      "Awww that was so cute﻿\n",
      "Oh so sorry﻿\n",
      "Unknown error WTF.﻿\n",
      "1:06 one small step for mankind. one GIANT leap for catkind... lol﻿\n",
      "0:48 Cat\"no no no no nooooooo\"\n",
      "splash﻿\n",
      "0:26-0:29 looks like two kids having a slap fight﻿\n",
      "That's not how you spell hilarious. :)﻿\n",
      "Doo cute and shut up Robert﻿\n",
      "You are so sad and how would you feel if that was you﻿\n",
      "Lol JK﻿\n",
      "I hate babies. That poor kitty!﻿\n",
      "He's dancin' at 0:10﻿\n",
      "Bet tht u will laugh watching ... Give me my money!﻿\n",
      "Lololol love it!! Roflmfao﻿\n",
      "I LOVE IT SO MUCH!!!!!!!!!!!!!!!!!!!!!!!!!!!!!!!﻿\n",
      "I like the toaster and the jump failure cata﻿\n",
      "0:59 just look at the cats face﻿\n",
      "wow you both little botchs settle this the old fashion way :-)﻿\n",
      "@MrDubStepz360 wtf? Calling a 1 year old a faggot cunt? Fuck you. Your a fucking retarded, bitch ass nigger, probably blowing your brother for your next line of SPANK and mary j. Shut the fuck up and get the fuck out you nigger.﻿\n",
      "Poor cat.﻿\n",
      "did that cat die after the toster fell on him﻿\n",
      "@MrDubStepz360 Dude, he's a kid! A baby! He didn't know what he was doing. Why would you do that to a baby? You have no heart.﻿\n",
      "Everyone posting mean stuff about the little kid in the bathtub needs to just shut up. It's just a little kid. They don't know any better. You were a kid just like that once, too. You did stupid stuff, too, because you didn't know better. Seriously , man up.﻿\n",
      "Kay ppl... Whoever comments mean things about the bath thing I mean... really. The cat wasn't hurt and the kid in the tub is just a baby... he doesn't know any better...﻿\n",
      "Kids are very annoying!﻿\n",
      "o god      '﻿\n",
      "@ mrdubstepz stfu! Bitch u prolly sit in a chair all day fuckin lowlife﻿\n",
      "Kids suck﻿\n",
      "probably a laser pointer lol﻿\n",
      "Hahaha sooo funny﻿\n",
      "that is so funny﻿\n",
      "Oooooooooooooooo﻿\n",
      "^o^﻿\n",
      "SMARTEST CATS EVAAAAAARRRRR \n",
      "\n",
      "ROFLOL﻿\n",
      "That was funny as hell lol﻿\n",
      "Omg so funny﻿\n",
      "So sad when they fall﻿\n",
      "This is the most hilarious cat video I have ever seen but u should see Wat my cat dose if you start to play with her and later on you'll think she's gone bonkers like she has had Cotten candy or something oh and u think this is funny watch super cats episode 1,2,3etc now those r hilarious more hilarious than these videos﻿\n",
      "ANIMAL LOVERS PLEASE  ype in THEROBMARGOLIN     and check out the cute rescue kittens that need great homes        THANKS!!!!﻿\n",
      "XD SOO FUNNY LOL﻿\n",
      "OMGGG LMFAO﻿\n",
      "That was the most hilarious video ever I haven't had a good laugh in a while﻿\n",
      "@Montsdocto seriously it's a 2 or 3 yr old! Like he knows any better!﻿\n",
      "That bastard at 00:48﻿\n",
      "i mean 0:46﻿\n",
      "hahaha @0:43\n",
      "﻿\n",
      "NO............ im watching this on my I-Stone \n",
      "﻿\n",
      "Yay yay cats go to hell cat haters﻿\n",
      "@marthaljohnson Because being uncomfortable and hurting is funny to everyone, and it's not limited to \"little things\" mis I'm the president of PETA, people watch people in uncomfortable situations for entertainment, candid camera, jackass, viva la bam, wild boyz (on MTV), fear factor, the American idol auditions, almost everything... Go shoot your self-righteous crap somewhere else.﻿\n",
      "I hate cats, they are disgust creatures﻿\n",
      "Lol﻿\n",
      "Really funny I liked it when the cat scratched the dog.:):):):):)﻿\n",
      "Evil baby ;(﻿\n",
      "Why does so much of our humor depend on little things being made uncomfortable, or hurting?﻿\n",
      "i like the bathtub one.... poor kitty!﻿\n",
      "Did anyone else have to pause the video to catch their breath?﻿\n",
      "Did that fish at the beginning die? I thought it got crushed by the cat﻿\n",
      "This is soo hillarious!﻿\n",
      "Cute﻿\n",
      "Hahahha they are f****** sh** up!﻿\n",
      "Lol thts so funny Lmfao﻿\n",
      "Lmao﻿\n",
      "Omg﻿\n",
      "How cute♥\n",
      "﻿\n",
      "The stairs one is brilliant﻿\n",
      "the kid in the bath tub is evil! ﻿\n",
      "Real men watch cat videos.﻿\n",
      "I don't get it but at least my little sister likes it﻿\n",
      "@AbbieLovesCandy98 Shhh, you're missing the point.﻿\n",
      "LoL﻿\n",
      "animal abuse.﻿\n",
      "its so funny!!!!!!! LOL﻿\n",
      "This video is sooooo funny yo like no joke﻿\n",
      "0:28 cat fight\n",
      "﻿\n",
      "0:27 LOL SOO FUNNY!﻿\n",
      "0:41 FTW﻿\n",
      "I loved it when the cat jumped in the couch to the wall﻿\n",
      "We love cats cause they're dorky as hell 'n love em even when they act like brats. ;D﻿\n",
      "oh my gosh i laughed and cried so hard i almost had a heart attack after that cat ambushed then kcke over that baby i just lost it﻿\n",
      "That. Is. Hilarious :L﻿\n",
      "0:32 WOO NO NO NO NO FONTAIN FUCK U!﻿\n",
      "0:35\n",
      "\n",
      "Cat: OK, I'm just gonna try to grab this radio and-\n",
      "\n",
      "(Radio falls over)\n",
      "\n",
      "Cat: Oh, I am SO outta here!﻿\n",
      "1:00 classic trap﻿\n",
      "omg I can't breathe XDD﻿\n",
      "0:48 Cat:Oooo sh*t﻿\n",
      "Totally creased great video﻿\n",
      "@1:08 ucken funny﻿\n",
      "Omgee!!! I laughed through the WHOLE video!!!lol﻿\n",
      "0:03 sneak attack fail!!\n",
      "0:24 sneak attack successful!!!﻿\n",
      "the last video is like \"I LOVE YOU\" or \"I HATE YOU!\"﻿\n",
      "funny﻿\n",
      "the is fuuny\n",
      "﻿\n",
      "0:49 I actually LAUGHED! =D﻿\n",
      "freakng hilarious LMFAO!!!!!!!!!!!!﻿\n",
      "Way funny than the impossible not laugh videos!﻿\n",
      "Just watched it like 20 times with my 4 yr old.  love it.﻿\n",
      "That was awesome .... More! More!﻿\n",
      "Just a recorded montage from america's funniest home videos...?!﻿\n",
      "OMG, I can't stop laughing because it was so funny! Please do more videos like this!! xx﻿\n",
      "poor cat in the bathtub it couldn't get out:( But thumbs up if the video was funny anyway:)﻿\n",
      "LOLOLOL -3 so cute!!! i like the one when the cat fallz down the stairs Awwww So cute!!!﻿\n",
      "ogmogmogmogmogmomg\n",
      "﻿\n",
      "the new ones are the FUNNIEST\n",
      "\"new\" as in kittens\n",
      "﻿\n",
      "0:57- OMG LOL﻿\n",
      "poor kittehs.... LOLZ﻿\n",
      "poor kitties lmao﻿\n",
      "Me and my friend laughed so hard our stomachs are hurting!!!! LOL great video﻿\n",
      "Awe! Poor cat being pulled into bath tub! Traumatised for life...Bless.﻿\n",
      "KITTY VIDEOS SOOOOOO CUTE CANT STOP WATCHING THEM DDXXX﻿\n",
      "1:09 I LOVE YOU! :D﻿\n",
      "really funny :Dbut the poor cat in the tub^^poor poor cat﻿\n",
      "hahaha pee myself\n",
      "﻿\n",
      "dont mean to poop on everyones party but the baby pulling the kitten into the bathtub isnt funny... ﻿\n",
      "@cowcowmeowmeow lmao get over it you skitzo﻿\n",
      "Cat's always land on their feet huh? \n",
      "\n",
      "0:15﻿\n",
      "0:24-0:26 = Cat: here comes the rebel baby...\n",
      "0:25= ATTACK!﻿\n",
      "0:11-0:13 = 'Lalalala.....*Statue falls* RUN!!!'﻿\n",
      "Cat on the fish tank: \"I will get the fish. *OMG* I'm gonna die, please lord I'm begging mercy for my sins. Oh god the water. I will drown!\"﻿\n",
      "0:21 holy crap!﻿\n",
      "0:49 Cat: nonononononononono,....... GOOOOD DAMMMNNNITTTT﻿\n",
      "Three quarters of this video was kitties falling....\n",
      "Congratulations you made me cry, not laugh﻿\n",
      "i plan to put a christmas bow on my cats head and see how he reacts﻿\n",
      "0:39 That cat was trippin'﻿\n",
      "lol i love cats﻿\n",
      "anyone know where i can find the full clip shown at 0:57. I remember seeing it before but there was more after the one shown here. very jumpy cat and sooooo funny.﻿\n",
      "0:38 PARKOUR!!!! (Jump on couch) PARKOUR!!!! (jump on wall) PARKOOoooooo Nooooooooo﻿\n",
      "0:19, how do I train my cat to do that?? ﻿\n",
      "fssssssssssssssst boink!﻿\n",
      "I was finding it funny until 0:52 where I wanted to drown the laughing dickhead who let the child do that!﻿\n",
      "at 0.04 wanna play wreslingthe jumping cat    the other cat say no im training for the olimpyic﻿\n",
      "*cat at the end:NINJA HUG!:D﻿\n",
      "0:38\n",
      "cat : HEY WALL IM GONNA BEAT YOU UP * attcks wall* *thump*﻿\n",
      "@iknouluvmi1 That is true, I had a cat fall out of a closet and break his leg.......cute cast though :)﻿\n",
      "0:38 HEY WALL I'M GONNA BEAT YOU UP﻿\n",
      "@iknouluvmi1 Cats land on their feet yo...﻿\n",
      "any asshole that lets their baby pull a cat, by its legs, into a bath tub full of water needs a visit from ASPCA﻿\n",
      "0:31 im just gonna take this toaster ﻿\n",
      "at the End.... \n",
      "\n",
      "Dog: Show me some love, kitty\n",
      "Cat: you got it!!\n",
      "\n",
      "awww﻿\n",
      "lolllllllllllllllllllllllllllllllllllllllllllllllllllllllllllllllllllllllllllllllll omg this is sooo funny lollllllll﻿\n",
      "Omg I peed my pants over this lolzzzzzzz﻿\n",
      "I couldnt stop laughin!!﻿\n",
      "lolz﻿\n",
      "poor pussies!!!﻿\n",
      "0:25 KittyW3 sneak attack ﻿\n",
      "1:08 stop making out with the dog﻿\n",
      "0:29 little too much to drink?﻿\n",
      "Dancing cat loves statues 0:10﻿\n",
      "I hope that toaster didn't squash the kitteh!﻿\n",
      "I HATE THAT KID @ PART 0:50 if i was there id slap that kid!!﻿\n",
      ":50 is the funniest i  backed that up 10X lol listen to the noise the cat is makin when he think he drowning lol﻿\n",
      "You made me laugh too hard I had tears coming our of my eyes. You got points. +36537pts. It is hard to make me laugh.﻿\n",
      "@Wyzdm Om my God they are animals!  OK they are not humans! they die, they die!﻿\n",
      "I cried laughing all the way through. Some people who are commenting take things way too seriously. Cats are so funny because they are bat shit crazy.﻿\n",
      "This just made my night. xD﻿\n",
      "1:04 XD\n",
      "﻿\n",
      "i laughed so hard i strted choking and my dad thought tht i wuz dieing so he called 911!!﻿\n",
      "YOU. ARE. MY. HERO! i saw this on afv and i have been looking everywhere for it! AHH! :D﻿\n",
      "Omg... I chocked on my orange soda... Then It came out of my nose and on the computer screen.... My moms gonna be mad...﻿\n",
      "0:42 \n",
      "\n",
      "cat!~ la la la \n",
      "cat~~WTF TRYING TO SHAVE! ﻿\n",
      "hhhhhhhhhhhhhhhhhhhhhhhhhhhhhhhhhhhhhh .. my stomach hurts me!!!\n",
      "\n",
      "Thumb up and Share and Tweet for sure :)﻿\n",
      "THE BOW XD OMG LMFAOOOO﻿\n",
      "so funny i waslaughing all the way through lol epic XD﻿\n",
      "0:50 \n",
      "Kid: COME IN DA BAF IF MEE KITTEEEEEEE!!!\n",
      "Cat: No, no, no, no NOOOO!!\n",
      "*Kid pulls him in*\n",
      "Cat: AHHH!! GET ME OUTTA HERE!! AHHH﻿\n",
      "LOL i watched this 3 times in a row :PPPP﻿\n",
      "LOL﻿\n",
      "Some of that wasn't funny, I hope those cats were alright!﻿\n",
      " a total riot.﻿\n",
      "....thanks...it was a joy....﻿\n",
      "@kristina8950 ﻿\n",
      "0:31 if im falling ur coming with me\n",
      "﻿\n",
      "0:27 LOL ﻿\n",
      "I love how cat never give up on doing anything if somthing catches there attention they get to it no matter what xD I LOVE THE CAT WITH THE PRESENT STICK ON BOW ON HIS FACE xD CUTE ♥﻿\n",
      "CANT STOP WATCHING CAT VIDEOS!!!﻿\n",
      "*hilarious﻿\n",
      "0:48\n",
      "boy : ayoo pussy come suck this dick\n",
      "cat : DAMMMMMMMM ya shit stank !﻿\n",
      "RIP Woogie. She was my siamese cat. Watching this makes me think of her. :..(﻿\n",
      "i also liked the part 0:53﻿\n",
      "i laughed on 0:15 it was funny! my sister did that once...﻿\n",
      "hahah 00.49 made me laugh so hard!!! hahahahahaah.﻿\n",
      "круто﻿\n",
      "I LAUGHED SO FREAKING HARD AT 00:42﻿\n",
      "SO FUNNY!﻿\n",
      "in disney channel, the sO r@nd0m! is only for adults not for kids﻿\n",
      "I was laughing hard\n",
      "﻿\n",
      "BEST CAT VIDEO EVER. \n",
      "﻿\n",
      "A cat that thinks it can fly and then hits a wall. >.<﻿\n",
      "0:08 the fish is dead =...(﻿\n",
      "0:40 i believe i can fly xD\n",
      "﻿\n",
      "Respond to this video...          i cried i was laughing so hard﻿\n",
      "@fitnessfreak141081 you're such a fucking asshole. like you didn't do the same fucking thing when you you a kid dickhead.﻿\n",
      "aaaaajjaja me encantaron los del 0:27﻿\n",
      "0:49 \"no no no NO NO NO NO NO!!!!!\"﻿\n",
      "   rrrraaaaaaa i was not looking for the cat food﻿\n",
      "0:22 Yooshi﻿\n",
      "Omg so funny!\n",
      "﻿\n",
      "that very first part of the video wtf :o\n",
      "wonder if mankind would ever be able to copy such manoeuvrability\n",
      "running, 180 air, keep running\n",
      "sick really :D﻿\n",
      ":15 was hilarious!﻿\n",
      "I feel so bad for all of these cats.﻿\n",
      "@3ionEl2alb HALA!! ana dahek wayad kent ba moot o-o﻿\n",
      "NOOOOOOOO!!! Not the toaster!!﻿\n",
      "0:50 pmsl so hard!﻿\n",
      "0:26 :D﻿\n",
      "@eehsiuqs i thought it was hilarious!﻿\n",
      "Moral of the story: cats are retarded﻿\n",
      " 0:24 Haha loser can't go down a hill. hehehe﻿\n",
      "not funny\n",
      "﻿\n",
      "@fitnessfreak141081 calm down its not like the kid new any better -_-﻿\n",
      "cats r adorable ﻿\n",
      "the bathtub one was the funniest!!!:)﻿\n",
      "Parkour cat 00:37﻿\n",
      "I love the cat with the bow thats the best!﻿\n",
      "lol at 0:46﻿\n",
      "0:15 goin down stairs ur doin it wrong﻿\n",
      "i love it﻿\n",
      "The cats that have to tolerate humans lol..﻿\n",
      "I don't think I could tape a child pulling a kitty into the bath tub! :(﻿\n",
      "cats unite 2 destry teh world﻿\n",
      "@InnerSailor Agreed.﻿\n",
      "0:28 - 0:29 The first cat is like \" COME AT ME BRO (ლಠ益ಠ)ლ \"﻿\n",
      "Why do some cats hate water ? :\\﻿\n",
      "this video... couldn't stop luaghing..﻿\n",
      "AFV!! ﻿\n",
      "The laugh at 0:51 is brilliant﻿\n",
      "These cats r insane!!﻿\n",
      "at 0:10 cat do trickshot :)\n",
      "﻿\n",
      "the one getting pulled in the tub was like: stop what are you doing? what are you doing?! STOP FOR THE LOVE OF >SLASH< OH GOD GET ME OUTTA HERE!! ﻿\n",
      "LOL i love this i couldnt stop laughing.I didnt like the whole thing about the kitty pulled in the tub though﻿\n",
      "I luv the boxing cats @ 0:27 lol﻿\n",
      "this is basically cats just getting hurt except for the end that one was like i loves u﻿\n",
      "0:46 LMFAO﻿\n",
      "I love how cats always do a lightning fast getaway after they drop something :D﻿\n",
      "die doggg﻿\n",
      "0:26 MMa :D﻿\n",
      "I just love animals <3﻿\n",
      "0:50 ohgodohgodohgodOHGOD NOOOOOOOO PLEEEEEASE﻿\n",
      "5 look like it was walking to the lit﻿\n",
      "the best one is 1:06﻿\n",
      "hahahahaaaa \n",
      "﻿\n",
      "0:27-29 Cat fight!!!﻿\n",
      "The tub bath was so funny﻿\n",
      "@010kid I expect for the adult holding the camera to stop it.﻿\n",
      "Hilarious* not hillarious.﻿\n",
      "That last clip is so funny. Thats a brave cat to dive for a dog﻿\n",
      "@MSIslave28 Dumbass kid? that's a baby, who doesn't know anything. you're just stupid.﻿\n",
      "DAMN NATURE YOU SCARY﻿\n",
      "My favorite is 0:40 where the cat jumps into the window (Or attempts to, at least)﻿\n",
      "That poor cat at 0:19 That probably really hurt his sensitive ears when that little dumbass kid smacked the jar. All the other ones were funny but that was just stupid.﻿\n",
      "0:39   HAHAHA\n",
      "﻿\n",
      "1:08 Gimme a kiss niak niak!﻿\n",
      "felt bad for some of them, but couldn't stop laughing xD﻿\n",
      "hope their okay.﻿\n",
      "that was great\n",
      "﻿\n",
      "omg \n",
      "BEWARE dont look at this video when you are eating *snickers at her coworker*\n",
      "he almost choked on his sandwich LOOOL﻿\n",
      "@rhiannaroy HEY!!! HOW DARE YOU!!﻿\n",
      "HAHAHAHAHA!!!!!!!!!!!!!!!!!!!!!!!!! FAIL! 1:06 \n",
      "﻿\n",
      "65 people are from china and eat cats all day...﻿\n",
      "The cat at 38 is like I'm out shit never mind﻿\n",
      "so much for cat like agility.... hahaha ROFL﻿\n",
      "0:52 LOOK IT'S LADY GAGA'S CAT﻿\n",
      "at 0:45 the cat is like shit shit shit shit shit *splash* shitshitshitshitshitshitshitshitshit!!!!!!!!﻿\n",
      "I felt so bad for the one that go pulled in the tub :)﻿\n",
      "At teh end teh cat rapes teh doggy﻿\n",
      "I FUCKING LOVE CATS!﻿\n",
      "LMAO !!﻿\n",
      "@JLUFantasy you watched it too (No bitchiness intended) But we just watched it because it's funny, it's youtube, there's a ton of copyright breaches, this was just amusing.﻿\n",
      "Cerioustily Killed the Cat.﻿\n",
      "I love kitties﻿\n",
      "youtube.com/watch?v=4lQ6AM0TjNQ WATCH MY NEW FUNNY VIDEO﻿\n",
      "At the end the cat only wanted a kiss lol﻿\n",
      "0:33 epic fail.﻿\n",
      "i figured it was from afv cause the music and i looked down in the discription and it is﻿\n",
      "hahahhaha my best scene is on 0:51\n",
      "﻿\n",
      "@haleyryan8399 lol﻿\n",
      "Also I was laughing at this & scared my cat :)﻿\n",
      "The one at 0:42﻿\n",
      "sophie nd chloe nd babba joe think that this video is very hilarious xx :)\n",
      "﻿\n",
      "you get a kitten and you KNOW some crazy stuffs going down... we call my cat psycho sammy﻿\n",
      "so nice ahaaha﻿\n",
      "0:07 I GOT YUR FACE! :D﻿\n",
      "this would be funnier if humans did it! :D﻿\n",
      "@louieandbud1 No you obviously dont know about animals Wolflove225 is right they are being silly and playful ﻿\n",
      "@louieandbud1 dude it is just cats acting silly everytime an animal gets hurt it aint animal abuse half the time it is just them being silly and they will learn not to do it again\n",
      "﻿\n",
      "i think the cat raped the dog at the end﻿\n",
      "Ok two words........ ANIMAL ABUSE!!! :-(﻿\n",
      "lmao at the end cats are the best.﻿\n",
      "@1:42 ADORABLE AND GULLABLE!<33﻿\n",
      "@0:25 \"I PUSH YOU!\" *runs away*\n",
      "@0:48 \"It's all good... no worries here... I'm cool...\" *splash* \"AHHHHHH WTF\"﻿\n",
      "TheYNC.com is a Bad website Lol﻿\n",
      "Lol hilarious!!﻿\n",
      "lol alot of the cats r noobs﻿\n",
      "@Shassouneh your welcome i know everything about music﻿\n",
      "@mardigrasbeads no its by Rossini and its called The Barber Of Seville﻿\n",
      "@ShawnJohnson3 The Barber of Seville by Rossini﻿\n",
      "@Shassouneh The Barber of Seville by Rossini﻿\n",
      "last cat \"gimme a kissy kissy!\"﻿\n",
      "I LOVE CATS !\n",
      "﻿\n",
      "0:40﻿\n",
      "@ShawnJohnson3 The Barber of Seville By Gioachino Rossini﻿\n",
      "LMAO I COULDN'T STOP LAUGHING AND I HAVE BREATHING TROUBLES AND I COULDN'T BREATH BUT IT WAS WORTH IT :DDD!﻿\n",
      "awww cats are so cute but evil at da same time lolz xd :)﻿\n",
      "0:15\n",
      "﻿\n",
      "i laughed so hard that i fell out of my chair XD﻿\n",
      "the cats falling off the sinks were ADORABLE! =')﻿\n",
      "awww dat was cute..﻿\n",
      "@Dawnredd Atually it kinda was.﻿\n",
      "Lol 0:47 cat just didn't know what to do... he was so willing and curious till he got pulled to far in and was like.... FUCKKK NO WAY. ﻿\n",
      "never mess around with cats they will act crazy lol﻿\n",
      "LOLLOLOL @ 1:06﻿\n",
      "0:27 ninja fight. XD﻿\n",
      "PETA is probably trying not to flip out. \n",
      "﻿\n",
      "@savagegiraffe1 Thats not even funny.﻿\n",
      "After watching this video I went and had my kitten put down, just so I wouldnt have to indure any of this shit I just watched :) ﻿\n",
      "0:49 - 0:53 super lol\n",
      "﻿\n",
      "0:40 tactical nuke incoming!!!!!!﻿\n",
      "0:27 jersey shore! lol﻿\n",
      "lol @ the two Siamese cats fighting.\n",
      "\n",
      "\"BITCH!\"\n",
      "\n",
      "\"WHORE!\"﻿\n",
      "So so funny﻿\n",
      "lol @ :26 xD!!﻿\n",
      "@frostygirl5 I hardly laugh but that nearly lead me 2 tears I laughed so much!﻿\n",
      "@frostygirl5 I hardly laugh but that almost lead me to tears I laughed so much!﻿\n",
      "cant stop laughing at yi﻿\n",
      "terrorist are also training cats XD @ 0:23﻿\n",
      "TOM AND JERRY!﻿\n",
      "haha cant stop laughing i almost choked on a pringle﻿\n",
      "LOL!! couldn't stop laughing the whole time!! Hahah :)﻿\n",
      "0:32 you can see all the cat legendary sense of balance and grace!  ﻿\n",
      "0:20 how cute lmao lol :) <3﻿\n",
      "hahhaha LOL XDXDXDXDXDXD.. keep on laughing!!!!﻿\n",
      "Well i guess we know why cats always land on there feet.... \n",
      "THEY ALWAYS FLIP OUT AND FALL XDDD\n",
      "IM FREAKING CRYING MY EYES OUT HAHAAHA﻿\n",
      "I couldn't stop laughing! OMG. lol﻿\n",
      "Keep pressing 7 too... Well, you'll find out﻿\n",
      "0:26 lol﻿\n",
      "All I can say is.... More! Lol﻿\n",
      "Funny﻿\n",
      "I was watching AFV's countdown earlier on my TV. I tuned in just in time to catch number 6. There were 3 countdown clocks on the many screens behind Tom, so it said 666 on AFV on national TV. 0.o﻿\n",
      "i have no breath xD xD xD xD﻿\n",
      "0.47 is the most hilarious one!! :DD I want to jump like that cat!!:D﻿\n",
      "ahahahahahahaha 0:42﻿\n",
      "I love funny cats they make my day!  i love the cat on 0:53 - 0:57 !﻿\n",
      "I love funny cats they make my day! ﻿\n",
      "ew press 7 fast\n",
      "﻿\n",
      "I love this sooooo much..... The siamese cats are HILARIOUS LOL﻿\n",
      "00:49 Cat- \"Hiya, little buddy! What'cha doin? Okay, I'll come over there.\" SPLASH! \"HOLY CRAP! WATER! I'M WET! HELP!!!! HEEEEEELLLLLLPPPPP!!!!!!\"﻿\n",
      "I have not laughed this hard in forever soooo funny!﻿\n",
      "Sooooo funny! This makes me crack up, it is so great﻿\n",
      "The cat at 0.38, what was it even trying?﻿\n",
      "0:01 cat just got back from lat night party his mom runs around looking for him he tries to sneak home see his mom HOLY **** RUN!﻿\n",
      "HAHAHAHAHAHAHAHAHAHAHAHAHAHAHAHAHAHAHAHAHAHAHAHAHAHAHAHAHAHAHAHAHHAAHAHHAHAHAHAHHAHAHAHAHAHAHA!!!!!!!!!!!!!!!!!!!!!!!!!!!!!!!!!!!!!!\n",
      "﻿\n",
      "lol cant stop loling 5th time watching﻿\n",
      " the cat on the steps; better than a slinky!﻿\n",
      "Stupid﻿\n",
      "LOL.﻿\n",
      "@loverofyugioh  your a BIG BRAT THATS SO SAD I HATE THE PEOPLE THAT MAD THIS STUPIED VIDEO GEEZ﻿\n",
      "mean hello there feelings﻿\n",
      "hey soo NOT funny have you ever thought about there feeling GEEZ﻿\n",
      "Absolutely Hilarious. I love 0:00 to 1:10!﻿\n",
      "0:46 HAHAHAHAHAHAHAH ﻿\n",
      "0:43, that kitty could have been killed by hit her/his head to the toliet top, Notice it slap really hard. Hope it was ok after. It happened to one of my buddy's kitty after hit on the floor then she died. trama blunt to the head. Always make sure that entire kitty/cat is in safe place than crowd place.﻿\n",
      "I was lauging not loving (comment below)﻿\n",
      "I was loving so much - wonderful video - the choice of music is great too﻿\n",
      "0:14 i love that one xD﻿\n",
      "0:48-0:53, helarious﻿\n",
      "the dad's reaction at 0:51 is great﻿\n",
      "This was on you've been framed﻿\n",
      "@soccergal3897 He's like, Hey!  Hey!  HUMAN!  Get it off of me!  ﻿\n",
      "0:34 made me lol﻿\n",
      "Sooooooo funny....Love cats  xD﻿\n",
      "AFV... ancient youtube.﻿\n",
      "OMG THIS IS FREAKIN' HILLARIOUS!!!!﻿\n",
      "Three lettrers : LOL! ﻿\n",
      "@phoebexanne Agreed, I didn't enjoy this video at all. :(﻿\n",
      "haha i bet half the viewers were pedos.﻿\n",
      "My favorite one was when the cat gave the dog and kiss and hug﻿\n",
      "my favorite is 0:38 - 0:40﻿\n",
      "Cooles Video!﻿\n",
      "the best r 0:21   0:25 0:27 0:49 0:54 1:07﻿\n",
      "set ... HIKE tackle qb dog vs cats lol﻿\n",
      "lol i loved this so funny﻿\n",
      "I don't like seeing animals hurt so some of this was not fun.﻿\n",
      "at 0:09 i think that cat killed that fish lol﻿\n",
      "the toaster wasn't plugged in and didn't look like it fell on the cat very hard so I don't believe any of these cats were physically hurt﻿\n",
      "0:01-0:04 so funny =))﻿\n",
      "lol i nearly peed myslelf﻿\n",
      "HAAAAAAAAAAAAAAAAAAAAAAAAAAAAAAAAAAAAAAAAAAAAAAAAAAAAAAAAAAAAAAAAAAAAAAAAAAAAA HAAAAAAAAAAAAAAAAAAAAAAAAAAAAAAAA\n",
      "﻿\n",
      "Hahahahahahahahaha Cant stop laughing at 0:53 - 0:57﻿\n",
      "@F7wxqw The Barber of Seville by Gioachino Rossini﻿\n",
      "@ObviouslyWeirdStuff The Barber of Seville by Gioachino Rossini﻿\n",
      "@AbbeyRoad1115 The Barber of Seville by Gioachino Rossini﻿\n",
      "@ilovefriends100 No its for Gioachino Rossini the song is called The Barber of Seville﻿\n",
      "@ShawnJohnson3 The Barber of Seville By Gioachino Rossini﻿\n",
      "omg this is so funny my boyfriend and I laughed so hard lol ﻿\n",
      "lol 1:03 to 1:10 really funny﻿\n",
      "@ShawnJohnson3  This is from Mozart's opera, The Marriage of Figaro.  His music gets used a lot in movies, TV and commercials.﻿\n",
      "This is why cats rule the intertubes.﻿\n",
      "WHATS THIS SONG CALLED?!﻿\n",
      "@ 0:38-0:40 0___o﻿\n",
      "0.27-0.29 total cat fight﻿\n",
      "Wonder how funny it would be If the cat pulled that boy into a litter box, who's laughing then?!﻿\n",
      "@bjroberts65 that looks more like a falkon punch XD﻿\n",
      "0:11 to 0:13 BRUCE LEE cat!!!﻿\n",
      "0:28 cat fight!﻿\n",
      "@ShanLPH76 I know, not funny at all. ﻿\n",
      "poor kitty that was being pulled by the kid in the tube... :( ﻿\n",
      "haha aw poor kitties!﻿\n",
      "lol\n",
      "'﻿\n",
      "@ladyredsea i agree, first it looks funny but, they can have pain or the one with the stiars accident, can have something at her backbone.﻿\n",
      "I laugh everytime...﻿\n",
      "Poor kittens﻿\n",
      "i bet all the cats are thinking, \"im a ninja...be a ninja...walk like a ninj...oh crap!\"﻿\n",
      "the one when the kid pulls the cat into the tub- best one i seen today! (nd i seen a lot)﻿\n",
      "@katerina123098 i agree with u :O﻿\n",
      "the best one is the black/white kitten trying to jump to the desk! so cute, i cant wait to have my own kitty cat!!﻿\n",
      "aww this is soooo sad they think its funny when the poor thing falls into his darkest feer?!??!??1 its like pepole laughing at you almost getting hit by a car of fighting with ur bully think about the cats!!!!!!!!!!!!!!!!!!!﻿\n",
      "0:49 I DON'T WANNA GO!!!\n",
      "1:07 kiss me you fool﻿\n",
      "0:49 I DON'T WANNA GO!!!﻿\n",
      "There from AFV﻿\n",
      "this proves cats are so ninja\n",
      "﻿\n",
      "what is so funny about a cat falling or scaring that could FKING KILL HIM!!! NOW MAYBE 1 OF THE CATS ARE HURT AND NEETS TO BE PUT TO SLEEP!!!\n",
      "\n",
      "not funny!﻿\n",
      "The first one LOL﻿\n",
      "Couldnt stop lafin XD﻿\n",
      "The funny thing about cats is that they're so random!﻿\n",
      "what stupid cats!hahaha\n",
      "﻿\n",
      "SO HILARIOUS!  check out 1:08﻿\n",
      "poor cats , i feel sorry for them, not funny at all ;(﻿\n",
      "@Lilipea14 my friend and i did the same thing and i started laughing as soon as it started\n",
      "﻿\n",
      "Those are some funny cats!!!!!!!:0﻿\n",
      "I HATE CATS!!!﻿\n",
      "@ 0:48 That cat's like,\" NOOOOOOOOOOOOOOOOOOOOOOOOOO\"\n",
      "\n",
      "*splash*﻿\n",
      "1:07 CAT PWNS﻿\n",
      "@iKhwAnfAez09  Mostly but if raised together they are usually fine. Its nothing to do with being mistreated as someone else said, my dogs are well loved house pets but show them a cat in their garden and theyll chase it.﻿\n",
      "last part was the funniest thumbs up!!!﻿\n",
      "LOL i live cats if tare ok﻿\n",
      "i luv the part when the cat jumps over the chair and into the corner of the wall! rofl!﻿\n",
      "hilarious, but i feel bad for the poor cats!!!﻿\n",
      "0:54 HAPPY BIRTHDAY!﻿\n",
      "lol, the first one was the best. ﻿\n",
      "@iKhwAnfAez09 only dogs i've seen that kill cats are mistreated/ignored﻿\n",
      "@iKhwAnfAez09 only dogs i've seen that kill cats are mistreated/ignored (same can be said for humans)﻿\n",
      "@iKhwAnfAez09 only dogs i've seen that kill cats are mistreated/ignored﻿\n",
      "I Love 0:15 XD﻿\n",
      "At the end that is just too damn cute the cat just glomped that dog :D﻿\n",
      "0:48 - 0:53\n",
      "that's my favorite﻿\n",
      "wait wait wait,\n",
      "dont dogs hate cats?﻿\n",
      "awesome ownage at the end﻿\n",
      "What is the name of that famous piece of music? It's my favorite.﻿\n",
      "gravity!﻿\n",
      "hahahaha﻿\n",
      "you all forget that cats are nervous animals that hate water. GROW THE F--K UP.﻿\n",
      "rofl at the cat falling down the steps﻿\n",
      "@DarkEarthDragon01 that kid's lucky he didnt get the fuck clawed out of him﻿\n",
      "the cats pawing at 0:28 lol wer they breathing﻿\n",
      "@Miley12387 THATS KATRATE!!!﻿\n",
      "If I could have 4 cats from this video, I would take :\n",
      "1. 0:43  'Cause he looks energetic and nice :D\n",
      "2. 0:15  He looks lazy (Just like me) :DDDDDD\n",
      "3. 0:18  'Cause he's freakin' adorable\n",
      "4. 0:49  'Cause he's freakin' a-dor-kable & hes hilarious.﻿\n",
      "its not funny its torturing ﻿\n",
      "my favorite one is the last one when the cat glomps the dog xDD﻿\n",
      "HAHAHAHAHAHAHA...Oh god, my stomach hurts!!! LMAO!!! the siamese cat slaps of dooom just did it for me LMAO!!!!﻿\n",
      "LOL @ 0:34!!!!!! I am crying right now!!!!﻿\n",
      "0:49 most epic scene of cats evar﻿\n",
      "0:10 WTF ahahahahahahahahahah﻿\n",
      "0:31﻿\n",
      "0:27 was funny when the 2 cats had a boxing match\n",
      "my cat does that to everyone but not that fast :) :) :)﻿\n",
      "I can honestly say I've never seen a cat fall down stairs in that manner before!  XD﻿\n",
      "Best part, for me, was when the two siamese cats started slapping each other.\n",
      "\n",
      "\"Sissy ninja-cat fight!\"﻿\n",
      "watch this without laughing!!!!!!﻿\n",
      "OMG LOL﻿\n",
      "@MegaSkya An which clip here is the animal abuse, exactely? Cats might be intelligent, but they are suprisingly capable of getting themselves in trouble. The only clip that shows a human at fault is the baby dragging the cat into the bathtub - and the cat did not really object until it was too late. Trying to come across as the only 'mature' person around here if there is not really anything wrong with this video at all is just laughable. ﻿\n",
      "0:15 look it's a slinky﻿\n",
      "The cat killed the fish ﻿\n",
      "0:32 If I'm going down I'll take this toaster with me!﻿\n",
      "hahaha thats quality!!﻿\n",
      "ok my best part was when the one cat came around the corner and scared the crap out of the other cat. NOW that was funny﻿\n",
      "Promoting animal abuse is not funny. ﻿\n",
      "HAHAHAHA!!﻿\n",
      ":43 lmao and :59... Best part is when kid drags the cat in the tub lmao lolololol﻿\n",
      "naaa :L the best ones when the cat has tht sticky ribbon on his head :L :)﻿\n",
      "ahahahahahahahahahaahhahahahabahahahahhahah﻿\n",
      "toaster fall!!! xD\n",
      "﻿\n",
      "So GOOD This video kept me laughing for a while after I saw it. Just HILARIOUS!﻿\n",
      "1:08 what did u say about my mumma???﻿\n",
      "The cat got wet and didn't die. Stop crying wussies. The video was hilarious!﻿\n",
      "There is no such thing as a graceful cat when your watching this ha ha ha﻿\n",
      "I love the boxing cats amazing, I also love a cat that walked on walls but wasn't here﻿\n",
      "last one - I LOVE YOOU.﻿\n",
      "0:15 funny LOL﻿\n",
      "Best part when the kid drags the cat into the tub xD﻿\n",
      "0:49 ....been a while since i laughed that hard﻿\n",
      "0:55 awesome!!﻿\n",
      "0:43 is the best sooooooooooooooooooo cute:))﻿\n",
      "Me and my bff laughed so hard the 1st time we saw this!!!!The second time we had a contest to see who could stay the longest without laughing!(She won!!!!)﻿\n",
      "Some  of it was funny some of it was Not ... I do not think fight cats are funny at all  who ever thinks that  is goof ball...or kittens getting pulled into tubs...goof ball Fight cats that hurt each other...and the kitten could of clawed the kid in the tube  that is cat and child Endangerment!!  NOT Funny!!  Wonder what Animal Rescue would say about it...﻿\n",
      "Lolcats: The Movie﻿\n",
      "Haha﻿\n",
      "funnier than that \"cat antics\" video﻿\n",
      "29...catfite! literally! lol﻿\n",
      "LMAO first time I saw this! :L:L:L﻿\n",
      "The one with the baby and the white cat was really funny﻿\n",
      "alright too many crazy animals﻿\n",
      "its so funny! i could cry   :}﻿\n",
      "the scene at 0:45 made me laugh rly hard!﻿\n",
      "at the end im like ohhh my dont get the dog right them omg dont make out in the kitchen!!!﻿\n",
      "in this case yes!  Think so.﻿\n",
      "These cats have miserable and weird lives.and thats all im gonna say.﻿\n",
      "i laughed so hard i started crying because my sides started hurting\n",
      "﻿\n",
      "0:34 - If I'm going, I'm taking the toaster with me!﻿\n",
      "0:54 is the best part x3﻿\n",
      "That was pretty funny. I hope you had a good time making it﻿\n",
      ":25 owned! LoL!!!﻿\n",
      "Haha...Ow...stop...my....sides...HURT!...AHAHAHAHAHAHAH ﻿\n",
      "soooooooooooooooo funny!!!!!!﻿\n",
      "omg!!!!!!! this is the funniest videoin the world of funny viedos i was laughing sooooooooooooooo hard!!!!!!!\n",
      "﻿\n",
      "0:44 hatchou! boom!\n",
      "that got me rofled!﻿\n",
      "omg﻿\n",
      "@CaileyRoche09  I did too~﻿\n",
      "This was awesome...i cried i was laughing so hard﻿\n",
      "ROFLMAO!!!﻿\n",
      "@aeromilagro85 hahahahahaha﻿\n",
      "@CaileyRoche09 OMG ME TOO lolololol﻿\n",
      "@blipblopbloop3 ohhk may I ask why?﻿\n",
      "lol 0:49﻿\n",
      "im laughing sooo hard my chest hurts and im crying!!! hahahahahahahhahah﻿\n",
      "i want one of those cats that hurts children.﻿\n",
      "OMG! I took a break from studying for exams, decided to watch a few funny videos to cheer myself up. I watched this 12 times! Now it hurts to laugh!﻿\n",
      "hahaha!!! i cant stop laughing lol i totally love this video!﻿\n",
      "cats n dogs r best animals on earth﻿\n",
      "My favorite parts lol 0:06 0:08 0:14 0:16 0:22 0:25 0:28 0:30 0:33 0:36 is my fav 0:39 0:42 0:44 0:50 0:55 lol this is the best cat video﻿\n",
      "wow, youtube suddenly turned into a kitty torture chamber﻿\n",
      "hahahahahahaha loooove it!!﻿\n",
      "0:50 \"honey, get the cam! our son is tryin' to kill the cat again!\"﻿\n",
      "MUAHAHAHHAH﻿\n",
      "0:49!!! THE BEST!﻿\n",
      "great!!!!﻿\n",
      "please everybody who reads this can u sub me and send me a message to say u did??? as u may clearly c on my channel i really need help so to make it fair i will sub u bak within atleast a week... if i dont then feel free to cancel the sub :) thank u if u do﻿\n",
      "this is sooooooooooooooooooooooooo funny﻿\n",
      "part 4:what you want some trouble? ha come on﻿\n",
      "LOL @ 0:47. The cat was like \"What's that sou-HOLY BEJEEZUZ!\"﻿\n",
      "very funny﻿\n",
      "0:49 ... That baby could've got FUCKED up!! xD﻿\n",
      "Nerdrage at 0:26 - 0:29 :DDDDDDDDD﻿\n",
      "@CaileyRoche09 yer it hurt because i laughed so hard﻿\n",
      "LOL random cat fight XD﻿\n",
      "lol the cat with the train had a spazz moment﻿\n",
      "Good ole cats :)﻿\n",
      "0:15  I always wondered if a cat would count down (literally) the stairs﻿\n",
      "0:10 - Awesome!﻿\n",
      "so funny man oh no HAHAHAHA plz stop this omg ahahaha﻿\n",
      "i love this vid!!!! i laughed so hard it actully hurt!!!!﻿\n",
      "The cat at 0:32 took the toaster out with it﻿\n",
      "T-H-E BEST CAT VIDEO E-V-E-R!﻿\n",
      "Stupid humans, no right to own Animals and treat them like they do in this clip. Childs don't know how to interact with Animals, so the parents have to show them, how!﻿\n",
      "My fav is 0:20 and 0:26 too funny﻿\n",
      "0:42﻿\n",
      "Omg that's freakin hillarious!!!﻿\n",
      "0:11 was the best i never get tired of seeing that one.﻿\n",
      "hhaah the cat with bow totally pwned﻿\n",
      "the second cat  LOL﻿\n",
      "the cat in the bath tub was funny as fuck!!!@@!@!@!@!﻿\n",
      "0:26 CAT FIGHT litterally﻿\n",
      "1:07 i love! +.+﻿\n",
      "i love the cat with the bow on its head XD﻿\n",
      "0:15 LOL XD\n",
      "0:19 what happened to that cat?!?!?! ;PP\n",
      "0:26 cat's war\n",
      "lol so funny :D﻿\n",
      "So funny﻿\n",
      "thats halarious﻿\n",
      "0:54 I AM PRESENT!﻿\n",
      "at 0:54 the cats like get it off me help!!﻿\n",
      "poor cats...﻿\n",
      "lol at 0:49\n",
      "the cats like wtf are you doing lol...﻿\n",
      "what is the name off this song?﻿\n",
      "i wonder why my cat does that same thing.. at 0:38... its like wtf are you going for lol﻿\n",
      "1:06  smooch i love you﻿\n",
      "1:06 Cutest thing I have seen in a long time.﻿\n",
      "you think cats are dumb? stop complaining you cant change anything. btw, learn how to spell.﻿\n",
      "@TheCountryGurl1234 Shut your trap.﻿\n",
      "pussy cats!﻿\n",
      "lol at 0:12﻿\n",
      "u shuda watched it in 3D at the theatre!! whole different experience!﻿\n",
      "I think cats are much smarter, but anyway. You should see some of the dog AFVs they are really funny.﻿\n",
      "0:50- LOL!!﻿\n",
      "Upon a first impression, that cat at the very end looks like she's saying \"Oh gimme a hug, you big fat stoneface!\" XD﻿\n",
      "0:25 Ninja Kitty lol﻿\n",
      "ROFL that cat pushed that kid down﻿\n",
      "I lol'd at :52﻿\n",
      "@wererat2000 exactly what was going through his mind!﻿\n",
      "@PressAltF4OrElse OMG i died at that﻿\n",
      "0:48 ... HALP MEZ!﻿\n",
      "Baby got pwned at 0:25 XD﻿\n",
      "i think the guy filming it almost did too.﻿\n",
      "0:28﻿\n",
      "dumb ass cats...rotl!!﻿\n",
      "0:50 i feel so sorry for that cat!﻿\n",
      "rofl!!!!!!﻿\n",
      "0:48 to 0:53\n",
      "So damn cute :D﻿\n",
      "0:48 \"don't pull me in!don't pull me in!don't pull me in!don't pull me in!don't pull me in!don't pull me in!don't pu-GAAAAAAAAAAAAAAAAA!\"﻿\n",
      "LOL!!!!﻿\n",
      "loooool 0:26 made me pee myself :D﻿\n",
      "@mnm5476 Lol I have no clue﻿\n",
      "how on earth did that cat just fall down the stairs?﻿\n",
      "0:49 i loled all the way to my\n",
      " last breath﻿\n",
      "0:27 - 0:30 Hmm-mm-mmm, bitch fight!﻿\n",
      "that was fing halarious﻿\n",
      "His parents should stop filming and do something...﻿\n",
      "1:00 It looks just like my old cat Kiki. R.I.P sweetie.﻿\n",
      "come see some adoptable kitties at my profile. They are waiting at St. Tammany Humane Society.﻿\n",
      "i almost fell out of my chair from laughter!﻿\n",
      "Cat at 0:48 Nuuuuuuu﻿\n",
      "CATS ARE SP FUNNY, dogs suck as hell﻿\n",
      "i laugh at this i choke on my dinner﻿\n",
      "rofl so hard it hurts!﻿\n",
      "oah noz im going to be sleeping with the fishes﻿\n",
      "lolllllllllllll﻿\n",
      "First cat in the video was like\n",
      "\n",
      "Commence operation!!\n",
      "ABORT ABORT!!﻿\n",
      "lmao 0:24 sneak attack cat is the best xD﻿\n",
      "lmao the cat looks funny at 0:52 trying 2 get out of the water﻿\n",
      "aw this is so funny! 0:43! wut happened, did it get a scare or did it sneeze? haha who knows?﻿\n",
      "0:12 omg so funny﻿\n",
      "1:05 omg﻿\n",
      "me and my brother were laughin hard really good video!﻿\n",
      "LOL 00:20 SO FUNNY!!!﻿\n",
      "It`s a part of  \"The Barber of Seville\" by Rossini﻿\n",
      "thats great﻿\n",
      "First clip...  lmao!!! 5*'s﻿\n",
      "LOL.\n",
      ":D﻿\n",
      "0:11﻿\n",
      "LMFAO @ 0.48﻿\n",
      "cats r like the funniest animals EVER!!!!!!!!!LOLOLOLOL﻿\n",
      "ive definintly seen funnier sorry i cant spell defeninitly right﻿\n",
      "i like the one in this vid that shows a cat with a yellow bow on its head at the very end of the video.!!!hahahahahahhehehehehehe﻿\n",
      "lmao the baby drag the cat into the bathtub xD!! 0:51!!!!!!!!!﻿\n",
      "Aww this video is sooo funny and cute!﻿\n",
      "theres always one...﻿\n",
      "wat cute silly kitties!!!!!!!!!!!!!﻿\n",
      "0:03 thats a big ass cat lolz﻿\n",
      "hahaha that's so funny!!﻿\n",
      "whats the song called?﻿\n",
      "wow i like it that was soo fun﻿\n",
      "0:54 should be animal cruelty﻿\n",
      "0:54  lol!﻿\n",
      "I lolled =D﻿\n",
      "it was VERY FUNNY  i love it!!!!!!!!  lol﻿\n",
      "*report we have a cat and a toaster down repete* lol!!﻿\n",
      "The cat at 0:49 is funny!!﻿\n",
      "cats are so cool﻿\n",
      "0:18 how the fuck does he do that???﻿\n",
      "0:53 ist einfach zum Schiessen! ;-)﻿\n",
      "at 0:25 is what i call a hit and run﻿\n",
      "Oh god...the one running on just its front legs...LOL.﻿\n",
      "XD I can't breathe I'm laughing so hard at   :53﻿\n",
      "the one that fell in the tank look like it killed the fish﻿\n",
      "the cat in the tub is sooo funny﻿\n",
      "nice choice of music.﻿\n",
      "the white one in the thub made me laugh as hell! XDDDDDDDD poor kitty﻿\n",
      "these aren't too terribly funny... they''re just getting scared.﻿\n",
      "Good for you. If you hate them then why watch this video? Just to tell that you hate cats? Wow. Interesting~﻿\n",
      "Very funny!!!!!﻿\n",
      "0:43  I think mittens stealing my cookies ah ha i caught you.﻿\n",
      "man those chianese cats sure can fight at 00:26﻿\n",
      "The bow﻿\n",
      "LOL 0:48﻿\n",
      "whateva dogs are mutts, makes me not like them, they follow you every where, its so annoying.﻿\n",
      "i hate cats but i luv dogs﻿\n",
      "Lmao x10﻿\n",
      "fine then dont﻿\n",
      "how about, no﻿\n",
      "ALL YOUTUBERS!!!\n",
      "A massive prank will be pulled on \"comedian\" Fred on youtube.\n",
      "What is trying to be done is get everyone that has a subscription to fred, to unsubscribe. If this is succsesful, then it will make the news, cause controversy,\n",
      "COPY & PASTE IF YOU SUPPORT THIS!!\n",
      "PASTE ON OTHER VIDEOS ALSO\n",
      "★★★★★★★★★★★★★★★★★★★★★★★★★★ \n",
      "(THE UNSUBSCRIBING WILL BEGIN ON JUNE 1st﻿\n",
      "this is funny!\n",
      ":)﻿\n",
      "ALL YOUTUBERS!!!\n",
      "A massive prank will be pulled on \"comedian\" Fred on youtube.\n",
      "What is trying to be done is get everyone that has a subscription to fred, to unsubscribe. If this is succsesful, then it will make the news, cause controversy,\n",
      "COPY & PASTE IF YOU SUPPORT THIS!!\n",
      "PASTE ON OTHER VIDEOS ALSO\n",
      "★★★★★★★★★★★★★★★★★★★★★★★★★★ \n",
      "(THE UNSUBSCRIBING WILL BEGIN ON JUNE 1st﻿\n",
      "when the boy pulls the in tub that cat was in a bath toy zone﻿\n",
      "how is this funny?  i watched half, felt terrible and could not watch anymore﻿\n",
      "if you watch it 3 or 4 times it will still be funny﻿\n",
      "omg! lol!﻿\n",
      "the cat r so cute funny lol           \n",
      "buger i feel so bad﻿\n",
      "1:06 FAIL﻿\n",
      "that is hilarious!!!!﻿\n",
      "its either slip, jump, or Hit and Run lmao XD﻿\n",
      "That baby could have drowned the kitten by accident.If I knew who that family was I would send the spca over to talk  to them about how serious the risk to a kitten is when a baby is involved.Think, people.Think!﻿\n",
      "0:43 and 0:52 are so funny! Lol XD﻿\n",
      "hilarios dude﻿\n",
      ":48 is my fav﻿\n",
      "Cool﻿\n",
      "haha that was funny but at 0:58 what does that cat get scared about?﻿\n",
      "0:27 That's what you call a REAL cat fight lol.﻿\n",
      "The kitty cats are okay! Cats are really tough animals. :) I loved the cat with the bow stuck on it's head! XP﻿\n",
      "cats lol u gotta learn to luv them!!﻿\n",
      "the kitties are funny. Dont worry people, none of those falls were bad enough to really hurt a cat. Cats are extremely resilliant.﻿\n",
      "What is your point?﻿\n",
      "funny but poor cats!﻿\n",
      "I SO AGREE﻿\n",
      "+there are a couple reasons y i hate babies   1:they are mean to animals like cats 2:THEY ARE SO LOUD WHEN THEY CRY 3:THEY CRAP THERE PANTS﻿\n",
      "that last one was cute. Pretty funny what some cats get into eh﻿\n",
      "1:06﻿\n",
      "0:14!!\n",
      "my cat did that once!\n",
      "LMAO!!!!!﻿\n",
      "LMAO!!!!!!!!!!!﻿\n",
      "0:54 XD﻿\n",
      "0:18 A skilled cat!﻿\n",
      "0:55 Hilarious! xD﻿\n",
      "pissing ourselves﻿\n",
      "I loled﻿\n",
      "HAHAHA!!!   0:11!!  Funny shit!﻿\n",
      "funny storie my son is 8 years old i went in his room and saw the cat in the pillow case. he turned on a blow dryer, and i sware the pillow case flew 10 feet and hit the ceiling. the cat tore a hole in the pillow case and ran around the room. funnest shit i ever saw.﻿\n",
      "OMG it's 11 pm here and i'm laghing soo loud and hard. This is the greatest vid on cats i have seen so far.\n",
      "I've seen my cats do crazy stuff but not this funny.﻿\n",
      "hahaha 45-48 is my favorite!!﻿\n",
      "1:08 \"i LOVE you!\"﻿\n",
      "some of these remind me of my cat Snuggles﻿\n",
      "funny very funny﻿\n",
      "at the end that cat was a beast!﻿\n",
      "rofl oooomg! The white cat is sooo fun XD﻿\n",
      "nic vid very funny﻿\n",
      "the saimise cats were really doing some kung fu punches there﻿\n",
      "muy bueno sobre todo el gatito blanco que lo mete el chiquillo en el baño LoL﻿\n",
      "that was funny but i think i saw all the cats thingys somes wheres else! lol thats okay maybe on tv but that was real funny﻿\n",
      "Just plain awesome!﻿\n",
      "I love cats and this video is soooooooo funny﻿\n",
      "CPU times: user 1.04 s, sys: 48.8 ms, total: 1.09 s\n",
      "Wall time: 3min 49s\n"
     ]
    }
   ],
   "source": [
    "%%time\n",
    "# This is a test if all the comments of a youtube video are downloaded correctly\n",
    "youtube_id = \"7zCIRPQ8qWc\"\n",
    "for comment in yc.download_comments(youtube_id):\n",
    "    print(comment['text'])"
   ]
  },
  {
   "cell_type": "markdown",
   "metadata": {},
   "source": [
    "# Reading the dataset"
   ]
  },
  {
   "cell_type": "code",
   "execution_count": 4,
   "metadata": {
    "collapsed": false
   },
   "outputs": [
    {
     "name": "stdout",
     "output_type": "stream",
     "text": [
      "Found 18474 train unique videos and 4263 test videos.\n"
     ]
    }
   ],
   "source": [
    "train_unique = yc.unique_videos_in_dataset('data/comedy_comparisons.train')\n",
    "test_unique = yc.unique_videos_in_dataset('data/comedy_comparisons.test')\n",
    "with open('train_unique', 'w') as t:\n",
    "    t.write(\"\\n\".join(train_unique))\n",
    "with open('test_unique', 'w') as t:\n",
    "    t.write(\"\\n\".join(test_unique))\n",
    "\n",
    "print(\"Found {0} train unique videos and {1} test videos.\".format(len(train_unique), len(test_unique)))"
   ]
  },
  {
   "cell_type": "code",
   "execution_count": 5,
   "metadata": {
    "collapsed": false
   },
   "outputs": [
    {
     "ename": "KeyboardInterrupt",
     "evalue": "",
     "output_type": "error",
     "traceback": [
      "\u001b[0;31m---------------------------------------------------------------------------\u001b[0m",
      "\u001b[0;31mKeyboardInterrupt\u001b[0m                         Traceback (most recent call last)",
      "\u001b[0;32m<ipython-input-5-cacdbb9175c5>\u001b[0m in \u001b[0;36m<module>\u001b[0;34m()\u001b[0m\n\u001b[1;32m      6\u001b[0m \u001b[0;34m\u001b[0m\u001b[0m\n\u001b[1;32m      7\u001b[0m \u001b[0mpbar\u001b[0m \u001b[0;34m=\u001b[0m \u001b[0mtqdm_notebook\u001b[0m\u001b[0;34m(\u001b[0m\u001b[0mrange\u001b[0m\u001b[0;34m(\u001b[0m\u001b[0mlen\u001b[0m\u001b[0;34m(\u001b[0m\u001b[0mtrain_unique\u001b[0m\u001b[0;34m)\u001b[0m\u001b[0;34m)\u001b[0m\u001b[0;34m,\u001b[0m \u001b[0mdesc\u001b[0m\u001b[0;34m=\u001b[0m\u001b[0;34m\"Downloading video\"\u001b[0m\u001b[0;34m)\u001b[0m\u001b[0;34m\u001b[0m\u001b[0m\n\u001b[0;32m----> 8\u001b[0;31m \u001b[0mtrain\u001b[0m \u001b[0;34m=\u001b[0m \u001b[0myc\u001b[0m\u001b[0;34m.\u001b[0m\u001b[0mnon_private_videos\u001b[0m\u001b[0;34m(\u001b[0m\u001b[0mtrain_unique\u001b[0m\u001b[0;34m,\u001b[0m \u001b[0mpbar\u001b[0m\u001b[0;34m)\u001b[0m\u001b[0;34m\u001b[0m\u001b[0m\n\u001b[0m\u001b[1;32m      9\u001b[0m \u001b[0mtest\u001b[0m \u001b[0;34m=\u001b[0m \u001b[0myc\u001b[0m\u001b[0;34m.\u001b[0m\u001b[0mnon_private_videos\u001b[0m\u001b[0;34m(\u001b[0m\u001b[0mtest_unique\u001b[0m\u001b[0;34m,\u001b[0m \u001b[0mpbar\u001b[0m\u001b[0;34m)\u001b[0m\u001b[0;34m\u001b[0m\u001b[0m\n\u001b[1;32m     10\u001b[0m \u001b[0;32mwith\u001b[0m \u001b[0mopen\u001b[0m\u001b[0;34m(\u001b[0m\u001b[0;34m'train_unique_non_private'\u001b[0m\u001b[0;34m,\u001b[0m \u001b[0;34m'w'\u001b[0m\u001b[0;34m)\u001b[0m \u001b[0;32mas\u001b[0m \u001b[0mt\u001b[0m\u001b[0;34m:\u001b[0m\u001b[0;34m\u001b[0m\u001b[0m\n",
      "\u001b[0;32m/Users/vassilis/programming/data_science/youtube_comedy_slam/youtube_comments.py\u001b[0m in \u001b[0;36mnon_private_videos\u001b[0;34m(idlist, pbar)\u001b[0m\n\u001b[1;32m     34\u001b[0m             \u001b[0mvideos\u001b[0m \u001b[0;34m+=\u001b[0m \u001b[0;34m[\u001b[0m\u001b[0mvideo_id\u001b[0m\u001b[0;34m]\u001b[0m\u001b[0;34m\u001b[0m\u001b[0m\n\u001b[1;32m     35\u001b[0m         \u001b[0mupdate\u001b[0m\u001b[0;34m(\u001b[0m\u001b[0;36m1\u001b[0m\u001b[0;34m)\u001b[0m\u001b[0;34m\u001b[0m\u001b[0m\n\u001b[0;32m---> 36\u001b[0;31m         \u001b[0msleep\u001b[0m\u001b[0;34m(\u001b[0m\u001b[0;36m0.5\u001b[0m\u001b[0;34m)\u001b[0m\u001b[0;34m\u001b[0m\u001b[0m\n\u001b[0m\u001b[1;32m     37\u001b[0m     \u001b[0;32mreturn\u001b[0m \u001b[0mvideos\u001b[0m\u001b[0;34m\u001b[0m\u001b[0m\n\u001b[1;32m     38\u001b[0m \u001b[0;34m\u001b[0m\u001b[0m\n",
      "\u001b[0;31mKeyboardInterrupt\u001b[0m: "
     ]
    }
   ],
   "source": [
    "# Counting the number of unique and non private videos in the dataset\n",
    "# This cell shows how it was initially run for demonstrational purposes\n",
    "\n",
    "from tqdm import tqdm, tqdm_notebook, tnrange\n",
    "from time import sleep\n",
    "\n",
    "pbar = tqdm_notebook(range(len(train_unique)), desc=\"Downloading video\")\n",
    "train = yc.non_private_videos(train_unique, pbar)\n",
    "test = yc.non_private_videos(test_unique, pbar)\n",
    "with open('train_unique_non_private', 'w') as t:\n",
    "    t.write(\"\\n\".join(train))\n",
    "with open('test_unique_non_private', 'w') as t:\n",
    "    t.write(\"\\n\".join(test))\n",
    "print(\"There are {0} unique non-private videos in train and {1} unique non-private in test\".format(len(train), len(test)))"
   ]
  },
  {
   "cell_type": "code",
   "execution_count": 1,
   "metadata": {
    "collapsed": false
   },
   "outputs": [
    {
     "name": "stdout",
     "output_type": "stream",
     "text": [
      "Initial train dataset lines: 912969 Clean dataset: 441479\n",
      "Initial train dataset lines: 225593 Clean dataset: 130615\n"
     ]
    }
   ],
   "source": [
    "# Now create other train and test datasets without the private videos\n",
    "import csv\n",
    "def clean_dataset(keep_id_file, old_dataset, new_dataset):\n",
    "    \"\"\"\n",
    "    Will read file old_dataset and write to new_dataset\n",
    "    keeping all ids in keep_id_file\n",
    "    \"\"\"\n",
    "    to_keep = {}\n",
    "    with open(keep_id_file, \"r\") as f:\n",
    "        for line in f:\n",
    "            to_keep[line.strip()] = True\n",
    "    # Now remove them\n",
    "    with open(old_dataset) as old_file:\n",
    "        with open(new_dataset, \"w\") as new_file:\n",
    "            old_ds = csv.reader(old_file, delimiter=',')\n",
    "            for row in old_ds:\n",
    "                if (row[0] in to_keep) and (row[1] in to_keep):\n",
    "                    new_file.write(\",\".join(row) + \"\\n\")\n",
    "\n",
    "def num_of_lines(file):\n",
    "    with open(file, 'r') as f:\n",
    "        return sum(1 for line in f)\n",
    "            \n",
    "clean_dataset('data/train_unique_non_private', 'data/comedy_comparisons.train', 'data/comedy_comparisons_clean.train')\n",
    "print(\"Initial train dataset lines:\", num_of_lines('data/comedy_comparisons.train'), \"Clean dataset:\", num_of_lines('data/comedy_comparisons_clean.train'))\n",
    "clean_dataset('data/test_unique_non_private','data/comedy_comparisons.test', 'data/comedy_comparisons_clean.test')\n",
    "print(\"Initial train dataset lines:\", num_of_lines('data/comedy_comparisons.test'), \"Clean dataset:\", num_of_lines('data/comedy_comparisons_clean.test'))\n"
   ]
  },
  {
   "cell_type": "code",
   "execution_count": 11,
   "metadata": {
    "collapsed": false
   },
   "outputs": [
    {
     "data": {
      "text/plain": [
       "['y2emSXSE-N4',\n",
       " 'HZPUQQNRvOg',\n",
       " 'vX95JgKGu0o',\n",
       " 'wu4SU70w7LA',\n",
       " '2FHH-9teZP0',\n",
       " 'SG2B7dIqbNQ',\n",
       " 'rhjIStU0JvI',\n",
       " 'bfU4rTa-PfQ',\n",
       " 'Lr4SS1zxRYg',\n",
       " 'g6lJ2k3TCFg',\n",
       " 'UPTrASEx_p8',\n",
       " 'plieAqK2a00',\n",
       " 'JmtITSojOF8',\n",
       " 'sfQEd-lVHCE',\n",
       " 'wY-1KNh7-NQ',\n",
       " 'YWzqfaX4ofU',\n",
       " 'ot0YhG58PiM',\n",
       " 'dRZIWb_Nzwo',\n",
       " 'KPP5NbjW9eI',\n",
       " 'Uomk60wP2mI',\n",
       " 'cvoOHcAlY2o',\n",
       " 'dbEq8b3y8ws',\n",
       " '2HFTEykZ8mY',\n",
       " 'ap9Fp8lBtMo',\n",
       " 'qrrAB-wu_8s',\n",
       " 'w8UWgufUIv0',\n",
       " 'l1Sj3HSXGxw',\n",
       " 'wHOraxZ3RKM',\n",
       " 'NA3I4aZk0fQ',\n",
       " 'PtTwGA6uVcY']"
      ]
     },
     "execution_count": 11,
     "metadata": {},
     "output_type": "execute_result"
    }
   ],
   "source": [
    "# Select 30 videos at random to then measure the average time to download\n",
    "import numpy as np\n",
    "selected = []\n",
    "file = './data/comedy_comparisons_clean.train'\n",
    "unique = 0\n",
    "with open(file) as csvfile:\n",
    "    encountered = {}\n",
    "    youtube_id = csv.reader(csvfile, delimiter = ',')\n",
    "    for row in youtube_id:\n",
    "        if row[0] not in encountered:\n",
    "            if np.random.random_sample() < 0.5:\n",
    "                selected += [row[0]]\n",
    "                if len(selected) >= 30:\n",
    "                    break\n",
    "            encountered[row[0]] = True\n",
    "            unique += 1\n",
    "        if row[1] not in encountered:\n",
    "            if np.random.random_sample() < 0.5:\n",
    "                selected += [row[1]]\n",
    "                if len(selected) >= 30:\n",
    "                    break\n",
    "            encountered[row[1]] = True\n",
    "            unique += 1\n",
    "\n",
    "selected\n",
    "\n"
   ]
  },
  {
   "cell_type": "code",
   "execution_count": 33,
   "metadata": {
    "collapsed": true
   },
   "outputs": [
    {
     "name": "stdout",
     "output_type": "stream",
     "text": [
      "\n"
     ]
    },
    {
     "ename": "ReadTimeout",
     "evalue": "HTTPSConnectionPool(host='www.youtube.com', port=443): Read timed out. (read timeout=None)",
     "output_type": "error",
     "traceback": [
      "\u001b[0;31m---------------------------------------------------------------------------\u001b[0m",
      "\u001b[0;31mTypeError\u001b[0m                                 Traceback (most recent call last)",
      "\u001b[0;32m/usr/local/lib/python3.5/site-packages/requests/packages/urllib3/connectionpool.py\u001b[0m in \u001b[0;36m_make_request\u001b[0;34m(self, conn, method, url, timeout, chunked, **httplib_request_kw)\u001b[0m\n\u001b[1;32m    384\u001b[0m             \u001b[0;32mtry\u001b[0m\u001b[0;34m:\u001b[0m  \u001b[0;31m# Python 2.7, use buffering of HTTP responses\u001b[0m\u001b[0;34m\u001b[0m\u001b[0m\n\u001b[0;32m--> 385\u001b[0;31m                 \u001b[0mhttplib_response\u001b[0m \u001b[0;34m=\u001b[0m \u001b[0mconn\u001b[0m\u001b[0;34m.\u001b[0m\u001b[0mgetresponse\u001b[0m\u001b[0;34m(\u001b[0m\u001b[0mbuffering\u001b[0m\u001b[0;34m=\u001b[0m\u001b[0;32mTrue\u001b[0m\u001b[0;34m)\u001b[0m\u001b[0;34m\u001b[0m\u001b[0m\n\u001b[0m\u001b[1;32m    386\u001b[0m             \u001b[0;32mexcept\u001b[0m \u001b[0mTypeError\u001b[0m\u001b[0;34m:\u001b[0m  \u001b[0;31m# Python 2.6 and older\u001b[0m\u001b[0;34m\u001b[0m\u001b[0m\n",
      "\u001b[0;31mTypeError\u001b[0m: getresponse() got an unexpected keyword argument 'buffering'",
      "\nDuring handling of the above exception, another exception occurred:\n",
      "\u001b[0;31mTimeoutError\u001b[0m                              Traceback (most recent call last)",
      "\u001b[0;32m/usr/local/lib/python3.5/site-packages/requests/packages/urllib3/connectionpool.py\u001b[0m in \u001b[0;36m_make_request\u001b[0;34m(self, conn, method, url, timeout, chunked, **httplib_request_kw)\u001b[0m\n\u001b[1;32m    386\u001b[0m             \u001b[0;32mexcept\u001b[0m \u001b[0mTypeError\u001b[0m\u001b[0;34m:\u001b[0m  \u001b[0;31m# Python 2.6 and older\u001b[0m\u001b[0;34m\u001b[0m\u001b[0m\n\u001b[0;32m--> 387\u001b[0;31m                 \u001b[0mhttplib_response\u001b[0m \u001b[0;34m=\u001b[0m \u001b[0mconn\u001b[0m\u001b[0;34m.\u001b[0m\u001b[0mgetresponse\u001b[0m\u001b[0;34m(\u001b[0m\u001b[0;34m)\u001b[0m\u001b[0;34m\u001b[0m\u001b[0m\n\u001b[0m\u001b[1;32m    388\u001b[0m         \u001b[0;32mexcept\u001b[0m \u001b[0;34m(\u001b[0m\u001b[0mSocketTimeout\u001b[0m\u001b[0;34m,\u001b[0m \u001b[0mBaseSSLError\u001b[0m\u001b[0;34m,\u001b[0m \u001b[0mSocketError\u001b[0m\u001b[0;34m)\u001b[0m \u001b[0;32mas\u001b[0m \u001b[0me\u001b[0m\u001b[0;34m:\u001b[0m\u001b[0;34m\u001b[0m\u001b[0m\n",
      "\u001b[0;32m/usr/local/Cellar/python3/3.5.1/Frameworks/Python.framework/Versions/3.5/lib/python3.5/http/client.py\u001b[0m in \u001b[0;36mgetresponse\u001b[0;34m(self)\u001b[0m\n\u001b[1;32m   1173\u001b[0m             \u001b[0;32mtry\u001b[0m\u001b[0;34m:\u001b[0m\u001b[0;34m\u001b[0m\u001b[0m\n\u001b[0;32m-> 1174\u001b[0;31m                 \u001b[0mresponse\u001b[0m\u001b[0;34m.\u001b[0m\u001b[0mbegin\u001b[0m\u001b[0;34m(\u001b[0m\u001b[0;34m)\u001b[0m\u001b[0;34m\u001b[0m\u001b[0m\n\u001b[0m\u001b[1;32m   1175\u001b[0m             \u001b[0;32mexcept\u001b[0m \u001b[0mConnectionError\u001b[0m\u001b[0;34m:\u001b[0m\u001b[0;34m\u001b[0m\u001b[0m\n",
      "\u001b[0;32m/usr/local/Cellar/python3/3.5.1/Frameworks/Python.framework/Versions/3.5/lib/python3.5/http/client.py\u001b[0m in \u001b[0;36mbegin\u001b[0;34m(self)\u001b[0m\n\u001b[1;32m    281\u001b[0m         \u001b[0;32mwhile\u001b[0m \u001b[0;32mTrue\u001b[0m\u001b[0;34m:\u001b[0m\u001b[0;34m\u001b[0m\u001b[0m\n\u001b[0;32m--> 282\u001b[0;31m             \u001b[0mversion\u001b[0m\u001b[0;34m,\u001b[0m \u001b[0mstatus\u001b[0m\u001b[0;34m,\u001b[0m \u001b[0mreason\u001b[0m \u001b[0;34m=\u001b[0m \u001b[0mself\u001b[0m\u001b[0;34m.\u001b[0m\u001b[0m_read_status\u001b[0m\u001b[0;34m(\u001b[0m\u001b[0;34m)\u001b[0m\u001b[0;34m\u001b[0m\u001b[0m\n\u001b[0m\u001b[1;32m    283\u001b[0m             \u001b[0;32mif\u001b[0m \u001b[0mstatus\u001b[0m \u001b[0;34m!=\u001b[0m \u001b[0mCONTINUE\u001b[0m\u001b[0;34m:\u001b[0m\u001b[0;34m\u001b[0m\u001b[0m\n",
      "\u001b[0;32m/usr/local/Cellar/python3/3.5.1/Frameworks/Python.framework/Versions/3.5/lib/python3.5/http/client.py\u001b[0m in \u001b[0;36m_read_status\u001b[0;34m(self)\u001b[0m\n\u001b[1;32m    242\u001b[0m     \u001b[0;32mdef\u001b[0m \u001b[0m_read_status\u001b[0m\u001b[0;34m(\u001b[0m\u001b[0mself\u001b[0m\u001b[0;34m)\u001b[0m\u001b[0;34m:\u001b[0m\u001b[0;34m\u001b[0m\u001b[0m\n\u001b[0;32m--> 243\u001b[0;31m         \u001b[0mline\u001b[0m \u001b[0;34m=\u001b[0m \u001b[0mstr\u001b[0m\u001b[0;34m(\u001b[0m\u001b[0mself\u001b[0m\u001b[0;34m.\u001b[0m\u001b[0mfp\u001b[0m\u001b[0;34m.\u001b[0m\u001b[0mreadline\u001b[0m\u001b[0;34m(\u001b[0m\u001b[0m_MAXLINE\u001b[0m \u001b[0;34m+\u001b[0m \u001b[0;36m1\u001b[0m\u001b[0;34m)\u001b[0m\u001b[0;34m,\u001b[0m \u001b[0;34m\"iso-8859-1\"\u001b[0m\u001b[0;34m)\u001b[0m\u001b[0;34m\u001b[0m\u001b[0m\n\u001b[0m\u001b[1;32m    244\u001b[0m         \u001b[0;32mif\u001b[0m \u001b[0mlen\u001b[0m\u001b[0;34m(\u001b[0m\u001b[0mline\u001b[0m\u001b[0;34m)\u001b[0m \u001b[0;34m>\u001b[0m \u001b[0m_MAXLINE\u001b[0m\u001b[0;34m:\u001b[0m\u001b[0;34m\u001b[0m\u001b[0m\n",
      "\u001b[0;32m/usr/local/Cellar/python3/3.5.1/Frameworks/Python.framework/Versions/3.5/lib/python3.5/socket.py\u001b[0m in \u001b[0;36mreadinto\u001b[0;34m(self, b)\u001b[0m\n\u001b[1;32m    574\u001b[0m             \u001b[0;32mtry\u001b[0m\u001b[0;34m:\u001b[0m\u001b[0;34m\u001b[0m\u001b[0m\n\u001b[0;32m--> 575\u001b[0;31m                 \u001b[0;32mreturn\u001b[0m \u001b[0mself\u001b[0m\u001b[0;34m.\u001b[0m\u001b[0m_sock\u001b[0m\u001b[0;34m.\u001b[0m\u001b[0mrecv_into\u001b[0m\u001b[0;34m(\u001b[0m\u001b[0mb\u001b[0m\u001b[0;34m)\u001b[0m\u001b[0;34m\u001b[0m\u001b[0m\n\u001b[0m\u001b[1;32m    576\u001b[0m             \u001b[0;32mexcept\u001b[0m \u001b[0mtimeout\u001b[0m\u001b[0;34m:\u001b[0m\u001b[0;34m\u001b[0m\u001b[0m\n",
      "\u001b[0;32m/usr/local/Cellar/python3/3.5.1/Frameworks/Python.framework/Versions/3.5/lib/python3.5/ssl.py\u001b[0m in \u001b[0;36mrecv_into\u001b[0;34m(self, buffer, nbytes, flags)\u001b[0m\n\u001b[1;32m    923\u001b[0m                   self.__class__)\n\u001b[0;32m--> 924\u001b[0;31m             \u001b[0;32mreturn\u001b[0m \u001b[0mself\u001b[0m\u001b[0;34m.\u001b[0m\u001b[0mread\u001b[0m\u001b[0;34m(\u001b[0m\u001b[0mnbytes\u001b[0m\u001b[0;34m,\u001b[0m \u001b[0mbuffer\u001b[0m\u001b[0;34m)\u001b[0m\u001b[0;34m\u001b[0m\u001b[0m\n\u001b[0m\u001b[1;32m    925\u001b[0m         \u001b[0;32melse\u001b[0m\u001b[0;34m:\u001b[0m\u001b[0;34m\u001b[0m\u001b[0m\n",
      "\u001b[0;32m/usr/local/Cellar/python3/3.5.1/Frameworks/Python.framework/Versions/3.5/lib/python3.5/ssl.py\u001b[0m in \u001b[0;36mread\u001b[0;34m(self, len, buffer)\u001b[0m\n\u001b[1;32m    785\u001b[0m         \u001b[0;32mtry\u001b[0m\u001b[0;34m:\u001b[0m\u001b[0;34m\u001b[0m\u001b[0m\n\u001b[0;32m--> 786\u001b[0;31m             \u001b[0;32mreturn\u001b[0m \u001b[0mself\u001b[0m\u001b[0;34m.\u001b[0m\u001b[0m_sslobj\u001b[0m\u001b[0;34m.\u001b[0m\u001b[0mread\u001b[0m\u001b[0;34m(\u001b[0m\u001b[0mlen\u001b[0m\u001b[0;34m,\u001b[0m \u001b[0mbuffer\u001b[0m\u001b[0;34m)\u001b[0m\u001b[0;34m\u001b[0m\u001b[0m\n\u001b[0m\u001b[1;32m    787\u001b[0m         \u001b[0;32mexcept\u001b[0m \u001b[0mSSLError\u001b[0m \u001b[0;32mas\u001b[0m \u001b[0mx\u001b[0m\u001b[0;34m:\u001b[0m\u001b[0;34m\u001b[0m\u001b[0m\n",
      "\u001b[0;32m/usr/local/Cellar/python3/3.5.1/Frameworks/Python.framework/Versions/3.5/lib/python3.5/ssl.py\u001b[0m in \u001b[0;36mread\u001b[0;34m(self, len, buffer)\u001b[0m\n\u001b[1;32m    569\u001b[0m         \u001b[0;32mif\u001b[0m \u001b[0mbuffer\u001b[0m \u001b[0;32mis\u001b[0m \u001b[0;32mnot\u001b[0m \u001b[0;32mNone\u001b[0m\u001b[0;34m:\u001b[0m\u001b[0;34m\u001b[0m\u001b[0m\n\u001b[0;32m--> 570\u001b[0;31m             \u001b[0mv\u001b[0m \u001b[0;34m=\u001b[0m \u001b[0mself\u001b[0m\u001b[0;34m.\u001b[0m\u001b[0m_sslobj\u001b[0m\u001b[0;34m.\u001b[0m\u001b[0mread\u001b[0m\u001b[0;34m(\u001b[0m\u001b[0mlen\u001b[0m\u001b[0;34m,\u001b[0m \u001b[0mbuffer\u001b[0m\u001b[0;34m)\u001b[0m\u001b[0;34m\u001b[0m\u001b[0m\n\u001b[0m\u001b[1;32m    571\u001b[0m         \u001b[0;32melse\u001b[0m\u001b[0;34m:\u001b[0m\u001b[0;34m\u001b[0m\u001b[0m\n",
      "\u001b[0;31mTimeoutError\u001b[0m: [Errno 60] Operation timed out",
      "\nDuring handling of the above exception, another exception occurred:\n",
      "\u001b[0;31mReadTimeoutError\u001b[0m                          Traceback (most recent call last)",
      "\u001b[0;32m/usr/local/lib/python3.5/site-packages/requests/adapters.py\u001b[0m in \u001b[0;36msend\u001b[0;34m(self, request, stream, timeout, verify, cert, proxies)\u001b[0m\n\u001b[1;32m    402\u001b[0m                     \u001b[0mretries\u001b[0m\u001b[0;34m=\u001b[0m\u001b[0mself\u001b[0m\u001b[0;34m.\u001b[0m\u001b[0mmax_retries\u001b[0m\u001b[0;34m,\u001b[0m\u001b[0;34m\u001b[0m\u001b[0m\n\u001b[0;32m--> 403\u001b[0;31m                     \u001b[0mtimeout\u001b[0m\u001b[0;34m=\u001b[0m\u001b[0mtimeout\u001b[0m\u001b[0;34m\u001b[0m\u001b[0m\n\u001b[0m\u001b[1;32m    404\u001b[0m                 )\n",
      "\u001b[0;32m/usr/local/lib/python3.5/site-packages/requests/packages/urllib3/connectionpool.py\u001b[0m in \u001b[0;36murlopen\u001b[0;34m(self, method, url, body, headers, retries, redirect, assert_same_host, timeout, pool_timeout, release_conn, chunked, **response_kw)\u001b[0m\n\u001b[1;32m    622\u001b[0m             retries = retries.increment(method, url, error=e, _pool=self,\n\u001b[0;32m--> 623\u001b[0;31m                                         _stacktrace=sys.exc_info()[2])\n\u001b[0m\u001b[1;32m    624\u001b[0m             \u001b[0mretries\u001b[0m\u001b[0;34m.\u001b[0m\u001b[0msleep\u001b[0m\u001b[0;34m(\u001b[0m\u001b[0;34m)\u001b[0m\u001b[0;34m\u001b[0m\u001b[0m\n",
      "\u001b[0;32m/usr/local/lib/python3.5/site-packages/requests/packages/urllib3/util/retry.py\u001b[0m in \u001b[0;36mincrement\u001b[0;34m(self, method, url, response, error, _pool, _stacktrace)\u001b[0m\n\u001b[1;32m    254\u001b[0m             \u001b[0;32mif\u001b[0m \u001b[0mread\u001b[0m \u001b[0;32mis\u001b[0m \u001b[0;32mFalse\u001b[0m\u001b[0;34m:\u001b[0m\u001b[0;34m\u001b[0m\u001b[0m\n\u001b[0;32m--> 255\u001b[0;31m                 \u001b[0;32mraise\u001b[0m \u001b[0msix\u001b[0m\u001b[0;34m.\u001b[0m\u001b[0mreraise\u001b[0m\u001b[0;34m(\u001b[0m\u001b[0mtype\u001b[0m\u001b[0;34m(\u001b[0m\u001b[0merror\u001b[0m\u001b[0;34m)\u001b[0m\u001b[0;34m,\u001b[0m \u001b[0merror\u001b[0m\u001b[0;34m,\u001b[0m \u001b[0m_stacktrace\u001b[0m\u001b[0;34m)\u001b[0m\u001b[0;34m\u001b[0m\u001b[0m\n\u001b[0m\u001b[1;32m    256\u001b[0m             \u001b[0;32melif\u001b[0m \u001b[0mread\u001b[0m \u001b[0;32mis\u001b[0m \u001b[0;32mnot\u001b[0m \u001b[0;32mNone\u001b[0m\u001b[0;34m:\u001b[0m\u001b[0;34m\u001b[0m\u001b[0m\n",
      "\u001b[0;32m/usr/local/lib/python3.5/site-packages/requests/packages/urllib3/packages/six.py\u001b[0m in \u001b[0;36mreraise\u001b[0;34m(tp, value, tb)\u001b[0m\n\u001b[1;32m    309\u001b[0m             \u001b[0;32mraise\u001b[0m \u001b[0mvalue\u001b[0m\u001b[0;34m.\u001b[0m\u001b[0mwith_traceback\u001b[0m\u001b[0;34m(\u001b[0m\u001b[0mtb\u001b[0m\u001b[0;34m)\u001b[0m\u001b[0;34m\u001b[0m\u001b[0m\n\u001b[0;32m--> 310\u001b[0;31m         \u001b[0;32mraise\u001b[0m \u001b[0mvalue\u001b[0m\u001b[0;34m\u001b[0m\u001b[0m\n\u001b[0m\u001b[1;32m    311\u001b[0m \u001b[0;34m\u001b[0m\u001b[0m\n",
      "\u001b[0;32m/usr/local/lib/python3.5/site-packages/requests/packages/urllib3/connectionpool.py\u001b[0m in \u001b[0;36murlopen\u001b[0;34m(self, method, url, body, headers, retries, redirect, assert_same_host, timeout, pool_timeout, release_conn, chunked, **response_kw)\u001b[0m\n\u001b[1;32m    577\u001b[0m                                                   \u001b[0mbody\u001b[0m\u001b[0;34m=\u001b[0m\u001b[0mbody\u001b[0m\u001b[0;34m,\u001b[0m \u001b[0mheaders\u001b[0m\u001b[0;34m=\u001b[0m\u001b[0mheaders\u001b[0m\u001b[0;34m,\u001b[0m\u001b[0;34m\u001b[0m\u001b[0m\n\u001b[0;32m--> 578\u001b[0;31m                                                   chunked=chunked)\n\u001b[0m\u001b[1;32m    579\u001b[0m \u001b[0;34m\u001b[0m\u001b[0m\n",
      "\u001b[0;32m/usr/local/lib/python3.5/site-packages/requests/packages/urllib3/connectionpool.py\u001b[0m in \u001b[0;36m_make_request\u001b[0;34m(self, conn, method, url, timeout, chunked, **httplib_request_kw)\u001b[0m\n\u001b[1;32m    388\u001b[0m         \u001b[0;32mexcept\u001b[0m \u001b[0;34m(\u001b[0m\u001b[0mSocketTimeout\u001b[0m\u001b[0;34m,\u001b[0m \u001b[0mBaseSSLError\u001b[0m\u001b[0;34m,\u001b[0m \u001b[0mSocketError\u001b[0m\u001b[0;34m)\u001b[0m \u001b[0;32mas\u001b[0m \u001b[0me\u001b[0m\u001b[0;34m:\u001b[0m\u001b[0;34m\u001b[0m\u001b[0m\n\u001b[0;32m--> 389\u001b[0;31m             \u001b[0mself\u001b[0m\u001b[0;34m.\u001b[0m\u001b[0m_raise_timeout\u001b[0m\u001b[0;34m(\u001b[0m\u001b[0merr\u001b[0m\u001b[0;34m=\u001b[0m\u001b[0me\u001b[0m\u001b[0;34m,\u001b[0m \u001b[0murl\u001b[0m\u001b[0;34m=\u001b[0m\u001b[0murl\u001b[0m\u001b[0;34m,\u001b[0m \u001b[0mtimeout_value\u001b[0m\u001b[0;34m=\u001b[0m\u001b[0mread_timeout\u001b[0m\u001b[0;34m)\u001b[0m\u001b[0;34m\u001b[0m\u001b[0m\n\u001b[0m\u001b[1;32m    390\u001b[0m             \u001b[0;32mraise\u001b[0m\u001b[0;34m\u001b[0m\u001b[0m\n",
      "\u001b[0;32m/usr/local/lib/python3.5/site-packages/requests/packages/urllib3/connectionpool.py\u001b[0m in \u001b[0;36m_raise_timeout\u001b[0;34m(self, err, url, timeout_value)\u001b[0m\n\u001b[1;32m    324\u001b[0m         \u001b[0;32mif\u001b[0m \u001b[0;34m'timed out'\u001b[0m \u001b[0;32min\u001b[0m \u001b[0mstr\u001b[0m\u001b[0;34m(\u001b[0m\u001b[0merr\u001b[0m\u001b[0;34m)\u001b[0m \u001b[0;32mor\u001b[0m \u001b[0;34m'did not complete (read)'\u001b[0m \u001b[0;32min\u001b[0m \u001b[0mstr\u001b[0m\u001b[0;34m(\u001b[0m\u001b[0merr\u001b[0m\u001b[0;34m)\u001b[0m\u001b[0;34m:\u001b[0m  \u001b[0;31m# Python 2.6\u001b[0m\u001b[0;34m\u001b[0m\u001b[0m\n\u001b[0;32m--> 325\u001b[0;31m             \u001b[0;32mraise\u001b[0m \u001b[0mReadTimeoutError\u001b[0m\u001b[0;34m(\u001b[0m\u001b[0mself\u001b[0m\u001b[0;34m,\u001b[0m \u001b[0murl\u001b[0m\u001b[0;34m,\u001b[0m \u001b[0;34m\"Read timed out. (read timeout=%s)\"\u001b[0m \u001b[0;34m%\u001b[0m \u001b[0mtimeout_value\u001b[0m\u001b[0;34m)\u001b[0m\u001b[0;34m\u001b[0m\u001b[0m\n\u001b[0m\u001b[1;32m    326\u001b[0m \u001b[0;34m\u001b[0m\u001b[0m\n",
      "\u001b[0;31mReadTimeoutError\u001b[0m: HTTPSConnectionPool(host='www.youtube.com', port=443): Read timed out. (read timeout=None)",
      "\nDuring handling of the above exception, another exception occurred:\n",
      "\u001b[0;31mReadTimeout\u001b[0m                               Traceback (most recent call last)",
      "\u001b[0;32m<ipython-input-33-fc8460cce079>\u001b[0m in \u001b[0;36m<module>\u001b[0;34m()\u001b[0m\n\u001b[0;32m----> 1\u001b[0;31m \u001b[0mget_ipython\u001b[0m\u001b[0;34m(\u001b[0m\u001b[0;34m)\u001b[0m\u001b[0;34m.\u001b[0m\u001b[0mrun_cell_magic\u001b[0m\u001b[0;34m(\u001b[0m\u001b[0;34m'time'\u001b[0m\u001b[0;34m,\u001b[0m \u001b[0;34m''\u001b[0m\u001b[0;34m,\u001b[0m \u001b[0;34m'import csv\\nimport sys\\nimport numpy as np\\n#with open(\\'./comedy_comparisons.train\\') as csvfile:\\n#    youtube_id_reader = csv.reader(csvfile, delimiter = \\',\\')\\n#visited = {}\\nSIZE = 135\\nchunk = 1\\nunique_videos = []\\nwith open(\\'data/train_unique_non_private\\') as f:\\n    for l in f:\\n        unique_videos += [l.strip()]\\nselected = unique_videos[((chunk * SIZE) + 1):(((chunk + 1) * SIZE)+1)]\\n\\npbar = tqdm_notebook(range(SIZE), desc=\"Downloading comments\")\\n\\ni = 0\\nfieldnames = [\\'youtube_id\\', \\'cid\\', \\'text\\', \\'time\\', \\'author\\']\\nwith open(\\'data/dataset_movies.csv\\', \\'a\\') as outputfile:\\n    writer = csv.DictWriter(outputfile, fieldnames=fieldnames)\\n    writer.writeheader()   \\n    for row in selected:\\n        #print(row)\\n        def download_video_comments(youtube_id):  \\n            global i\\n            global visited\\n            #if youtube_id not in visited:\\n            for comment in yc.download_comments(youtube_id):\\n                writer.writerow({\\'youtube_id\\': youtube_id, \\'cid\\': comment[\\'cid\\'], \\'text\\': comment[\\'text\\'], \\'time\\': comment[\\'time\\'], \\'author\\': comment[\\'author\\']})\\n                sleep(0.1)\\n                #try:\\n                #    print(str(youtube_id) + \\':\\' + comment[\\'text\\'])\\n                #    sys.stdout.flush()\\n                #except:\\n                #    pass\\n\\n                #print(youtube_id)\\n                #visited[youtube_id] = True\\n               # i = i + 1\\n                #print(str(i) + \"-\" * 15 + \"\\\\n\\\\n\")\\n\\n        download_video_comments(row)\\n        pbar.update(1)\\n        sleep(0.5)\\n\\n\\n\\n            '\u001b[0m\u001b[0;34m)\u001b[0m\u001b[0;34m\u001b[0m\u001b[0m\n\u001b[0m",
      "\u001b[0;32m/usr/local/lib/python3.5/site-packages/IPython/core/interactiveshell.py\u001b[0m in \u001b[0;36mrun_cell_magic\u001b[0;34m(self, magic_name, line, cell)\u001b[0m\n\u001b[1;32m   2118\u001b[0m             \u001b[0mmagic_arg_s\u001b[0m \u001b[0;34m=\u001b[0m \u001b[0mself\u001b[0m\u001b[0;34m.\u001b[0m\u001b[0mvar_expand\u001b[0m\u001b[0;34m(\u001b[0m\u001b[0mline\u001b[0m\u001b[0;34m,\u001b[0m \u001b[0mstack_depth\u001b[0m\u001b[0;34m)\u001b[0m\u001b[0;34m\u001b[0m\u001b[0m\n\u001b[1;32m   2119\u001b[0m             \u001b[0;32mwith\u001b[0m \u001b[0mself\u001b[0m\u001b[0;34m.\u001b[0m\u001b[0mbuiltin_trap\u001b[0m\u001b[0;34m:\u001b[0m\u001b[0;34m\u001b[0m\u001b[0m\n\u001b[0;32m-> 2120\u001b[0;31m                 \u001b[0mresult\u001b[0m \u001b[0;34m=\u001b[0m \u001b[0mfn\u001b[0m\u001b[0;34m(\u001b[0m\u001b[0mmagic_arg_s\u001b[0m\u001b[0;34m,\u001b[0m \u001b[0mcell\u001b[0m\u001b[0;34m)\u001b[0m\u001b[0;34m\u001b[0m\u001b[0m\n\u001b[0m\u001b[1;32m   2121\u001b[0m             \u001b[0;32mreturn\u001b[0m \u001b[0mresult\u001b[0m\u001b[0;34m\u001b[0m\u001b[0m\n\u001b[1;32m   2122\u001b[0m \u001b[0;34m\u001b[0m\u001b[0m\n",
      "\u001b[0;32m<decorator-gen-60>\u001b[0m in \u001b[0;36mtime\u001b[0;34m(self, line, cell, local_ns)\u001b[0m\n",
      "\u001b[0;32m/usr/local/lib/python3.5/site-packages/IPython/core/magic.py\u001b[0m in \u001b[0;36m<lambda>\u001b[0;34m(f, *a, **k)\u001b[0m\n\u001b[1;32m    191\u001b[0m     \u001b[0;31m# but it's overkill for just that one bit of state.\u001b[0m\u001b[0;34m\u001b[0m\u001b[0;34m\u001b[0m\u001b[0m\n\u001b[1;32m    192\u001b[0m     \u001b[0;32mdef\u001b[0m \u001b[0mmagic_deco\u001b[0m\u001b[0;34m(\u001b[0m\u001b[0marg\u001b[0m\u001b[0;34m)\u001b[0m\u001b[0;34m:\u001b[0m\u001b[0;34m\u001b[0m\u001b[0m\n\u001b[0;32m--> 193\u001b[0;31m         \u001b[0mcall\u001b[0m \u001b[0;34m=\u001b[0m \u001b[0;32mlambda\u001b[0m \u001b[0mf\u001b[0m\u001b[0;34m,\u001b[0m \u001b[0;34m*\u001b[0m\u001b[0ma\u001b[0m\u001b[0;34m,\u001b[0m \u001b[0;34m**\u001b[0m\u001b[0mk\u001b[0m\u001b[0;34m:\u001b[0m \u001b[0mf\u001b[0m\u001b[0;34m(\u001b[0m\u001b[0;34m*\u001b[0m\u001b[0ma\u001b[0m\u001b[0;34m,\u001b[0m \u001b[0;34m**\u001b[0m\u001b[0mk\u001b[0m\u001b[0;34m)\u001b[0m\u001b[0;34m\u001b[0m\u001b[0m\n\u001b[0m\u001b[1;32m    194\u001b[0m \u001b[0;34m\u001b[0m\u001b[0m\n\u001b[1;32m    195\u001b[0m         \u001b[0;32mif\u001b[0m \u001b[0mcallable\u001b[0m\u001b[0;34m(\u001b[0m\u001b[0marg\u001b[0m\u001b[0;34m)\u001b[0m\u001b[0;34m:\u001b[0m\u001b[0;34m\u001b[0m\u001b[0m\n",
      "\u001b[0;32m/usr/local/lib/python3.5/site-packages/IPython/core/magics/execution.py\u001b[0m in \u001b[0;36mtime\u001b[0;34m(self, line, cell, local_ns)\u001b[0m\n\u001b[1;32m   1175\u001b[0m         \u001b[0;32melse\u001b[0m\u001b[0;34m:\u001b[0m\u001b[0;34m\u001b[0m\u001b[0m\n\u001b[1;32m   1176\u001b[0m             \u001b[0mst\u001b[0m \u001b[0;34m=\u001b[0m \u001b[0mclock2\u001b[0m\u001b[0;34m(\u001b[0m\u001b[0;34m)\u001b[0m\u001b[0;34m\u001b[0m\u001b[0m\n\u001b[0;32m-> 1177\u001b[0;31m             \u001b[0mexec\u001b[0m\u001b[0;34m(\u001b[0m\u001b[0mcode\u001b[0m\u001b[0;34m,\u001b[0m \u001b[0mglob\u001b[0m\u001b[0;34m,\u001b[0m \u001b[0mlocal_ns\u001b[0m\u001b[0;34m)\u001b[0m\u001b[0;34m\u001b[0m\u001b[0m\n\u001b[0m\u001b[1;32m   1178\u001b[0m             \u001b[0mend\u001b[0m \u001b[0;34m=\u001b[0m \u001b[0mclock2\u001b[0m\u001b[0;34m(\u001b[0m\u001b[0;34m)\u001b[0m\u001b[0;34m\u001b[0m\u001b[0m\n\u001b[1;32m   1179\u001b[0m             \u001b[0mout\u001b[0m \u001b[0;34m=\u001b[0m \u001b[0;32mNone\u001b[0m\u001b[0;34m\u001b[0m\u001b[0m\n",
      "\u001b[0;32m<timed exec>\u001b[0m in \u001b[0;36m<module>\u001b[0;34m()\u001b[0m\n",
      "\u001b[0;32m<timed exec>\u001b[0m in \u001b[0;36mdownload_video_comments\u001b[0;34m(youtube_id)\u001b[0m\n",
      "\u001b[0;32m/Users/vassilis/programming/data_science/youtube_comedy_slam/youtube_comments.py\u001b[0m in \u001b[0;36mdownload_comments\u001b[0;34m(youtube_id, sleep)\u001b[0m\n\u001b[1;32m    155\u001b[0m             \u001b[0mdata\u001b[0m\u001b[0;34m[\u001b[0m\u001b[0;34m'page_token'\u001b[0m\u001b[0;34m]\u001b[0m \u001b[0;34m=\u001b[0m \u001b[0mpage_token\u001b[0m\u001b[0;34m\u001b[0m\u001b[0m\n\u001b[1;32m    156\u001b[0m \u001b[0;34m\u001b[0m\u001b[0m\n\u001b[0;32m--> 157\u001b[0;31m         \u001b[0mresponse\u001b[0m \u001b[0;34m=\u001b[0m \u001b[0majax_request\u001b[0m\u001b[0;34m(\u001b[0m\u001b[0msession\u001b[0m\u001b[0;34m,\u001b[0m \u001b[0mYOUTUBE_COMMENTS_AJAX_URL\u001b[0m\u001b[0;34m,\u001b[0m \u001b[0mparams\u001b[0m\u001b[0;34m,\u001b[0m \u001b[0mdata\u001b[0m\u001b[0;34m)\u001b[0m\u001b[0;34m\u001b[0m\u001b[0m\n\u001b[0m\u001b[1;32m    158\u001b[0m         \u001b[0;32mif\u001b[0m \u001b[0;32mnot\u001b[0m \u001b[0mresponse\u001b[0m\u001b[0;34m:\u001b[0m\u001b[0;34m\u001b[0m\u001b[0m\n\u001b[1;32m    159\u001b[0m             \u001b[0;32mbreak\u001b[0m\u001b[0;34m\u001b[0m\u001b[0m\n",
      "\u001b[0;32m/Users/vassilis/programming/data_science/youtube_comedy_slam/youtube_comments.py\u001b[0m in \u001b[0;36majax_request\u001b[0;34m(session, url, params, data, retries, sleep)\u001b[0m\n\u001b[1;32m    103\u001b[0m \u001b[0;32mdef\u001b[0m \u001b[0majax_request\u001b[0m\u001b[0;34m(\u001b[0m\u001b[0msession\u001b[0m\u001b[0;34m,\u001b[0m \u001b[0murl\u001b[0m\u001b[0;34m,\u001b[0m \u001b[0mparams\u001b[0m\u001b[0;34m,\u001b[0m \u001b[0mdata\u001b[0m\u001b[0;34m,\u001b[0m \u001b[0mretries\u001b[0m\u001b[0;34m=\u001b[0m\u001b[0;36m10\u001b[0m\u001b[0;34m,\u001b[0m \u001b[0msleep\u001b[0m\u001b[0;34m=\u001b[0m\u001b[0;36m20\u001b[0m\u001b[0;34m)\u001b[0m\u001b[0;34m:\u001b[0m\u001b[0;34m\u001b[0m\u001b[0m\n\u001b[1;32m    104\u001b[0m     \u001b[0;32mfor\u001b[0m \u001b[0m_\u001b[0m \u001b[0;32min\u001b[0m \u001b[0mrange\u001b[0m\u001b[0;34m(\u001b[0m\u001b[0mretries\u001b[0m\u001b[0;34m)\u001b[0m\u001b[0;34m:\u001b[0m\u001b[0;34m\u001b[0m\u001b[0m\n\u001b[0;32m--> 105\u001b[0;31m         \u001b[0mresponse\u001b[0m \u001b[0;34m=\u001b[0m \u001b[0msession\u001b[0m\u001b[0;34m.\u001b[0m\u001b[0mpost\u001b[0m\u001b[0;34m(\u001b[0m\u001b[0murl\u001b[0m\u001b[0;34m,\u001b[0m \u001b[0mparams\u001b[0m\u001b[0;34m=\u001b[0m\u001b[0mparams\u001b[0m\u001b[0;34m,\u001b[0m \u001b[0mdata\u001b[0m\u001b[0;34m=\u001b[0m\u001b[0mdata\u001b[0m\u001b[0;34m)\u001b[0m\u001b[0;34m\u001b[0m\u001b[0m\n\u001b[0m\u001b[1;32m    106\u001b[0m         \u001b[0;32mif\u001b[0m \u001b[0mresponse\u001b[0m\u001b[0;34m.\u001b[0m\u001b[0mstatus_code\u001b[0m \u001b[0;34m==\u001b[0m \u001b[0;36m200\u001b[0m\u001b[0;34m:\u001b[0m\u001b[0;34m\u001b[0m\u001b[0m\n\u001b[1;32m    107\u001b[0m             \u001b[0mresponse_dict\u001b[0m \u001b[0;34m=\u001b[0m \u001b[0mjson\u001b[0m\u001b[0;34m.\u001b[0m\u001b[0mloads\u001b[0m\u001b[0;34m(\u001b[0m\u001b[0mresponse\u001b[0m\u001b[0;34m.\u001b[0m\u001b[0mtext\u001b[0m\u001b[0;34m)\u001b[0m\u001b[0;34m\u001b[0m\u001b[0m\n",
      "\u001b[0;32m/usr/local/lib/python3.5/site-packages/requests/sessions.py\u001b[0m in \u001b[0;36mpost\u001b[0;34m(self, url, data, json, **kwargs)\u001b[0m\n\u001b[1;32m    516\u001b[0m         \"\"\"\n\u001b[1;32m    517\u001b[0m \u001b[0;34m\u001b[0m\u001b[0m\n\u001b[0;32m--> 518\u001b[0;31m         \u001b[0;32mreturn\u001b[0m \u001b[0mself\u001b[0m\u001b[0;34m.\u001b[0m\u001b[0mrequest\u001b[0m\u001b[0;34m(\u001b[0m\u001b[0;34m'POST'\u001b[0m\u001b[0;34m,\u001b[0m \u001b[0murl\u001b[0m\u001b[0;34m,\u001b[0m \u001b[0mdata\u001b[0m\u001b[0;34m=\u001b[0m\u001b[0mdata\u001b[0m\u001b[0;34m,\u001b[0m \u001b[0mjson\u001b[0m\u001b[0;34m=\u001b[0m\u001b[0mjson\u001b[0m\u001b[0;34m,\u001b[0m \u001b[0;34m**\u001b[0m\u001b[0mkwargs\u001b[0m\u001b[0;34m)\u001b[0m\u001b[0;34m\u001b[0m\u001b[0m\n\u001b[0m\u001b[1;32m    519\u001b[0m \u001b[0;34m\u001b[0m\u001b[0m\n\u001b[1;32m    520\u001b[0m     \u001b[0;32mdef\u001b[0m \u001b[0mput\u001b[0m\u001b[0;34m(\u001b[0m\u001b[0mself\u001b[0m\u001b[0;34m,\u001b[0m \u001b[0murl\u001b[0m\u001b[0;34m,\u001b[0m \u001b[0mdata\u001b[0m\u001b[0;34m=\u001b[0m\u001b[0;32mNone\u001b[0m\u001b[0;34m,\u001b[0m \u001b[0;34m**\u001b[0m\u001b[0mkwargs\u001b[0m\u001b[0;34m)\u001b[0m\u001b[0;34m:\u001b[0m\u001b[0;34m\u001b[0m\u001b[0m\n",
      "\u001b[0;32m/usr/local/lib/python3.5/site-packages/requests/sessions.py\u001b[0m in \u001b[0;36mrequest\u001b[0;34m(self, method, url, params, data, headers, cookies, files, auth, timeout, allow_redirects, proxies, hooks, stream, verify, cert, json)\u001b[0m\n\u001b[1;32m    473\u001b[0m         }\n\u001b[1;32m    474\u001b[0m         \u001b[0msend_kwargs\u001b[0m\u001b[0;34m.\u001b[0m\u001b[0mupdate\u001b[0m\u001b[0;34m(\u001b[0m\u001b[0msettings\u001b[0m\u001b[0;34m)\u001b[0m\u001b[0;34m\u001b[0m\u001b[0m\n\u001b[0;32m--> 475\u001b[0;31m         \u001b[0mresp\u001b[0m \u001b[0;34m=\u001b[0m \u001b[0mself\u001b[0m\u001b[0;34m.\u001b[0m\u001b[0msend\u001b[0m\u001b[0;34m(\u001b[0m\u001b[0mprep\u001b[0m\u001b[0;34m,\u001b[0m \u001b[0;34m**\u001b[0m\u001b[0msend_kwargs\u001b[0m\u001b[0;34m)\u001b[0m\u001b[0;34m\u001b[0m\u001b[0m\n\u001b[0m\u001b[1;32m    476\u001b[0m \u001b[0;34m\u001b[0m\u001b[0m\n\u001b[1;32m    477\u001b[0m         \u001b[0;32mreturn\u001b[0m \u001b[0mresp\u001b[0m\u001b[0;34m\u001b[0m\u001b[0m\n",
      "\u001b[0;32m/usr/local/lib/python3.5/site-packages/requests/sessions.py\u001b[0m in \u001b[0;36msend\u001b[0;34m(self, request, **kwargs)\u001b[0m\n\u001b[1;32m    583\u001b[0m \u001b[0;34m\u001b[0m\u001b[0m\n\u001b[1;32m    584\u001b[0m         \u001b[0;31m# Send the request\u001b[0m\u001b[0;34m\u001b[0m\u001b[0;34m\u001b[0m\u001b[0m\n\u001b[0;32m--> 585\u001b[0;31m         \u001b[0mr\u001b[0m \u001b[0;34m=\u001b[0m \u001b[0madapter\u001b[0m\u001b[0;34m.\u001b[0m\u001b[0msend\u001b[0m\u001b[0;34m(\u001b[0m\u001b[0mrequest\u001b[0m\u001b[0;34m,\u001b[0m \u001b[0;34m**\u001b[0m\u001b[0mkwargs\u001b[0m\u001b[0;34m)\u001b[0m\u001b[0;34m\u001b[0m\u001b[0m\n\u001b[0m\u001b[1;32m    586\u001b[0m \u001b[0;34m\u001b[0m\u001b[0m\n\u001b[1;32m    587\u001b[0m         \u001b[0;31m# Total elapsed time of the request (approximately)\u001b[0m\u001b[0;34m\u001b[0m\u001b[0;34m\u001b[0m\u001b[0m\n",
      "\u001b[0;32m/usr/local/lib/python3.5/site-packages/requests/adapters.py\u001b[0m in \u001b[0;36msend\u001b[0;34m(self, request, stream, timeout, verify, cert, proxies)\u001b[0m\n\u001b[1;32m    477\u001b[0m                 \u001b[0;32mraise\u001b[0m \u001b[0mSSLError\u001b[0m\u001b[0;34m(\u001b[0m\u001b[0me\u001b[0m\u001b[0;34m,\u001b[0m \u001b[0mrequest\u001b[0m\u001b[0;34m=\u001b[0m\u001b[0mrequest\u001b[0m\u001b[0;34m)\u001b[0m\u001b[0;34m\u001b[0m\u001b[0m\n\u001b[1;32m    478\u001b[0m             \u001b[0;32melif\u001b[0m \u001b[0misinstance\u001b[0m\u001b[0;34m(\u001b[0m\u001b[0me\u001b[0m\u001b[0;34m,\u001b[0m \u001b[0mReadTimeoutError\u001b[0m\u001b[0;34m)\u001b[0m\u001b[0;34m:\u001b[0m\u001b[0;34m\u001b[0m\u001b[0m\n\u001b[0;32m--> 479\u001b[0;31m                 \u001b[0;32mraise\u001b[0m \u001b[0mReadTimeout\u001b[0m\u001b[0;34m(\u001b[0m\u001b[0me\u001b[0m\u001b[0;34m,\u001b[0m \u001b[0mrequest\u001b[0m\u001b[0;34m=\u001b[0m\u001b[0mrequest\u001b[0m\u001b[0;34m)\u001b[0m\u001b[0;34m\u001b[0m\u001b[0m\n\u001b[0m\u001b[1;32m    480\u001b[0m             \u001b[0;32melse\u001b[0m\u001b[0;34m:\u001b[0m\u001b[0;34m\u001b[0m\u001b[0m\n\u001b[1;32m    481\u001b[0m                 \u001b[0;32mraise\u001b[0m\u001b[0;34m\u001b[0m\u001b[0m\n",
      "\u001b[0;31mReadTimeout\u001b[0m: HTTPSConnectionPool(host='www.youtube.com', port=443): Read timed out. (read timeout=None)"
     ]
    }
   ],
   "source": [
    "%%time\n",
    "import csv\n",
    "import sys\n",
    "import numpy as np\n",
    "#with open('./comedy_comparisons.train') as csvfile:\n",
    "#    youtube_id_reader = csv.reader(csvfile, delimiter = ',')\n",
    "#visited = {}\n",
    "SIZE = 200\n",
    "chunk = 1\n",
    "unique_videos = []\n",
    "with open('data/train_unique_non_private') as f:\n",
    "    for l in f:\n",
    "        unique_videos += [l.strip()]\n",
    "selected = unique_videos[((chunk * SIZE) + 1):(((chunk + 1) * SIZE)+1)]\n",
    "\n",
    "pbar = tqdm_notebook(range(SIZE), desc=\"Downloading comments\")\n",
    "\n",
    "i = 0\n",
    "fieldnames = ['youtube_id', 'cid', 'text', 'time', 'author']\n",
    "with open('data/dataset_movies.csv', 'a') as outputfile:\n",
    "    writer = csv.DictWriter(outputfile, fieldnames=fieldnames)\n",
    "    writer.writeheader()   \n",
    "    for row in selected:\n",
    "        #print(row)\n",
    "        def download_video_comments(youtube_id):  \n",
    "            global i\n",
    "            global visited\n",
    "            #if youtube_id not in visited:\n",
    "            for comment in yc.download_comments(youtube_id):\n",
    "                writer.writerow({'youtube_id': youtube_id, 'cid': comment['cid'], 'text': comment['text'], 'time': comment['time'], 'author': comment['author']})\n",
    "                sleep(0.1)\n",
    "                #try:\n",
    "                #    print(str(youtube_id) + ':' + comment['text'])\n",
    "                #    sys.stdout.flush()\n",
    "                #except:\n",
    "                #    pass\n",
    "\n",
    "                #print(youtube_id)\n",
    "                #visited[youtube_id] = True\n",
    "               # i = i + 1\n",
    "                #print(str(i) + \"-\" * 15 + \"\\n\\n\")\n",
    "\n",
    "        download_video_comments(row)\n",
    "        pbar.update(1)\n",
    "        sleep(0.5)\n",
    "\n",
    "\n",
    "\n",
    "            "
   ]
  },
  {
   "cell_type": "code",
   "execution_count": 31,
   "metadata": {
    "collapsed": false
   },
   "outputs": [
    {
     "data": {
      "text/plain": [
       "False"
      ]
     },
     "execution_count": 31,
     "metadata": {},
     "output_type": "execute_result"
    }
   ],
   "source": [
    "all(selected) != all(unique_videos[136:271])"
   ]
  },
  {
   "cell_type": "code",
   "execution_count": 5,
   "metadata": {
    "collapsed": false,
    "scrolled": true
   },
   "outputs": [
    {
     "ename": "IndexError",
     "evalue": "list index out of range",
     "output_type": "error",
     "traceback": [
      "\u001b[0;31m---------------------------------------------------------------------------\u001b[0m",
      "\u001b[0;31mIndexError\u001b[0m                                Traceback (most recent call last)",
      "\u001b[0;32m<ipython-input-5-d41ade21e7e4>\u001b[0m in \u001b[0;36m<module>\u001b[0;34m()\u001b[0m\n\u001b[0;32m----> 1\u001b[0;31m \u001b[0munique_videos\u001b[0m\u001b[0;34m[\u001b[0m\u001b[0;36m136\u001b[0m\u001b[0;34m]\u001b[0m\u001b[0;34m\u001b[0m\u001b[0m\n\u001b[0m",
      "\u001b[0;31mIndexError\u001b[0m: list index out of range"
     ]
    }
   ],
   "source": [
    "unique_videos[136]"
   ]
  },
  {
   "cell_type": "code",
   "execution_count": 12,
   "metadata": {
    "collapsed": false
   },
   "outputs": [
    {
     "name": "stdout",
     "output_type": "stream",
     "text": [
      "will download from 89-177\n",
      "\n",
      "FINISHED\n",
      "CPU times: user 1min 5s, sys: 3.77 s, total: 1min 9s\n",
      "Wall time: 1h 44min 22s\n"
     ]
    }
   ],
   "source": [
    "%%time\n",
    "# import csv\n",
    "# import sys\n",
    "# import numpy as np\n",
    "#with open('./comedy_comparisons.train') as csvfile:\n",
    "#    youtube_id_reader = csv.reader(csvfile, delimiter = ',')\n",
    "visited = {}\n",
    "SIZE = 89\n",
    "chunk = 1\n",
    "start=((chunk * SIZE))\n",
    "end=(((chunk + 1) * SIZE)-1)\n",
    "# start=130\n",
    "# end=133\n",
    "unique_videos = []\n",
    "with open('data/train_unique_non_private') as f:\n",
    "    for l in f:\n",
    "        unique_videos += [l.strip()]\n",
    "selected = unique_videos[start:end]\n",
    "print(\"will download from {0}-{1}\".format(start, end))\n",
    "\n",
    "pbar = tqdm_notebook(range(SIZE), desc=\"Downloading comments\")\n",
    "\n",
    "for video in selected:\n",
    "   video_comment_threads = yc_api.get_comment_threads(youtube_service=yc_api.youtube, video_id=video, csvfile=\"data/dataset_movies.csv\")\n",
    "   pbar.update(1)\n",
    "\n",
    "print(\"FINISHED\")\n",
    "            "
   ]
  },
  {
   "cell_type": "markdown",
   "metadata": {},
   "source": [
    "# Notes about progress\n",
    "* All comments of all videos tested are downloaded successfully and can be saved in a CSV file\n",
    "* However, many of the videos of the dataset are now private and must be cleaned\n",
    "* Any rows containing private videos must be eliminated and then estimate the average time to download video comments (this code is already tested), to decide how many videos to use in the datasets train and test\n",
    "* Finally create the final script to download the dataset"
   ]
  },
  {
   "cell_type": "code",
   "execution_count": 13,
   "metadata": {
    "collapsed": false
   },
   "outputs": [
    {
     "data": {
      "text/plain": [
       "'K4zpeqFjTaw'"
      ]
     },
     "execution_count": 13,
     "metadata": {},
     "output_type": "execute_result"
    }
   ],
   "source": [
    "selected[-1]"
   ]
  },
  {
   "cell_type": "markdown",
   "metadata": {
    "collapsed": true
   },
   "source": [
    "# Some preliminary questions to answer\n",
    "\n",
    "1. How many unique videos are there?\n",
    "1. How many comments per video (average and distribution)\n",
    "1. How many different comment authors are there?\n",
    "1. Average comments per author\n",
    "1. Comments over time\n",
    "1. How many comments have over 0 likes?\n",
    "1. Create a corpus out of the comments and save it\n",
    "1. Create a tfidf model out of the corpus\n",
    "1. Create a wordcloud\n"
   ]
  },
  {
   "cell_type": "code",
   "execution_count": 5,
   "metadata": {
    "collapsed": true
   },
   "outputs": [],
   "source": [
    "%matplotlib inline\n",
    "import pandas as pd\n",
    "import numpy as np\n",
    "import matplotlib.pyplot as plt\n",
    "import matplotlib\n",
    "matplotlib.style.use('ggplot')\n",
    "import seaborn as sns"
   ]
  },
  {
   "cell_type": "code",
   "execution_count": 23,
   "metadata": {
    "collapsed": false
   },
   "outputs": [],
   "source": [
    "# Load and check dataset\n",
    "\n",
    "data = pd.read_csv(\"data/dataset_movies.90_680.csv\")"
   ]
  },
  {
   "cell_type": "code",
   "execution_count": 24,
   "metadata": {
    "collapsed": false
   },
   "outputs": [
    {
     "data": {
      "text/html": [
       "<div>\n",
       "<table border=\"1\" class=\"dataframe\">\n",
       "  <thead>\n",
       "    <tr style=\"text-align: right;\">\n",
       "      <th></th>\n",
       "      <th>videoId</th>\n",
       "      <th>textDisplay</th>\n",
       "      <th>isReplyTo</th>\n",
       "      <th>canReply</th>\n",
       "      <th>totalReplyCount</th>\n",
       "      <th>kind</th>\n",
       "      <th>etag</th>\n",
       "      <th>id</th>\n",
       "      <th>authorChannelId</th>\n",
       "      <th>authorDisplayName</th>\n",
       "      <th>likeCount</th>\n",
       "      <th>publishedAt</th>\n",
       "      <th>updatedAt</th>\n",
       "      <th>viewerRating</th>\n",
       "    </tr>\n",
       "  </thead>\n",
       "  <tbody>\n",
       "    <tr>\n",
       "      <th>0</th>\n",
       "      <td>nmb84jjcZjc</td>\n",
       "      <td>I remember I wanted that Betch shirt I was gon...</td>\n",
       "      <td>NaN</td>\n",
       "      <td>NaN</td>\n",
       "      <td>4</td>\n",
       "      <td>youtube#commentThread</td>\n",
       "      <td>\"I_8xdZu766_FSaexEaDXTIfEWc0/2ZWuezPa-dSVVE6e-...</td>\n",
       "      <td>z121znfphr22ehptg23ewfm5vtvdg1qgs04</td>\n",
       "      <td>{'value': 'UCPb-XI1NOAv6P0FcL2-bS-g'}</td>\n",
       "      <td>SoraRoxasKHII</td>\n",
       "      <td>14</td>\n",
       "      <td>2016-01-29T11:23:33.000Z</td>\n",
       "      <td>2016-01-29T11:23:33.000Z</td>\n",
       "      <td>none</td>\n",
       "    </tr>\n",
       "    <tr>\n",
       "      <th>1</th>\n",
       "      <td>nmb84jjcZjc</td>\n",
       "      <td>+Seth the ocean king hahaha XD</td>\n",
       "      <td>z121znfphr22ehptg23ewfm5vtvdg1qgs04</td>\n",
       "      <td>NaN</td>\n",
       "      <td>0</td>\n",
       "      <td>youtube#comment</td>\n",
       "      <td>\"I_8xdZu766_FSaexEaDXTIfEWc0/Px_oQtakVAlBvIOFN...</td>\n",
       "      <td>z121znfphr22ehptg23ewfm5vtvdg1qgs04.1467240990...</td>\n",
       "      <td>{'value': 'UCPb-XI1NOAv6P0FcL2-bS-g'}</td>\n",
       "      <td>SoraRoxasKHII</td>\n",
       "      <td>0</td>\n",
       "      <td>2016-06-29T22:56:30.000Z</td>\n",
       "      <td>2016-06-29T22:56:30.000Z</td>\n",
       "      <td>none</td>\n",
       "    </tr>\n",
       "    <tr>\n",
       "      <th>2</th>\n",
       "      <td>nmb84jjcZjc</td>\n",
       "      <td>+SoraRoxasKHII Try some whiskey it'll make ya ...</td>\n",
       "      <td>z121znfphr22ehptg23ewfm5vtvdg1qgs04</td>\n",
       "      <td>NaN</td>\n",
       "      <td>0</td>\n",
       "      <td>youtube#comment</td>\n",
       "      <td>\"I_8xdZu766_FSaexEaDXTIfEWc0/dGqBTJXnB90uwhwJu...</td>\n",
       "      <td>z121znfphr22ehptg23ewfm5vtvdg1qgs04.1466338946...</td>\n",
       "      <td>{'value': 'UCVnpGkFo65izBU2RufXdsOw'}</td>\n",
       "      <td>Seiko's Dead Body</td>\n",
       "      <td>0</td>\n",
       "      <td>2016-06-19T12:22:26.000Z</td>\n",
       "      <td>2016-06-19T12:22:26.000Z</td>\n",
       "      <td>none</td>\n",
       "    </tr>\n",
       "    <tr>\n",
       "      <th>3</th>\n",
       "      <td>nmb84jjcZjc</td>\n",
       "      <td>+Sydney Moody I still want it lol</td>\n",
       "      <td>z121znfphr22ehptg23ewfm5vtvdg1qgs04</td>\n",
       "      <td>NaN</td>\n",
       "      <td>0</td>\n",
       "      <td>youtube#comment</td>\n",
       "      <td>\"I_8xdZu766_FSaexEaDXTIfEWc0/w9JCjJYZMKtv-a7qg...</td>\n",
       "      <td>z121znfphr22ehptg23ewfm5vtvdg1qgs04.1458469581...</td>\n",
       "      <td>{'value': 'UCPb-XI1NOAv6P0FcL2-bS-g'}</td>\n",
       "      <td>SoraRoxasKHII</td>\n",
       "      <td>1</td>\n",
       "      <td>2016-03-20T10:26:21.000Z</td>\n",
       "      <td>2016-03-20T10:26:21.000Z</td>\n",
       "      <td>none</td>\n",
       "    </tr>\n",
       "    <tr>\n",
       "      <th>4</th>\n",
       "      <td>nmb84jjcZjc</td>\n",
       "      <td>You and I both, man.</td>\n",
       "      <td>z121znfphr22ehptg23ewfm5vtvdg1qgs04</td>\n",
       "      <td>NaN</td>\n",
       "      <td>0</td>\n",
       "      <td>youtube#comment</td>\n",
       "      <td>\"I_8xdZu766_FSaexEaDXTIfEWc0/EHZITslEfqM986ukh...</td>\n",
       "      <td>z121znfphr22ehptg23ewfm5vtvdg1qgs04.1457626730...</td>\n",
       "      <td>{'value': 'UCKJaihNjRrekieuUNaGkFtQ'}</td>\n",
       "      <td>Sydney Moody</td>\n",
       "      <td>2</td>\n",
       "      <td>2016-03-10T16:18:50.000Z</td>\n",
       "      <td>2016-03-10T16:18:50.000Z</td>\n",
       "      <td>none</td>\n",
       "    </tr>\n",
       "    <tr>\n",
       "      <th>5</th>\n",
       "      <td>nmb84jjcZjc</td>\n",
       "      <td>i really want the \"whore\" shirt... might have ...</td>\n",
       "      <td>NaN</td>\n",
       "      <td>NaN</td>\n",
       "      <td>1</td>\n",
       "      <td>youtube#commentThread</td>\n",
       "      <td>\"I_8xdZu766_FSaexEaDXTIfEWc0/UkcTN69tm1zDAvDUd...</td>\n",
       "      <td>z13th3jbznyiwvhcl225zvppakbixv4m2</td>\n",
       "      <td>{'value': 'UCvJ3Soa45orV19ndMUSIMgg'}</td>\n",
       "      <td>captn killingsworth</td>\n",
       "      <td>3</td>\n",
       "      <td>2015-11-06T00:32:21.000Z</td>\n",
       "      <td>2015-11-06T00:32:21.000Z</td>\n",
       "      <td>none</td>\n",
       "    </tr>\n",
       "    <tr>\n",
       "      <th>6</th>\n",
       "      <td>nmb84jjcZjc</td>\n",
       "      <td>Yeah same lmao I searched all over online for ...</td>\n",
       "      <td>z13th3jbznyiwvhcl225zvppakbixv4m2</td>\n",
       "      <td>NaN</td>\n",
       "      <td>0</td>\n",
       "      <td>youtube#comment</td>\n",
       "      <td>\"I_8xdZu766_FSaexEaDXTIfEWc0/TmJT9RoT6NFgVTOz1...</td>\n",
       "      <td>z13th3jbznyiwvhcl225zvppakbixv4m2.145033120105...</td>\n",
       "      <td>{'value': 'UCvKb06q8o2aOVb-MHmRaXbg'}</td>\n",
       "      <td>Innelda Isher</td>\n",
       "      <td>0</td>\n",
       "      <td>2015-12-17T05:46:41.000Z</td>\n",
       "      <td>2015-12-17T05:46:41.000Z</td>\n",
       "      <td>none</td>\n",
       "    </tr>\n",
       "    <tr>\n",
       "      <th>7</th>\n",
       "      <td>nmb84jjcZjc</td>\n",
       "      <td>I finally understood the deck part...﻿</td>\n",
       "      <td>NaN</td>\n",
       "      <td>NaN</td>\n",
       "      <td>0</td>\n",
       "      <td>youtube#commentThread</td>\n",
       "      <td>\"I_8xdZu766_FSaexEaDXTIfEWc0/dQuRs-JUELogavYaD...</td>\n",
       "      <td>z12lc1mhbuavevxfm23wi1dzjzragrf5z04</td>\n",
       "      <td>{'value': 'UCYfYCRqRmt6IPpn3gtRpU_Q'}</td>\n",
       "      <td>What-even-am-i</td>\n",
       "      <td>7</td>\n",
       "      <td>2015-01-29T00:26:08.000Z</td>\n",
       "      <td>2015-01-29T00:26:08.000Z</td>\n",
       "      <td>none</td>\n",
       "    </tr>\n",
       "    <tr>\n",
       "      <th>8</th>\n",
       "      <td>nmb84jjcZjc</td>\n",
       "      <td>The mom looks like my fifth grade teacher﻿</td>\n",
       "      <td>NaN</td>\n",
       "      <td>NaN</td>\n",
       "      <td>0</td>\n",
       "      <td>youtube#commentThread</td>\n",
       "      <td>\"I_8xdZu766_FSaexEaDXTIfEWc0/NE37KQ7x3eOkTH-Du...</td>\n",
       "      <td>z135chypdomest25404cijmrazauhn3rsd0</td>\n",
       "      <td>{'value': 'UCP4LqsCvcS-lgISJxh7LO7w'}</td>\n",
       "      <td>Emmalise Houston</td>\n",
       "      <td>3</td>\n",
       "      <td>2014-07-27T09:29:30.000Z</td>\n",
       "      <td>2014-07-27T09:29:30.000Z</td>\n",
       "      <td>none</td>\n",
       "    </tr>\n",
       "    <tr>\n",
       "      <th>9</th>\n",
       "      <td>nmb84jjcZjc</td>\n",
       "      <td>The girl that plays Kelly's mom does such an a...</td>\n",
       "      <td>NaN</td>\n",
       "      <td>NaN</td>\n",
       "      <td>0</td>\n",
       "      <td>youtube#commentThread</td>\n",
       "      <td>\"I_8xdZu766_FSaexEaDXTIfEWc0/jXvzQA6wcBVWeI8WO...</td>\n",
       "      <td>z23txp3qipzzxlcou04t1aokgml5pburw33iyhr0f0ezbk...</td>\n",
       "      <td>{'value': 'UCT7Ihd-2JnpjdUsh6p6uVaw'}</td>\n",
       "      <td>Lisa Doherty</td>\n",
       "      <td>0</td>\n",
       "      <td>2013-08-25T18:17:40.000Z</td>\n",
       "      <td>2013-08-25T18:17:40.000Z</td>\n",
       "      <td>none</td>\n",
       "    </tr>\n",
       "  </tbody>\n",
       "</table>\n",
       "</div>"
      ],
      "text/plain": [
       "       videoId                                        textDisplay  \\\n",
       "0  nmb84jjcZjc  I remember I wanted that Betch shirt I was gon...   \n",
       "1  nmb84jjcZjc                    +Seth the ocean king hahaha XD    \n",
       "2  nmb84jjcZjc  +SoraRoxasKHII Try some whiskey it'll make ya ...   \n",
       "3  nmb84jjcZjc                  +Sydney Moody I still want it lol   \n",
       "4  nmb84jjcZjc                               You and I both, man.   \n",
       "5  nmb84jjcZjc  i really want the \"whore\" shirt... might have ...   \n",
       "6  nmb84jjcZjc  Yeah same lmao I searched all over online for ...   \n",
       "7  nmb84jjcZjc             I finally understood the deck part...﻿   \n",
       "8  nmb84jjcZjc         The mom looks like my fifth grade teacher﻿   \n",
       "9  nmb84jjcZjc  The girl that plays Kelly's mom does such an a...   \n",
       "\n",
       "                             isReplyTo  canReply  totalReplyCount  \\\n",
       "0                                  NaN       NaN                4   \n",
       "1  z121znfphr22ehptg23ewfm5vtvdg1qgs04       NaN                0   \n",
       "2  z121znfphr22ehptg23ewfm5vtvdg1qgs04       NaN                0   \n",
       "3  z121znfphr22ehptg23ewfm5vtvdg1qgs04       NaN                0   \n",
       "4  z121znfphr22ehptg23ewfm5vtvdg1qgs04       NaN                0   \n",
       "5                                  NaN       NaN                1   \n",
       "6    z13th3jbznyiwvhcl225zvppakbixv4m2       NaN                0   \n",
       "7                                  NaN       NaN                0   \n",
       "8                                  NaN       NaN                0   \n",
       "9                                  NaN       NaN                0   \n",
       "\n",
       "                    kind                                               etag  \\\n",
       "0  youtube#commentThread  \"I_8xdZu766_FSaexEaDXTIfEWc0/2ZWuezPa-dSVVE6e-...   \n",
       "1        youtube#comment  \"I_8xdZu766_FSaexEaDXTIfEWc0/Px_oQtakVAlBvIOFN...   \n",
       "2        youtube#comment  \"I_8xdZu766_FSaexEaDXTIfEWc0/dGqBTJXnB90uwhwJu...   \n",
       "3        youtube#comment  \"I_8xdZu766_FSaexEaDXTIfEWc0/w9JCjJYZMKtv-a7qg...   \n",
       "4        youtube#comment  \"I_8xdZu766_FSaexEaDXTIfEWc0/EHZITslEfqM986ukh...   \n",
       "5  youtube#commentThread  \"I_8xdZu766_FSaexEaDXTIfEWc0/UkcTN69tm1zDAvDUd...   \n",
       "6        youtube#comment  \"I_8xdZu766_FSaexEaDXTIfEWc0/TmJT9RoT6NFgVTOz1...   \n",
       "7  youtube#commentThread  \"I_8xdZu766_FSaexEaDXTIfEWc0/dQuRs-JUELogavYaD...   \n",
       "8  youtube#commentThread  \"I_8xdZu766_FSaexEaDXTIfEWc0/NE37KQ7x3eOkTH-Du...   \n",
       "9  youtube#commentThread  \"I_8xdZu766_FSaexEaDXTIfEWc0/jXvzQA6wcBVWeI8WO...   \n",
       "\n",
       "                                                  id  \\\n",
       "0                z121znfphr22ehptg23ewfm5vtvdg1qgs04   \n",
       "1  z121znfphr22ehptg23ewfm5vtvdg1qgs04.1467240990...   \n",
       "2  z121znfphr22ehptg23ewfm5vtvdg1qgs04.1466338946...   \n",
       "3  z121znfphr22ehptg23ewfm5vtvdg1qgs04.1458469581...   \n",
       "4  z121znfphr22ehptg23ewfm5vtvdg1qgs04.1457626730...   \n",
       "5                  z13th3jbznyiwvhcl225zvppakbixv4m2   \n",
       "6  z13th3jbznyiwvhcl225zvppakbixv4m2.145033120105...   \n",
       "7                z12lc1mhbuavevxfm23wi1dzjzragrf5z04   \n",
       "8                z135chypdomest25404cijmrazauhn3rsd0   \n",
       "9  z23txp3qipzzxlcou04t1aokgml5pburw33iyhr0f0ezbk...   \n",
       "\n",
       "                         authorChannelId    authorDisplayName  likeCount  \\\n",
       "0  {'value': 'UCPb-XI1NOAv6P0FcL2-bS-g'}        SoraRoxasKHII         14   \n",
       "1  {'value': 'UCPb-XI1NOAv6P0FcL2-bS-g'}        SoraRoxasKHII          0   \n",
       "2  {'value': 'UCVnpGkFo65izBU2RufXdsOw'}    Seiko's Dead Body          0   \n",
       "3  {'value': 'UCPb-XI1NOAv6P0FcL2-bS-g'}        SoraRoxasKHII          1   \n",
       "4  {'value': 'UCKJaihNjRrekieuUNaGkFtQ'}         Sydney Moody          2   \n",
       "5  {'value': 'UCvJ3Soa45orV19ndMUSIMgg'}  captn killingsworth          3   \n",
       "6  {'value': 'UCvKb06q8o2aOVb-MHmRaXbg'}        Innelda Isher          0   \n",
       "7  {'value': 'UCYfYCRqRmt6IPpn3gtRpU_Q'}       What-even-am-i          7   \n",
       "8  {'value': 'UCP4LqsCvcS-lgISJxh7LO7w'}     Emmalise Houston          3   \n",
       "9  {'value': 'UCT7Ihd-2JnpjdUsh6p6uVaw'}         Lisa Doherty          0   \n",
       "\n",
       "                publishedAt                 updatedAt viewerRating  \n",
       "0  2016-01-29T11:23:33.000Z  2016-01-29T11:23:33.000Z         none  \n",
       "1  2016-06-29T22:56:30.000Z  2016-06-29T22:56:30.000Z         none  \n",
       "2  2016-06-19T12:22:26.000Z  2016-06-19T12:22:26.000Z         none  \n",
       "3  2016-03-20T10:26:21.000Z  2016-03-20T10:26:21.000Z         none  \n",
       "4  2016-03-10T16:18:50.000Z  2016-03-10T16:18:50.000Z         none  \n",
       "5  2015-11-06T00:32:21.000Z  2015-11-06T00:32:21.000Z         none  \n",
       "6  2015-12-17T05:46:41.000Z  2015-12-17T05:46:41.000Z         none  \n",
       "7  2015-01-29T00:26:08.000Z  2015-01-29T00:26:08.000Z         none  \n",
       "8  2014-07-27T09:29:30.000Z  2014-07-27T09:29:30.000Z         none  \n",
       "9  2013-08-25T18:17:40.000Z  2013-08-25T18:17:40.000Z         none  "
      ]
     },
     "execution_count": 24,
     "metadata": {},
     "output_type": "execute_result"
    }
   ],
   "source": [
    "data.head(10)"
   ]
  },
  {
   "cell_type": "code",
   "execution_count": 5,
   "metadata": {
    "collapsed": false
   },
   "outputs": [
    {
     "data": {
      "text/plain": [
       "74498"
      ]
     },
     "execution_count": 5,
     "metadata": {},
     "output_type": "execute_result"
    }
   ],
   "source": [
    "len(data)"
   ]
  },
  {
   "cell_type": "code",
   "execution_count": 6,
   "metadata": {
    "collapsed": false
   },
   "outputs": [
    {
     "data": {
      "text/plain": [
       "videoId              object\n",
       "textDisplay          object\n",
       "canReply               bool\n",
       "totalReplyCount       int64\n",
       "kind                 object\n",
       "etag                 object\n",
       "id                   object\n",
       "authorChannelId      object\n",
       "authorDisplayName    object\n",
       "likeCount             int64\n",
       "publishedAt          object\n",
       "updatedAt            object\n",
       "viewerRating         object\n",
       "dtype: object"
      ]
     },
     "execution_count": 6,
     "metadata": {},
     "output_type": "execute_result"
    }
   ],
   "source": [
    "data.dtypes"
   ]
  },
  {
   "cell_type": "code",
   "execution_count": 7,
   "metadata": {
    "collapsed": false
   },
   "outputs": [
    {
     "data": {
      "text/plain": [
       "190"
      ]
     },
     "execution_count": 7,
     "metadata": {},
     "output_type": "execute_result"
    }
   ],
   "source": [
    "# How many unique videos are there?\n",
    "len(pd.unique(data['videoId']))"
   ]
  },
  {
   "cell_type": "code",
   "execution_count": 8,
   "metadata": {
    "collapsed": false
   },
   "outputs": [
    {
     "data": {
      "text/plain": [
       "<matplotlib.axes._subplots.AxesSubplot at 0x113a26c88>"
      ]
     },
     "execution_count": 8,
     "metadata": {},
     "output_type": "execute_result"
    },
    {
     "data": {
      "image/png": "[encoded data removed]",
      "text/plain": [
       "<matplotlib.figure.Figure at 0x113a26940>"
      ]
     },
     "metadata": {},
     "output_type": "display_data"
    }
   ],
   "source": [
    "# How many comments are there per video? (Distribution)\n",
    "# histogram for the previous of 400\n",
    "data.videoId.value_counts().plot(kind = 'hist', bins = 50)"
   ]
  },
  {
   "cell_type": "code",
   "execution_count": 9,
   "metadata": {
    "collapsed": false
   },
   "outputs": [
    {
     "data": {
      "text/plain": [
       "392.0"
      ]
     },
     "execution_count": 9,
     "metadata": {},
     "output_type": "execute_result"
    }
   ],
   "source": [
    "# How many comments are there per video? (Average number) + std\n",
    "round(data.groupby('videoId').size().mean())"
   ]
  },
  {
   "cell_type": "code",
   "execution_count": 10,
   "metadata": {
    "collapsed": false
   },
   "outputs": [
    {
     "data": {
      "text/plain": [
       "61149"
      ]
     },
     "execution_count": 10,
     "metadata": {},
     "output_type": "execute_result"
    }
   ],
   "source": [
    "# How many different comment authors are there? \n",
    "len(pd.unique(data.authorDisplayName))"
   ]
  },
  {
   "cell_type": "code",
   "execution_count": 11,
   "metadata": {
    "collapsed": false
   },
   "outputs": [
    {
     "data": {
      "text/plain": [
       "<matplotlib.axes._subplots.AxesSubplot at 0x10d33db38>"
      ]
     },
     "execution_count": 11,
     "metadata": {},
     "output_type": "execute_result"
    },
    {
     "data": {
      "image/png": "[encoded data removed]",
      "text/plain": [
       "<matplotlib.figure.Figure at 0x10d34ea20>"
      ]
     },
     "metadata": {},
     "output_type": "display_data"
    }
   ],
   "source": [
    "# Comments per author (distribution) 0-8 \n",
    "data.authorDisplayName.value_counts().plot(kind='hist', bins = 200)"
   ]
  },
  {
   "cell_type": "code",
   "execution_count": 12,
   "metadata": {
    "collapsed": false
   },
   "outputs": [
    {
     "data": {
      "text/plain": [
       "1.0"
      ]
     },
     "execution_count": 12,
     "metadata": {},
     "output_type": "execute_result"
    }
   ],
   "source": [
    "# Average comments per author\n",
    "round(data.groupby('authorDisplayName').size().mean())"
   ]
  },
  {
   "cell_type": "code",
   "execution_count": 13,
   "metadata": {
    "collapsed": false
   },
   "outputs": [
    {
     "data": {
      "text/plain": [
       "<matplotlib.axes._subplots.AxesSubplot at 0x10da79240>"
      ]
     },
     "execution_count": 13,
     "metadata": {},
     "output_type": "execute_result"
    },
    {
     "data": {
      "image/png": "[encoded data removed]",
      "text/plain": [
       "<matplotlib.figure.Figure at 0x10da4f240>"
      ]
     },
     "metadata": {},
     "output_type": "display_data"
    }
   ],
   "source": [
    "# Comments over time for a specific video + for average and variance (even without plot)\n",
    "data['publishedAt'] = pd.to_datetime(data['publishedAt'])\n",
    "data['updatedAt'] = pd.to_datetime(data['updatedAt'])\n",
    "data_by_time = data.sort_values(by = ['videoId', 'publishedAt'])\n",
    "df = data_by_time[data_by_time.videoId == '-3lppfJv8IQ'][['videoId', 'publishedAt']]\n",
    "df['num_comments'] = range(1, len(df) + 1)\n",
    "dfplt = df.set_index(df.publishedAt)\n",
    "#dfplt = dfplt[['videoId', 'num_comments']]\n",
    "dfplt.plot()"
   ]
  },
  {
   "cell_type": "code",
   "execution_count": 14,
   "metadata": {
    "collapsed": false
   },
   "outputs": [
    {
     "name": "stdout",
     "output_type": "stream",
     "text": [
      "22933 out of 74498 comments have more than 0 likes\n"
     ]
    }
   ],
   "source": [
    "# How many comments have over 0 likes?\n",
    "print(\"{0} out of {1} comments have more than 0 likes\".format(len(data[data.likeCount > 0]), len(data)))"
   ]
  },
  {
   "cell_type": "code",
   "execution_count": 15,
   "metadata": {
    "collapsed": false
   },
   "outputs": [
    {
     "data": {
      "text/plain": [
       "<matplotlib.axes._subplots.AxesSubplot at 0x10da62898>"
      ]
     },
     "execution_count": 15,
     "metadata": {},
     "output_type": "execute_result"
    },
    {
     "data": {
      "image/png": "[encoded data removed]",
      "text/plain": [
       "<matplotlib.figure.Figure at 0x10da1b518>"
      ]
     },
     "metadata": {},
     "output_type": "display_data"
    }
   ],
   "source": [
    "# Like distribution for all comments + different histograms\n",
    "data.likeCount.value_counts().plot(kind = 'hist', bins = 100)"
   ]
  },
  {
   "cell_type": "code",
   "execution_count": 16,
   "metadata": {
    "collapsed": false
   },
   "outputs": [],
   "source": [
    "# Initialize gensim and start NLP\n",
    "import logging\n",
    "logging.basicConfig(format='%(asctime)s : %(levelname)s : %(message)s', level=logging.INFO)\n",
    "import gensim\n",
    "from gensim import corpora\n",
    "from gensim.utils import smart_open, simple_preprocess\n",
    "from gensim.parsing.preprocessing import STOPWORDS\n",
    "from sklearn.feature_extraction.text import CountVectorizer"
   ]
  },
  {
   "cell_type": "code",
   "execution_count": 17,
   "metadata": {
    "collapsed": true
   },
   "outputs": [],
   "source": [
    "def tokenize(text):\n",
    "    return [token for token in simple_preprocess(text) if token not in STOPWORDS]\n",
    "\n",
    "def iter_comments(commentsIterable):\n",
    "    for entry in commentsIterable:\n",
    "        comment = tokenize(entry[2])\n",
    "        yield entry[1], comment\n",
    "        "
   ]
  },
  {
   "cell_type": "code",
   "execution_count": 18,
   "metadata": {
    "collapsed": false
   },
   "outputs": [],
   "source": [
    "# Create a corpus out of the comments and save it\n",
    "commentsList = data[['videoId', 'textDisplay']].dropna().itertuples()\n",
    "stream = iter_comments(commentsList)\n",
    "doc_stream = (tokens for _, tokens in stream)\n",
    "id2word = gensim.corpora.Dictionary(doc_stream)\n",
    "id2word.save('data/youtube_comments.dict')"
   ]
  },
  {
   "cell_type": "code",
   "execution_count": 96,
   "metadata": {
    "collapsed": false
   },
   "outputs": [],
   "source": [
    "\n",
    "# i = 0\n",
    "# for entry in iter_comments(commentsList):\n",
    "#     if i > 9:\n",
    "#         break\n",
    "#     print(entry)\n",
    "#     i += 1\n",
    "# textList = data.textDisplay.dropna().tolist()\n",
    "# #textList[3572]\n",
    "# text = u\"\".join(textList)\n",
    "# tokens = [token for token in simple_preprocess(text) if token not in STOPWORDS]\n",
    "# id2word = gensim.corpora.Dictionary([tokens])\n",
    "# id2word.save('data/youtube_comments.dict')"
   ]
  },
  {
   "cell_type": "code",
   "execution_count": 101,
   "metadata": {
    "collapsed": false
   },
   "outputs": [],
   "source": [
    "\n"
   ]
  },
  {
   "cell_type": "code",
   "execution_count": 63,
   "metadata": {
    "collapsed": false
   },
   "outputs": [
    {
     "data": {
      "text/plain": [
       "1389"
      ]
     },
     "execution_count": 63,
     "metadata": {},
     "output_type": "execute_result"
    }
   ],
   "source": [
    "# Get frequency of the word massive\n",
    "id2word.token2id['massive']"
   ]
  },
  {
   "cell_type": "code",
   "execution_count": 64,
   "metadata": {
    "collapsed": false
   },
   "outputs": [
    {
     "name": "stdout",
     "output_type": "stream",
     "text": [
      "Number of tokens before filtering 45450\n"
     ]
    }
   ],
   "source": [
    "print(\"Number of tokens before filtering {0}\".format(len(id2word)))"
   ]
  },
  {
   "cell_type": "code",
   "execution_count": 65,
   "metadata": {
    "collapsed": false
   },
   "outputs": [
    {
     "name": "stdout",
     "output_type": "stream",
     "text": [
      "Dictionary(3173 unique tokens: ['animation', 'helped', 'public', 'dbz', 'machine']...)\n"
     ]
    }
   ],
   "source": [
    "# Filter words + maybe language detector --> ignore or put it in another dataset + check youtube api for language\n",
    "# ignore words that appear in less than 20 documents or more than 10% documents\n",
    "id2word.filter_extremes(no_below=20, no_above=0.1)\n",
    "print(id2word)"
   ]
  },
  {
   "cell_type": "code",
   "execution_count": 66,
   "metadata": {
    "collapsed": false
   },
   "outputs": [
    {
     "data": {
      "text/plain": [
       "'This was definitely worth watching! Had my partner and I in fits of laughter'"
      ]
     },
     "execution_count": 66,
     "metadata": {},
     "output_type": "execute_result"
    }
   ],
   "source": [
    "# Vectorize according to the dictionary\n",
    "sample_comment = data.textDisplay.tolist()[15]\n",
    "sample_comment"
   ]
  },
  {
   "cell_type": "code",
   "execution_count": 67,
   "metadata": {
    "collapsed": false
   },
   "outputs": [
    {
     "name": "stdout",
     "output_type": "stream",
     "text": [
      "[(231, 1), (2277, 1), (2298, 1), (2565, 1), (2579, 1)]\n"
     ]
    }
   ],
   "source": [
    "sample_bow = id2word.doc2bow(tokenize(sample_comment))\n",
    "print(sample_bow)"
   ]
  },
  {
   "cell_type": "code",
   "execution_count": 68,
   "metadata": {
    "collapsed": false
   },
   "outputs": [
    {
     "name": "stdout",
     "output_type": "stream",
     "text": [
      "watching worth fits laughter definitely\n"
     ]
    }
   ],
   "source": [
    "print(id2word[231], id2word[2277], id2word[2298], id2word[2565], id2word[2579])"
   ]
  },
  {
   "cell_type": "code",
   "execution_count": 19,
   "metadata": {
    "collapsed": true
   },
   "outputs": [],
   "source": [
    "import itertools\n",
    "# Create a bag-of-words corpus\n",
    "\n",
    "class YoutubeCommentsCorpus(object):\n",
    "    def __init__(self, comment_tuples, dictionary, clip_docs=None):\n",
    "        self.comment_tuples = comment_tuples\n",
    "        self.dictionary = dictionary\n",
    "        self.clip_docs = clip_docs\n",
    "    \n",
    "    def __iter__(self):\n",
    "        self.video_ids = []\n",
    "        for video_id, tokens in itertools.islice(iter_comments(self.comment_tuples), self.clip_docs):\n",
    "            print(\"MPAINO\")\n",
    "            self.video_ids.append(video_id)\n",
    "            print(self.dictionary.doc2bow(tokens))\n",
    "            yield self.dictionary.doc2bow(tokens)\n",
    "    \n",
    "    def __len__(self):\n",
    "        return self.clip_docs\n",
    "        "
   ]
  },
  {
   "cell_type": "code",
   "execution_count": 21,
   "metadata": {
    "collapsed": false
   },
   "outputs": [],
   "source": [
    "# comment_corpus = YoutubeCommentsCorpus(commentsList, id2word)\n",
    "# vector = next(iter(comment_corpus))\n",
    "# print(vector)\n",
    "for video_id, tokens in itertools.islice(iter_comments(commentsList),None):\n",
    "    print(video_id, tokens)\n",
    "\n",
    "# for item in iter_comments(commentsList):\n",
    "#     print(item)"
   ]
  },
  {
   "cell_type": "code",
   "execution_count": null,
   "metadata": {
    "collapsed": true
   },
   "outputs": [],
   "source": [
    "# Have more data over 100 MB in order to split with cross-validation \"TECHNIQUES for little data\", try to find similar dataset"
   ]
  },
  {
   "cell_type": "code",
   "execution_count": null,
   "metadata": {
    "collapsed": true
   },
   "outputs": [],
   "source": [
    "# Try simplest model + see the misclassified + try better models\n",
    "# Naïve Bayes, 5% for test data and 90% for training\n",
    "\n",
    "# Continue downloading (IMPORTANT!!!)\n",
    "# Matrix for evaluation (Evaluation in scikit - learn --> maybe later rewrite it)\n",
    "# word2vec --> reduce dimensionality --> tSNE (and you can visualize it (do it later))\n",
    "# Naïve bayes with bag-of-words\n",
    "# Be careful about the sparse vectors\n",
    "# scikit-learn \n",
    "# Forgot sth about classifiers\n",
    "# Basic classifiers"
   ]
  }
 ],
 "metadata": {
  "kernelspec": {
   "display_name": "Python 3",
   "language": "python",
   "name": "python3"
  },
  "language_info": {
   "codemirror_mode": {
    "name": "ipython",
    "version": 3
   },
   "file_extension": ".py",
   "mimetype": "text/x-python",
   "name": "python",
   "nbconvert_exporter": "python",
   "pygments_lexer": "ipython3",
   "version": "3.5.2"
  }
 },
 "nbformat": 4,
 "nbformat_minor": 0
}
