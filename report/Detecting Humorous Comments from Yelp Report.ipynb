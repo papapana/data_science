{
 "cells": [
  {
   "cell_type": "markdown",
   "metadata": {
    "deletable": true,
    "editable": true
   },
   "source": [
    "# Detecting humorous reviews at Yelp"
   ]
  },
  {
   "cell_type": "markdown",
   "metadata": {
    "deletable": true,
    "editable": true
   },
   "source": [
    "In this project we examine how to make models that can classify if a review is funny or not.\n",
    "The actual [dataset](https://www.yelp.com/dataset_challenge) contains 4 million reviews by 1 million users for 144k businesses.\n",
    "\n",
    "In the next section how a random sample from it with 10000 reviews looks like:\n"
   ]
  },
  {
   "cell_type": "code",
   "execution_count": 1,
   "metadata": {
    "collapsed": false,
    "deletable": true,
    "editable": true
   },
   "outputs": [],
   "source": [
    "%matplotlib inline\n",
    "import matplotlib.pyplot as plt\n",
    "import pandas as pd\n",
    "from wordcloud import WordCloud, STOPWORDS\n",
    "import os\n",
    "import sys\n",
    "import numpy as np\n",
    "import itertools\n",
    "nb_dir = os.path.split(os.getcwd())[0]\n",
    "if nb_dir not in sys.path:\n",
    "    sys.path.append(nb_dir)\n",
    "os.chdir(nb_dir)"
   ]
  },
  {
   "cell_type": "code",
   "execution_count": 2,
   "metadata": {
    "collapsed": false,
    "deletable": true,
    "editable": true
   },
   "outputs": [
    {
     "data": {
      "text/html": [
       "<div>\n",
       "<table border=\"1\" class=\"dataframe\">\n",
       "  <thead>\n",
       "    <tr style=\"text-align: right;\">\n",
       "      <th></th>\n",
       "      <th>Unnamed: 0</th>\n",
       "      <th>funny</th>\n",
       "      <th>user_id</th>\n",
       "      <th>review_id</th>\n",
       "      <th>text</th>\n",
       "      <th>business_id</th>\n",
       "      <th>stars</th>\n",
       "      <th>date</th>\n",
       "      <th>useful</th>\n",
       "      <th>type</th>\n",
       "      <th>cool</th>\n",
       "    </tr>\n",
       "  </thead>\n",
       "  <tbody>\n",
       "    <tr>\n",
       "      <th>0</th>\n",
       "      <td>1234684</td>\n",
       "      <td>0</td>\n",
       "      <td>KWY0QyEXEMGh6xCB5oMUzg</td>\n",
       "      <td>NdbkPVe_xrd8TFrggN6_xg</td>\n",
       "      <td>I always like the pizza.  Service is usually g...</td>\n",
       "      <td>0PMKMyfX1j7Nc4esk1RaMg</td>\n",
       "      <td>4</td>\n",
       "      <td>2014-08-08</td>\n",
       "      <td>0</td>\n",
       "      <td>review</td>\n",
       "      <td>0</td>\n",
       "    </tr>\n",
       "    <tr>\n",
       "      <th>1</th>\n",
       "      <td>3188601</td>\n",
       "      <td>0</td>\n",
       "      <td>ZmFZlgHrs23eRZGA3LDKfQ</td>\n",
       "      <td>wRuvsAe2npOF6j4H5pB81g</td>\n",
       "      <td>I liked the decor, but the place was fairly em...</td>\n",
       "      <td>X-_KD0nInfFQYa7MPZE3cQ</td>\n",
       "      <td>2</td>\n",
       "      <td>2013-01-02</td>\n",
       "      <td>1</td>\n",
       "      <td>review</td>\n",
       "      <td>0</td>\n",
       "    </tr>\n",
       "    <tr>\n",
       "      <th>2</th>\n",
       "      <td>2861441</td>\n",
       "      <td>3</td>\n",
       "      <td>0zZk826vbqYCx_yV8WGvtw</td>\n",
       "      <td>ZC2BIZcp7VqyP1JeiGC6_g</td>\n",
       "      <td>This chain is one of the better boba places I'...</td>\n",
       "      <td>IZivKqtHyz4-ts8KsnvMrA</td>\n",
       "      <td>4</td>\n",
       "      <td>2016-01-01</td>\n",
       "      <td>4</td>\n",
       "      <td>review</td>\n",
       "      <td>3</td>\n",
       "    </tr>\n",
       "    <tr>\n",
       "      <th>3</th>\n",
       "      <td>337096</td>\n",
       "      <td>0</td>\n",
       "      <td>jPVYZXiAeIUYS9rBhtiLZw</td>\n",
       "      <td>EVg_yqi7CTK46-haToEKzg</td>\n",
       "      <td>Dear Mr. Giroux,\\nYou have all of our family t...</td>\n",
       "      <td>wbuW38I-B6V8mbxrae2wiw</td>\n",
       "      <td>1</td>\n",
       "      <td>2014-07-14</td>\n",
       "      <td>0</td>\n",
       "      <td>review</td>\n",
       "      <td>0</td>\n",
       "    </tr>\n",
       "    <tr>\n",
       "      <th>4</th>\n",
       "      <td>3808496</td>\n",
       "      <td>0</td>\n",
       "      <td>29v2GjByL9e20myiBm0C3A</td>\n",
       "      <td>-xeRTRTD5158HODDMKxwAQ</td>\n",
       "      <td>Amazing service. Moer got to my house within 1...</td>\n",
       "      <td>NA-9WSNjAqJVzpgC29xURQ</td>\n",
       "      <td>5</td>\n",
       "      <td>2016-04-01</td>\n",
       "      <td>0</td>\n",
       "      <td>review</td>\n",
       "      <td>0</td>\n",
       "    </tr>\n",
       "  </tbody>\n",
       "</table>\n",
       "</div>"
      ],
      "text/plain": [
       "   Unnamed: 0  funny                 user_id               review_id  \\\n",
       "0     1234684      0  KWY0QyEXEMGh6xCB5oMUzg  NdbkPVe_xrd8TFrggN6_xg   \n",
       "1     3188601      0  ZmFZlgHrs23eRZGA3LDKfQ  wRuvsAe2npOF6j4H5pB81g   \n",
       "2     2861441      3  0zZk826vbqYCx_yV8WGvtw  ZC2BIZcp7VqyP1JeiGC6_g   \n",
       "3      337096      0  jPVYZXiAeIUYS9rBhtiLZw  EVg_yqi7CTK46-haToEKzg   \n",
       "4     3808496      0  29v2GjByL9e20myiBm0C3A  -xeRTRTD5158HODDMKxwAQ   \n",
       "\n",
       "                                                text             business_id  \\\n",
       "0  I always like the pizza.  Service is usually g...  0PMKMyfX1j7Nc4esk1RaMg   \n",
       "1  I liked the decor, but the place was fairly em...  X-_KD0nInfFQYa7MPZE3cQ   \n",
       "2  This chain is one of the better boba places I'...  IZivKqtHyz4-ts8KsnvMrA   \n",
       "3  Dear Mr. Giroux,\\nYou have all of our family t...  wbuW38I-B6V8mbxrae2wiw   \n",
       "4  Amazing service. Moer got to my house within 1...  NA-9WSNjAqJVzpgC29xURQ   \n",
       "\n",
       "   stars        date  useful    type  cool  \n",
       "0      4  2014-08-08       0  review     0  \n",
       "1      2  2013-01-02       1  review     0  \n",
       "2      4  2016-01-01       4  review     3  \n",
       "3      1  2014-07-14       0  review     0  \n",
       "4      5  2016-04-01       0  review     0  "
      ]
     },
     "execution_count": 2,
     "metadata": {},
     "output_type": "execute_result"
    }
   ],
   "source": [
    "df_small = pd.read_csv('data/processed/yelp_subset.csv')\n",
    "df_small.head()"
   ]
  },
  {
   "cell_type": "code",
   "execution_count": 3,
   "metadata": {
    "collapsed": false,
    "deletable": true,
    "editable": true
   },
   "outputs": [
    {
     "data": {
      "text/plain": [
       "0     8125\n",
       "1     1141\n",
       "2      343\n",
       "3      142\n",
       "4       81\n",
       "5       51\n",
       "6       24\n",
       "7       22\n",
       "8       15\n",
       "9       11\n",
       "11       9\n",
       "10       9\n",
       "13       5\n",
       "15       5\n",
       "12       4\n",
       "16       4\n",
       "14       2\n",
       "17       1\n",
       "18       1\n",
       "49       1\n",
       "53       1\n",
       "26       1\n",
       "27       1\n",
       "55       1\n",
       "Name: funny, dtype: int64"
      ]
     },
     "execution_count": 3,
     "metadata": {},
     "output_type": "execute_result"
    }
   ],
   "source": [
    "df_small.funny.value_counts()"
   ]
  },
  {
   "cell_type": "code",
   "execution_count": 4,
   "metadata": {
    "collapsed": false,
    "deletable": true,
    "editable": true
   },
   "outputs": [],
   "source": [
    "# We consider a video funny if more than 3 people voted for it as funny\n",
    "# and write the result\n",
    "df_small['funny_flag'] = 0\n",
    "df_small.ix[df_small.funny >= 3, 'funny_flag'] = 1\n",
    "# df_small.to_csv('data/processed/yelp_subset_with_flag.csv')"
   ]
  },
  {
   "cell_type": "code",
   "execution_count": 5,
   "metadata": {
    "collapsed": false,
    "deletable": true,
    "editable": true
   },
   "outputs": [
    {
     "data": {
      "text/plain": [
       "0    9609\n",
       "1     391\n",
       "Name: funny_flag, dtype: int64"
      ]
     },
     "execution_count": 5,
     "metadata": {},
     "output_type": "execute_result"
    }
   ],
   "source": [
    "df_small.funny_flag.value_counts()"
   ]
  },
  {
   "cell_type": "markdown",
   "metadata": {},
   "source": [
    "### Examples of humorous comments"
   ]
  },
  {
   "cell_type": "code",
   "execution_count": 6,
   "metadata": {
    "collapsed": false,
    "deletable": true,
    "editable": true
   },
   "outputs": [
    {
     "name": "stdout",
     "output_type": "stream",
     "text": [
      "Review 0:\n",
      " My favorite free attraction in Vegas.  Yes, even beating the street people giving out cards with naked women on them J/K ;p\n",
      "\n",
      "The Fountains of Bellagio are located in the heart of the Strip, where visitors can enjoy a beautiful display of water being shot high into the sky, in tune with music.  \n",
      "http://www.vegas.com/attractions/on-the-strip/bellagio-fountains/\n",
      "\n",
      "Strolling along the Strip, especially at night, it's a great sight to behold, whether with friends or your significant other.  Last time I was there, we saw the Fountains with Michael Jackson's \"Billie Jean\" playing.  Later on, on the way back to our hotel, we saw it again with Celine Dion's \"My Heart Will Go On\".  Such an extravagant spectacle for the senses!  There's just something about an oasis of moving water right before your eyes in the middle of the searing desert,  music tickling your tympanic membranes.  All for free!\n",
      "\n",
      "Great views from the front of Bellagio, or when dining at Mon Ami Gabi at Paris.  The show runs every 15-30 mins, with the start times depending upon the day.  \n",
      "\n",
      "You can't miss this attraction at the Strip, literally & figuratively.  I know when I'm in Vegas again, I'll certainly enjoy checking out the Fountains of Bellagio several times more.\n",
      "\n",
      "Highly recommmend!\n",
      "\n",
      "\n",
      "Review 1:\n",
      " Just when I thought I'd seen it all, something like this comes along and opens up a new and uniquely twisted dimension.  There were at least a couple of times during the show where my wife and I gave each other the \"Where the fuck are we right now?\" look.    \n",
      "\n",
      "Highlights include:\n",
      "\n",
      "- Hot zombie girls singing and dancing while their pasties clung to nipples for dear life\n",
      "- Catchy numbers like \"Eating Penis Doesn't Make You Gay\" \n",
      "- High energy zombie host that could get the crowd going\n",
      "- Awesome live band with a great horn section\n",
      "\n",
      "I was pleasantly surprised as I really expected zilch going in.  Even though a few skits went a little too long and some funny stuff had the potential to be even funnier, the fact that everyone sang live, performed with gusto, and well...boobs, made for good, unwholesome entertainment.  The near capacity turnout for the late show on a recent Saturday night proves that a production so off the wall definitely has some (living dead) legs in this town.\n",
      "\n",
      "\n",
      "Review 2:\n",
      " Fact:  Justin Timberlake's hair in the 1990's was an unintentional advertisement for instant ramen.\n",
      "\n",
      "More like subliminal messages.  Amirite?\n",
      "\n",
      "Anyways, three of us came here for dinner on a lovely chilly Thursday night.  We were seated at the bar, front row seats to the magic noodle show [get your mind outta the gutter!] by an informative and cheerful waiter.  The three of us got a variety of items to share with each other.  We had ordered two Tako Wasabis, two Hirata Buns, an Agedashi Tofu, Tonkatsu Ramen with the rich soup upgrade, a Miso Ramen, and an Ultra Spicy Ramen.  Boy am I bloated.\n",
      "\n",
      "Let's talk appetizers:  I originally wanted to get my beloved Takoyaki but the Takowasabi caught my eye.  I never had it before so I was mildly surprised when we received two martini glasses full of raw octopus with fresh wasabi and pickled ginger.  Any time a place has fresh wasabi, I'm all for it but man was it pungent!  That first bite packed a punch.  Like the Takowasabi was Holly Holm and I was Ronda Rousey.  I loved the raw octopus but that sour pucker from the ginger and the burning sensation from the fresh wasabi was pretty intense.  I wish the server told us that one ordered would have been enough for the three of us because we didn't even finish the second glass.  Next we had the Hirata Buns [steamed pork belly buns].  I assumed they would serve it like this place we went to in Las Vegas this past Saturday which is $3 for one bun.  Since only two of us wanted it, had I known they were served in pairs, we would have gotten just one order.  Granted, they give you two buns for $3 but they're relatively small.  I could have done without this because it didn't seem like they steamed the buns at all.  They were cold and cracking and not warm and squishy.  It made the first bite unpleasant.  I also wish there was an option to get regular Kewpie mayo instead of the spicy mayo.  The spicy mayo was delicious for sure but there was too much going on.  Kewpie mayo is more delicate and I think it's perfect for pork belly.  As for the Agedashi Tofu, these were good but not as crispy as I would have liked it.\n",
      "\n",
      "Now I'm not going to get into all the different kinds of ramen we had in great detail but I will say that they were all pretty darn good.  We were informed that Tampopo has one of ten ramen pulling machines in the U.S.  They are the ONLY ones in Arizona with this contraption.  The noodles were cooked al-dente.  They held the delicious soup well and had great texture.  Any time a noodle can hold up the broth and flavor is a win in my book.  I also love how you can not only see the collagen floating in the broth but feel it sticking to your lips which is no easy feat as I had lipstick on.  The Rich Soup Upgrade (+$1) had a great amount of pepper I wasn't anticipating despite reading Yuko H.'s review but I didn't mind it that much.  I will admit that I wish the eggs were more runny.  I want to crack my egg in half and have the yolk turn my broth into more richness.  The cha shu was a bit on the tougher side as well.  I like my cha shu a little more fatty for the melt-in-your-mouth feel.\n",
      "\n",
      "All in all, I had a pretty great meal.  I would love to try their Takoyaki and Curry Ramen next time.  Hands down a great ramen experience in Arizona.  I wish you great success, Tampopo!\n",
      "\n",
      "\n",
      "Review 3:\n",
      " After how many failed attempts, I've finally crossed Bacchanal off my \"to try\" list in Vegas. This time around was sweeter. A self check-in kiosk met us as we tried getting in line which asked for a name and a cellphone number for them to reach us when it's time to pay and get seated. 30 minutes of trying our luck with the slot machines and my phone beeped saying it was time. \n",
      "\n",
      "Time to get our glutton on, that's what!\n",
      "\n",
      "I always scope out the different stations categorized by cuisines before getting anything. I've finally learned to skip the bacon and other breakfast items I can eat at home so I started with some dim sum, roasted duck, and hot and sour soup. Can I say that was the best SIUMAI I've had just yet? It's remarkably tasty and perfect in texture from all aspects. Try it and thank me later! Meanwhile, the duck was great but the hot and sour soup could use less salt.\n",
      "\n",
      "There's a long line for the seafood station so I went for the carving station for a nice slab of PRIME RIB (yuummmm!) and got me some of the best SCALLOPED POTATOES with MUSHROOMS from another part of the buffet. Wow! I got two pans of these buttery and flavorful carbs. Soooooo gooooood! I was told the LAMB CHOPS would be dished out around 3pm but by then I was already too full. Something to try next time, that's for sure. \n",
      "\n",
      "Offering a selection of soups, I had their tomato basil soup, very delish, and their mushroom with truffle soup, very salty! Next to it is their bread station and take heed when I say get their mini CORN BREAD muffins. Mmmhmmm!\n",
      "\n",
      "I finally lined up for the seafood station to start burning what I ate. Mussels, clams, salmon, and seafood paella were the hot ones that I partook. I forgot to return for the shrimp and grits but those looked good. Cajun crawfish was also some of the offerings I decided to skip on due to the eating logistics of that crustacean. However, I certainly could not pass up on the oyster shooters, cocktail shrimps, KING CRAB LEGS, and their fresh succulent oysters. I recommend everything I tried in this station, however, I thought the paella was just alright and was on the salty side.\n",
      "\n",
      "Ending this gluttonous meal on a sweet note, I will have to say that among all the beautiful looking pastries and sweets I've tried, what's really worth indulging in are their CREPES! They have a station where they make it fresh for you with your own choosing of toppings such as sugar, syrup, and fruits. The texture and flavor is spot on. It's so good I could easily eat it by itself! Or, you can pair with it any gelato of your liking with so many flavors to choose from, if it rocks your boat. \n",
      "\n",
      "If there's anything that didn't impress me other than a few over-seasoned items, it would sadly have to be the service rendered to us by our server. She was an older lady who was somehow kind and very accommodating to all the tables around us, but us. She seemed cold, always rushing without stopping to hear what we're requesting. When she was leaving, she said, \"My shift is done, I want to go home now! You want anything else?\" And it wasn't in a friendly way. She moved on to the next table and got all friendly to them endorsing the server who was to take care of them when she leaves. And this is why you should tip only after you've been served.   \n",
      "\n",
      "Bottomline, we were all happy with what we consumed despite the price tag it came with ($50 for weekend champagne brunch). Because we got seated around 2pm, we were able to enjoy some dishes that were served only for dinner such as the fresh oysters. Either way, I guarantee you will leave this place satiated not just with the quantity of food you'll get but with a quality worth noting.\n",
      "\n",
      "\n",
      "Review 4:\n",
      " So, all week before my Vegas trip I was super pumped about a schmancy $100 brunch reservation we had at some other restaurant. It turned out to be okay, but that night we went to Johnny Smalls for a $20 all-you-can-eat tapas dinner and it blew that fancy schmancy brunch out of the effin' water.\n",
      "\n",
      "Seriously. This is approximately three billion times better than any buffet out there. I know some of ya'll are really into foie gras, caviar, and whatever other hoity-toitiness there is out there. You know what I'm into? Mac n' cheese, bacon, fritos, ranch dressing. What can I say? I'm a gal of highly refined taste, and Johnny Smalls has got my number\n",
      "\n",
      "There was a 20 minute wait for a table, so we sidled on up to the bar and had dinner and drinks there all served by Anthony, the most kickass flair bartender/server EVER. And you know how I mentioned that $20 AYCE earlier? It really is AYCE. Anything on the menu. From frito pie (with kobe beef chili, of course) to pork belly to tuna sashimi to mac n cheese to grilled pb&j. TWENTY DOLLARS. Period. No extra. \n",
      "\n",
      "...word on the street is that they are upping the price to $30 for AYCE after the new year, but even if that's true this is still one of the best values for endless deliciousness around.\n",
      "\n",
      "\n"
     ]
    }
   ],
   "source": [
    "for i, s in enumerate(df_small.sort_values('funny', ascending=False).text.head(5).tolist()):\n",
    "    print('Review {0}:\\n {1}\\n\\n'.format(i,s))"
   ]
  },
  {
   "cell_type": "code",
   "execution_count": null,
   "metadata": {
    "collapsed": true,
    "deletable": true,
    "editable": true
   },
   "outputs": [],
   "source": []
  },
  {
   "cell_type": "code",
   "execution_count": 7,
   "metadata": {
    "collapsed": false,
    "deletable": true,
    "editable": true
   },
   "outputs": [
    {
     "name": "stdout",
     "output_type": "stream",
     "text": [
      "Number of funny videos: 391\n"
     ]
    }
   ],
   "source": [
    "print('Number of funny videos:', len(df_small[df_small.funny_flag == 1]))"
   ]
  },
  {
   "cell_type": "code",
   "execution_count": 8,
   "metadata": {
    "collapsed": false,
    "deletable": true,
    "editable": true
   },
   "outputs": [
    {
     "name": "stdout",
     "output_type": "stream",
     "text": [
      "Number of not funny videos: 9609\n"
     ]
    }
   ],
   "source": [
    "print('Number of not funny videos:', len(df_small[df_small.funny_flag == 0]))"
   ]
  },
  {
   "cell_type": "code",
   "execution_count": 9,
   "metadata": {
    "collapsed": true,
    "deletable": true,
    "editable": true
   },
   "outputs": [],
   "source": [
    "funny = df_small[df_small.funny_flag == 1].text.dropna().to_string()"
   ]
  },
  {
   "cell_type": "code",
   "execution_count": 30,
   "metadata": {
    "collapsed": false,
    "deletable": true,
    "editable": true
   },
   "outputs": [],
   "source": [
    "wordcloud = WordCloud(stopwords=STOPWORDS,\n",
    "                      background_color='white',\n",
    "                      width=1200,\n",
    "                      height=1000\n",
    "                      ).generate(funny)"
   ]
  },
  {
   "cell_type": "code",
   "execution_count": 31,
   "metadata": {
    "collapsed": false,
    "deletable": true,
    "editable": true
   },
   "outputs": [
    {
     "data": {
      "image/png": "[encoded data removed]",
      "text/plain": [
       "<matplotlib.figure.Figure at 0x1149e5be0>"
      ]
     },
     "metadata": {},
     "output_type": "display_data"
    }
   ],
   "source": [
    "plt.imshow(wordcloud)\n",
    "plt.axis(\"off\")\n",
    "plt.show()"
   ]
  },
  {
   "cell_type": "code",
   "execution_count": 32,
   "metadata": {
    "collapsed": true,
    "deletable": true,
    "editable": true
   },
   "outputs": [],
   "source": [
    "plt.imsave('wordcloud.png', wordcloud)"
   ]
  },
  {
   "cell_type": "markdown",
   "metadata": {
    "deletable": true,
    "editable": true
   },
   "source": [
    "## Small and big datasets"
   ]
  },
  {
   "cell_type": "markdown",
   "metadata": {
    "deletable": true,
    "editable": true
   },
   "source": [
    "The 'small' dataset is the one shown above with 10000 reviews in total drawn from the big one. We name `tag` the variable that shows if we speak about the `small` or `big` datasets"
   ]
  },
  {
   "cell_type": "code",
   "execution_count": 10,
   "metadata": {
    "collapsed": false,
    "deletable": true,
    "editable": true
   },
   "outputs": [],
   "source": [
    "# Import the utilities we have\n",
    "from yelp_ds import yelp_runner"
   ]
  },
  {
   "cell_type": "markdown",
   "metadata": {
    "deletable": true,
    "editable": true
   },
   "source": [
    "## Making the datasets"
   ]
  },
  {
   "cell_type": "code",
   "execution_count": 11,
   "metadata": {
    "collapsed": true,
    "deletable": true,
    "editable": true
   },
   "outputs": [],
   "source": [
    "tag = 'small'\n",
    "cores = 6"
   ]
  },
  {
   "cell_type": "code",
   "execution_count": 35,
   "metadata": {
    "collapsed": false,
    "deletable": true,
    "editable": true
   },
   "outputs": [
    {
     "name": "stdout",
     "output_type": "stream",
     "text": [
      "Train and test datasets in place.\n"
     ]
    }
   ],
   "source": [
    "x_train, x_test, y_train, y_test = yelp_runner.create_train_test_datasets(tag)"
   ]
  },
  {
   "cell_type": "markdown",
   "metadata": {
    "deletable": true,
    "editable": true
   },
   "source": [
    "## Create bag of words and tf-idf corpuses"
   ]
  },
  {
   "cell_type": "markdown",
   "metadata": {
    "deletable": true,
    "editable": true
   },
   "source": [
    "### Bag-of-words (BOW model)\n",
    "- In the bag of words model, each word is associated with an id\n",
    "- Each document has as features all dictionary words and the weights are the number of occurrences in the document\n",
    "- With logistic regression it achieves 76% accuracy for the small model and almost 79% for the full one\n",
    "- It’s simple to implement but consumes lots of memory\n"
   ]
  },
  {
   "cell_type": "markdown",
   "metadata": {
    "deletable": true,
    "editable": true
   },
   "source": [
    "### TF-IDF model\n",
    "\n",
    "- Tf-idf is based on the idea of representing how important is a word to a document in a corpus\n",
    "- Term frequency (tf) means we count the number of times the term appears in a document\n",
    "- Inverse document frequency (idf) we multiply tf of a word by the inverse document frequency to distinguish how meaningful is a word for a document\n",
    "- Simple but achieves  good results 79% - 80% accuracy in both small and big datasets\n"
   ]
  },
  {
   "cell_type": "code",
   "execution_count": 12,
   "metadata": {
    "collapsed": false,
    "deletable": true,
    "editable": true,
    "scrolled": true
   },
   "outputs": [
    {
     "name": "stdout",
     "output_type": "stream",
     "text": [
      "Dictionary exists, loading...\n",
      "Bag of words corpus exists, loading...\n",
      "Tf-Idf corpus exists, loading...\n"
     ]
    }
   ],
   "source": [
    "mm_corpus_bow, mm_corpus_tfidf = yelp_runner.create_bow_tfidf_corpuses(tag)"
   ]
  },
  {
   "cell_type": "markdown",
   "metadata": {
    "deletable": true,
    "editable": true
   },
   "source": [
    "## Train Logistic Regression over bag-of-words and tf-idf"
   ]
  },
  {
   "cell_type": "code",
   "execution_count": 13,
   "metadata": {
    "collapsed": false,
    "deletable": true,
    "editable": true
   },
   "outputs": [
    {
     "name": "stdout",
     "output_type": "stream",
     "text": [
      "Dictionary exists, loading...\n",
      "Bag of words corpus exists, loading...\n",
      "Tf-Idf corpus exists, loading...\n",
      "Logistic regression for bow exists, loading...\n",
      "Dictionary exists, loading...\n",
      "Bag of words corpus exists, loading...\n",
      "Tf-Idf corpus exists, loading...\n",
      "Logistic Regression model for tfidf exists, loading...\n"
     ]
    }
   ],
   "source": [
    "bow = yelp_runner.train_logistic_regression_bow(tag, cores)\n",
    "tfidf = yelp_runner.train_logistic_regression_tfidf(tag, cores)\n"
   ]
  },
  {
   "cell_type": "markdown",
   "metadata": {
    "deletable": true,
    "editable": true
   },
   "source": [
    "## Predictions and metrics for bow and tf-idf trained with Logistic Regression"
   ]
  },
  {
   "cell_type": "code",
   "execution_count": 30,
   "metadata": {
    "collapsed": false,
    "deletable": true,
    "editable": true
   },
   "outputs": [
    {
     "name": "stdout",
     "output_type": "stream",
     "text": [
      "Dictionary exists, loading...\n",
      "Bag of words corpus exists, loading...\n",
      "Tf-Idf corpus exists, loading...\n",
      "Logistic regression for bow exists, loading...\n",
      "Dictionary exists, loading...\n",
      "Bag of words corpus exists, loading...\n",
      "Tf-Idf corpus exists, loading...\n",
      "Logistic Regression model for tfidf exists, loading...\n",
      "Predictions exist, loading...\n",
      "name: bow - accuracy: 0.953 \n",
      "name: tfidf - accuracy: 0.9575 \n",
      "confusion matrix bow:\n",
      "[[1903   12]\n",
      " [  82    3]]\n",
      "confusion matrix tfidf: \n",
      "[[1915    0]\n",
      " [  85    0]]\n"
     ]
    }
   ],
   "source": [
    "p_metrics_bow, p_metrics_conf_matrix_bow, p_metrics_tfidf, p_metrics_conf_matrix_tfidf, y_pred_bow, y_pred_tfidf = yelp_runner.predict_bow_tfidf(tag)"
   ]
  },
  {
   "cell_type": "code",
   "execution_count": 31,
   "metadata": {
    "collapsed": false
   },
   "outputs": [
    {
     "name": "stdout",
     "output_type": "stream",
     "text": [
      "bow f1 score: 0.9758974358974359\n",
      "tfidf f1 score: 0.9782886334610472\n"
     ]
    }
   ],
   "source": [
    "tp1 = 1903\n",
    "fp1 = 82\n",
    "fn1 = 12\n",
    "tp2 = 1915\n",
    "fp2 = 85\n",
    "fn2 = 0\n",
    "def precision(tp, fp): return tp / (tp + fp)\n",
    "def recall(tp, fn): return tp / (tp + fn)\n",
    "def f1(tp, fp, fn): prec = precision(tp, fp); rec = recall(tp, fn); return 2 * prec * rec / (prec + rec)\n",
    "print('bow f1 score: {0}'.format(f1(tp1, fp1, fn1)))\n",
    "print('tfidf f1 score: {0}'.format(f1(tp2, fp2, fn2)))"
   ]
  },
  {
   "cell_type": "markdown",
   "metadata": {},
   "source": [
    "As we see both the accuracy and f1 scores are really good even for the subset of the dataset"
   ]
  },
  {
   "cell_type": "code",
   "execution_count": 50,
   "metadata": {
    "collapsed": false
   },
   "outputs": [
    {
     "name": "stdout",
     "output_type": "stream",
     "text": [
      "Example of false positive in bow:\n",
      "I'm not a cheese connoisseur by any means but I feel like cheese is necessary when serving charcuteries, so occasionally I like to buy a wedge here and there. I live in the College Park area, so my usual spot to go to is the giant Loblaws at Maple Leaf Gardens where they have a big cheese wall with a good selection of cheeses - but today I happened to be in Kensington, accidentally stumbled upon this place, and realized that I've been getting ripped off!\n",
      "\n",
      "I bought a 200g wedge of coconut brie (which actually tastes like coconuts), goat cheese, Oka, and a cup of shredded cheese and it all came to only $20!! It would've cost easily twice as much at a Loblaw's or a Whole Foods. I realized that I could even Uber here and back for the same amount of money I'd be spending at Loblaws, while having wider selection of cheeses.\n",
      "\n",
      "Everyone there was really helpful, and they were happy to give me recommendations when I asked. The layout of the store is quite open so you can clearly see every cheese that they offer with their prices. There was a really homey feel to the store, which I really enjoyed. The workers all seemed to have a great relationship with one another. The lady offered me to try any of the cheese I was interested in, and was very patient throughout the whole process.\n",
      "\n",
      "I'll definitely be making my way back to the store once I finish all the cheese I bought today. It's going to take me a while to finish them all, but I'm motivated to so that I can return to the store very soon.\n",
      "\n",
      "Example of false negative in bow:\n",
      "So, all week before my Vegas trip I was super pumped about a schmancy $100 brunch reservation we had at some other restaurant. It turned out to be okay, but that night we went to Johnny Smalls for a $20 all-you-can-eat tapas dinner and it blew that fancy schmancy brunch out of the effin' water.\n",
      "\n",
      "Seriously. This is approximately three billion times better than any buffet out there. I know some of ya'll are really into foie gras, caviar, and whatever other hoity-toitiness there is out there. You know what I'm into? Mac n' cheese, bacon, fritos, ranch dressing. What can I say? I'm a gal of highly refined taste, and Johnny Smalls has got my number\n",
      "\n",
      "There was a 20 minute wait for a table, so we sidled on up to the bar and had dinner and drinks there all served by Anthony, the most kickass flair bartender/server EVER. And you know how I mentioned that $20 AYCE earlier? It really is AYCE. Anything on the menu. From frito pie (with kobe beef chili, of course) to pork belly to tuna sashimi to mac n cheese to grilled pb&j. TWENTY DOLLARS. Period. No extra. \n",
      "\n",
      "...word on the street is that they are upping the price to $30 for AYCE after the new year, but even if that's true this is still one of the best values for endless deliciousness around.\n",
      "\n",
      "Example of false positive in bow:\n",
      "No false positives\n",
      "\n",
      "Example of false negative in bow:\n",
      "So, all week before my Vegas trip I was super pumped about a schmancy $100 brunch reservation we had at some other restaurant. It turned out to be okay, but that night we went to Johnny Smalls for a $20 all-you-can-eat tapas dinner and it blew that fancy schmancy brunch out of the effin' water.\n",
      "\n",
      "Seriously. This is approximately three billion times better than any buffet out there. I know some of ya'll are really into foie gras, caviar, and whatever other hoity-toitiness there is out there. You know what I'm into? Mac n' cheese, bacon, fritos, ranch dressing. What can I say? I'm a gal of highly refined taste, and Johnny Smalls has got my number\n",
      "\n",
      "There was a 20 minute wait for a table, so we sidled on up to the bar and had dinner and drinks there all served by Anthony, the most kickass flair bartender/server EVER. And you know how I mentioned that $20 AYCE earlier? It really is AYCE. Anything on the menu. From frito pie (with kobe beef chili, of course) to pork belly to tuna sashimi to mac n cheese to grilled pb&j. TWENTY DOLLARS. Period. No extra. \n",
      "\n",
      "...word on the street is that they are upping the price to $30 for AYCE after the new year, but even if that's true this is still one of the best values for endless deliciousness around.\n"
     ]
    }
   ],
   "source": [
    "# Successful example\n",
    "y_test = np.array(y_test)\n",
    "y_pred_bow = np.array(y_pred_bow)\n",
    "y_pred_tfidf = np.array(y_pred_tfidf)\n",
    "x_test = np.array(x_test)\n",
    "false_positives_bow = x_test[(y_test == 0) & (y_pred_bow == 1)]\n",
    "false_negatives_bow = x_test[(y_test == 1) & (y_pred_bow == 0)]\n",
    "\n",
    "print('Example of false positive in bow:')\n",
    "print(false_positives_bow[0])\n",
    "print('\\nExample of false negative in bow:')\n",
    "print(false_negatives_bow[0])\n",
    "\n",
    "false_positives_tfidf = x_test[(y_test == 0) & (y_pred_tfidf == 1)]\n",
    "false_negatives_tfidf = x_test[(y_test == 1) & (y_pred_tfidf == 0)]\n",
    "\n",
    "print('\\nExample of false positive in bow:')\n",
    "if false_positives_tfidf: \n",
    "    print(false_positives_tfidf[0]) \n",
    "else: print('No false positives')\n",
    "print('\\nExample of false negative in bow:')\n",
    "print(false_negatives_tfidf[0])\n"
   ]
  },
  {
   "cell_type": "markdown",
   "metadata": {
    "deletable": true,
    "editable": true
   },
   "source": [
    "## Create doc2vec models"
   ]
  },
  {
   "cell_type": "markdown",
   "metadata": {
    "deletable": true,
    "editable": true
   },
   "source": [
    "Doc2vec is an unsupervised algorithm to generate features for sentences/paragraphs/documents\n",
    "- For sentence similarity it may perform well, however if there are many misspellings it might not be the ideal choice\n",
    "- It is very memory efficient and if it is trained with tuned parameters it can perform very well\n",
    "- In our dataset we try 3 different doc2vec models. 80% accuracy is achieved in both models\n"
   ]
  },
  {
   "cell_type": "code",
   "execution_count": 22,
   "metadata": {
    "collapsed": false,
    "deletable": true,
    "editable": true,
    "scrolled": true
   },
   "outputs": [
    {
     "name": "stdout",
     "output_type": "stream",
     "text": [
      "Models exist, loading...\n"
     ]
    }
   ],
   "source": [
    "models = yelp_runner.create_and_train_models_d2vec(tag, cores)"
   ]
  },
  {
   "cell_type": "markdown",
   "metadata": {
    "deletable": true,
    "editable": true
   },
   "source": [
    "## Train Logistic Regression on doc2vec"
   ]
  },
  {
   "cell_type": "markdown",
   "metadata": {
    "deletable": true,
    "editable": true
   },
   "source": [
    "Logistic Regression is a model we can use for dependent variables that are categories, here funny and not funny."
   ]
  },
  {
   "cell_type": "code",
   "execution_count": 23,
   "metadata": {
    "collapsed": false,
    "deletable": true,
    "editable": true
   },
   "outputs": [
    {
     "name": "stdout",
     "output_type": "stream",
     "text": [
      "Models exist, loading...\n",
      "Models exist, loading...\n",
      "Train corpuses exist, loading...\n",
      "Train corpuses exist, loading...\n",
      "Train corpuses exist, loading...\n",
      "Logistic Regression model exists, loading...\n",
      "Logistic Regression model exists, loading...\n",
      "Logistic Regression model exists, loading...\n"
     ]
    }
   ],
   "source": [
    "lrs = yelp_runner.train_logistic_regression_d2vec(tag, cores)"
   ]
  },
  {
   "cell_type": "markdown",
   "metadata": {
    "deletable": true,
    "editable": true
   },
   "source": [
    "## Predictions and metrics for doc2vec"
   ]
  },
  {
   "cell_type": "code",
   "execution_count": 51,
   "metadata": {
    "collapsed": false,
    "deletable": true,
    "editable": true
   },
   "outputs": [
    {
     "name": "stdout",
     "output_type": "stream",
     "text": [
      "Models exist, loading...\n",
      "Test corpuses exist, loading...\n",
      "Test corpuses exist, loading...\n",
      "Test corpuses exist, loading...\n",
      "Models exist, loading...\n",
      "Models exist, loading...\n",
      "Train corpuses exist, loading...\n",
      "Train corpuses exist, loading...\n",
      "Train corpuses exist, loading...\n",
      "Logistic Regression model exists, loading...\n",
      "Logistic Regression model exists, loading...\n",
      "Logistic Regression model exists, loading...\n",
      "Models exist, loading...\n",
      "Making predictions...\n",
      "name: Doc2Vec(dmc_d100_n5_w5_mc2_s0.001_t6) - accuracy: 0.9575 - f1: OrderedDict([('Doc2Vec(dm/c,d100,n5,w5,mc2,s0.001,t6)', 'Doc2Vec(dm/c,d100,n5,w5,mc2,s0.001,t6)'), ('Doc2Vec(dbow,d100,n5,mc2,s0.001,t6)', 'Doc2Vec(dbow,d100,n5,mc2,s0.001,t6)'), ('Doc2Vec(dm/m,d100,n5,w10,mc2,s0.001,t6)', 'Doc2Vec(dm/m,d100,n5,w10,mc2,s0.001,t6)')])\n",
      "name: Doc2Vec(dmc_d100_n5_w5_mc2_s0.001_t6) - confusion matrix:\n",
      "[[1915    0]\n",
      " [  85    0]]\n",
      "Making predictions...\n",
      "name: Doc2Vec(dbow_d100_n5_mc2_s0.001_t6) - accuracy: 0.9575 - f1: OrderedDict([('Doc2Vec(dm/c,d100,n5,w5,mc2,s0.001,t6)', 'Doc2Vec(dm/c,d100,n5,w5,mc2,s0.001,t6)'), ('Doc2Vec(dbow,d100,n5,mc2,s0.001,t6)', 'Doc2Vec(dbow,d100,n5,mc2,s0.001,t6)'), ('Doc2Vec(dm/m,d100,n5,w10,mc2,s0.001,t6)', 'Doc2Vec(dm/m,d100,n5,w10,mc2,s0.001,t6)')])\n",
      "name: Doc2Vec(dbow_d100_n5_mc2_s0.001_t6) - confusion matrix:\n",
      "[[1915    0]\n",
      " [  85    0]]\n",
      "Making predictions...\n",
      "name: Doc2Vec(dmm_d100_n5_w10_mc2_s0.001_t6) - accuracy: 0.6125 - f1: OrderedDict([('Doc2Vec(dm/c,d100,n5,w5,mc2,s0.001,t6)', 'Doc2Vec(dm/c,d100,n5,w5,mc2,s0.001,t6)'), ('Doc2Vec(dbow,d100,n5,mc2,s0.001,t6)', 'Doc2Vec(dbow,d100,n5,mc2,s0.001,t6)'), ('Doc2Vec(dm/m,d100,n5,w10,mc2,s0.001,t6)', 'Doc2Vec(dm/m,d100,n5,w10,mc2,s0.001,t6)')])\n",
      "name: Doc2Vec(dmm_d100_n5_w10_mc2_s0.001_t6) - confusion matrix:\n",
      "[[1199  716]\n",
      " [  59   26]]\n"
     ]
    }
   ],
   "source": [
    "p_metrics_conf_matrix, p_metrics, y_preds = yelp_runner.predictions_d2vec(tag)"
   ]
  },
  {
   "cell_type": "code",
   "execution_count": 27,
   "metadata": {
    "collapsed": false
   },
   "outputs": [
    {
     "name": "stdout",
     "output_type": "stream",
     "text": [
      "First doc2vec model f1: 0.9782886334610472\n",
      "Second doc2vec model f1: 0.9782886334610472\n",
      "Third doc2vec model f1: 0.7557516545855657\n"
     ]
    }
   ],
   "source": [
    "print('First doc2vec model f1: {0}'.format(f1(1915, 85, 0)))\n",
    "print('Second doc2vec model f1: {0}'.format(f1(1915, 85, 0)))\n",
    "print('Third doc2vec model f1: {0}'.format(f1(1199, 59, 716)))"
   ]
  },
  {
   "cell_type": "code",
   "execution_count": 60,
   "metadata": {
    "collapsed": false
   },
   "outputs": [
    {
     "name": "stdout",
     "output_type": "stream",
     "text": [
      "Example of false positive in doc2vec:\n",
      "No false positives\n",
      "\n",
      "Example of false negative in bow:\n",
      "So, all week before my Vegas trip I was super pumped about a schmancy $100 brunch reservation we had at some other restaurant. It turned out to be okay, but that night we went to Johnny Smalls for a $20 all-you-can-eat tapas dinner and it blew that fancy schmancy brunch out of the effin' water.\n",
      "\n",
      "Seriously. This is approximately three billion times better than any buffet out there. I know some of ya'll are really into foie gras, caviar, and whatever other hoity-toitiness there is out there. You know what I'm into? Mac n' cheese, bacon, fritos, ranch dressing. What can I say? I'm a gal of highly refined taste, and Johnny Smalls has got my number\n",
      "\n",
      "There was a 20 minute wait for a table, so we sidled on up to the bar and had dinner and drinks there all served by Anthony, the most kickass flair bartender/server EVER. And you know how I mentioned that $20 AYCE earlier? It really is AYCE. Anything on the menu. From frito pie (with kobe beef chili, of course) to pork belly to tuna sashimi to mac n cheese to grilled pb&j. TWENTY DOLLARS. Period. No extra. \n",
      "\n",
      "...word on the street is that they are upping the price to $30 for AYCE after the new year, but even if that's true this is still one of the best values for endless deliciousness around.\n"
     ]
    }
   ],
   "source": [
    "y_test = np.array(y_test)\n",
    "y_pred = np.array(y_preds['Doc2Vec(dm/c,d100,n5,w5,mc2,s0.001,t6)'])\n",
    "\n",
    "false_positives_d2vec = x_test[(y_test == 0) & (y_pred == 1)]\n",
    "false_negatives_d2vec = x_test[(y_test == 1) & (y_pred == 0)]\n",
    "\n",
    "print('Example of false positive in doc2vec:')\n",
    "if false_positives_d2vec:\n",
    "    print(false_positives_d2vec[0])\n",
    "else:\n",
    "    print('No false positives')\n",
    "print('\\nExample of false negative in bow:')\n",
    "print(false_negatives_d2vec[0])"
   ]
  },
  {
   "cell_type": "markdown",
   "metadata": {
    "deletable": true,
    "editable": true
   },
   "source": [
    "## References"
   ]
  },
  {
   "cell_type": "markdown",
   "metadata": {
    "deletable": true,
    "editable": true
   },
   "source": [
    "- https://www.yelp.com/dataset_challenge\n",
    "- https://cs224d.stanford.edu/reports/OliveiraLuke.pdf\n",
    "- https://radimrehurek.com/gensim/models/doc2vec.html\n",
    "- https://cs.stanford.edu/~quocle/paragraph_vector.pdf\n"
   ]
  },
  {
   "cell_type": "code",
   "execution_count": null,
   "metadata": {
    "collapsed": true,
    "deletable": true,
    "editable": true
   },
   "outputs": [],
   "source": []
  }
 ],
 "metadata": {
  "kernelspec": {
   "display_name": "Python 3",
   "language": "python",
   "name": "python3"
  },
  "language_info": {
   "codemirror_mode": {
    "name": "ipython",
    "version": 3
   },
   "file_extension": ".py",
   "mimetype": "text/x-python",
   "name": "python",
   "nbconvert_exporter": "python",
   "pygments_lexer": "ipython3",
   "version": "3.6.0"
  }
 },
 "nbformat": 4,
 "nbformat_minor": 2
}
