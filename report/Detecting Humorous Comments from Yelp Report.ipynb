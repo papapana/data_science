{
 "cells": [
  {
   "cell_type": "markdown",
   "metadata": {},
   "source": [
    "# Detecting humorous reviews at Yelp"
   ]
  },
  {
   "cell_type": "markdown",
   "metadata": {},
   "source": [
    "In this project we examine how to make models that can classify if a review is funny or not.\n",
    "The actual [dataset](https://www.yelp.com/dataset_challenge) contains 4 million reviews by 1 million users for 144k businesses.\n",
    "\n",
    "In the next section how a random sample from it with 10000 reviews looks like:\n"
   ]
  },
  {
   "cell_type": "code",
   "execution_count": 36,
   "metadata": {
    "collapsed": false,
    "deletable": true,
    "editable": true
   },
   "outputs": [],
   "source": [
    "%matplotlib inline\n",
    "import matplotlib.pyplot as plt\n",
    "import pandas as pd\n",
    "from wordcloud import WordCloud, STOPWORDS\n",
    "import os\n",
    "import sys\n",
    "nb_dir = os.path.split(os.getcwd())[0]\n",
    "if nb_dir not in sys.path:\n",
    "    sys.path.append(nb_dir)\n",
    "os.chdir(nb_dir)"
   ]
  },
  {
   "cell_type": "code",
   "execution_count": 39,
   "metadata": {
    "collapsed": false,
    "deletable": true,
    "editable": true
   },
   "outputs": [
    {
     "data": {
      "text/html": [
       "<div>\n",
       "<table border=\"1\" class=\"dataframe\">\n",
       "  <thead>\n",
       "    <tr style=\"text-align: right;\">\n",
       "      <th></th>\n",
       "      <th>Unnamed: 0</th>\n",
       "      <th>funny</th>\n",
       "      <th>user_id</th>\n",
       "      <th>review_id</th>\n",
       "      <th>text</th>\n",
       "      <th>business_id</th>\n",
       "      <th>stars</th>\n",
       "      <th>date</th>\n",
       "      <th>useful</th>\n",
       "      <th>type</th>\n",
       "      <th>cool</th>\n",
       "    </tr>\n",
       "  </thead>\n",
       "  <tbody>\n",
       "    <tr>\n",
       "      <th>0</th>\n",
       "      <td>1234684</td>\n",
       "      <td>0</td>\n",
       "      <td>KWY0QyEXEMGh6xCB5oMUzg</td>\n",
       "      <td>NdbkPVe_xrd8TFrggN6_xg</td>\n",
       "      <td>I always like the pizza.  Service is usually g...</td>\n",
       "      <td>0PMKMyfX1j7Nc4esk1RaMg</td>\n",
       "      <td>4</td>\n",
       "      <td>2014-08-08</td>\n",
       "      <td>0</td>\n",
       "      <td>review</td>\n",
       "      <td>0</td>\n",
       "    </tr>\n",
       "    <tr>\n",
       "      <th>1</th>\n",
       "      <td>3188601</td>\n",
       "      <td>0</td>\n",
       "      <td>ZmFZlgHrs23eRZGA3LDKfQ</td>\n",
       "      <td>wRuvsAe2npOF6j4H5pB81g</td>\n",
       "      <td>I liked the decor, but the place was fairly em...</td>\n",
       "      <td>X-_KD0nInfFQYa7MPZE3cQ</td>\n",
       "      <td>2</td>\n",
       "      <td>2013-01-02</td>\n",
       "      <td>1</td>\n",
       "      <td>review</td>\n",
       "      <td>0</td>\n",
       "    </tr>\n",
       "    <tr>\n",
       "      <th>2</th>\n",
       "      <td>2861441</td>\n",
       "      <td>3</td>\n",
       "      <td>0zZk826vbqYCx_yV8WGvtw</td>\n",
       "      <td>ZC2BIZcp7VqyP1JeiGC6_g</td>\n",
       "      <td>This chain is one of the better boba places I'...</td>\n",
       "      <td>IZivKqtHyz4-ts8KsnvMrA</td>\n",
       "      <td>4</td>\n",
       "      <td>2016-01-01</td>\n",
       "      <td>4</td>\n",
       "      <td>review</td>\n",
       "      <td>3</td>\n",
       "    </tr>\n",
       "    <tr>\n",
       "      <th>3</th>\n",
       "      <td>337096</td>\n",
       "      <td>0</td>\n",
       "      <td>jPVYZXiAeIUYS9rBhtiLZw</td>\n",
       "      <td>EVg_yqi7CTK46-haToEKzg</td>\n",
       "      <td>Dear Mr. Giroux,\\nYou have all of our family t...</td>\n",
       "      <td>wbuW38I-B6V8mbxrae2wiw</td>\n",
       "      <td>1</td>\n",
       "      <td>2014-07-14</td>\n",
       "      <td>0</td>\n",
       "      <td>review</td>\n",
       "      <td>0</td>\n",
       "    </tr>\n",
       "    <tr>\n",
       "      <th>4</th>\n",
       "      <td>3808496</td>\n",
       "      <td>0</td>\n",
       "      <td>29v2GjByL9e20myiBm0C3A</td>\n",
       "      <td>-xeRTRTD5158HODDMKxwAQ</td>\n",
       "      <td>Amazing service. Moer got to my house within 1...</td>\n",
       "      <td>NA-9WSNjAqJVzpgC29xURQ</td>\n",
       "      <td>5</td>\n",
       "      <td>2016-04-01</td>\n",
       "      <td>0</td>\n",
       "      <td>review</td>\n",
       "      <td>0</td>\n",
       "    </tr>\n",
       "  </tbody>\n",
       "</table>\n",
       "</div>"
      ],
      "text/plain": [
       "   Unnamed: 0  funny                 user_id               review_id  \\\n",
       "0     1234684      0  KWY0QyEXEMGh6xCB5oMUzg  NdbkPVe_xrd8TFrggN6_xg   \n",
       "1     3188601      0  ZmFZlgHrs23eRZGA3LDKfQ  wRuvsAe2npOF6j4H5pB81g   \n",
       "2     2861441      3  0zZk826vbqYCx_yV8WGvtw  ZC2BIZcp7VqyP1JeiGC6_g   \n",
       "3      337096      0  jPVYZXiAeIUYS9rBhtiLZw  EVg_yqi7CTK46-haToEKzg   \n",
       "4     3808496      0  29v2GjByL9e20myiBm0C3A  -xeRTRTD5158HODDMKxwAQ   \n",
       "\n",
       "                                                text             business_id  \\\n",
       "0  I always like the pizza.  Service is usually g...  0PMKMyfX1j7Nc4esk1RaMg   \n",
       "1  I liked the decor, but the place was fairly em...  X-_KD0nInfFQYa7MPZE3cQ   \n",
       "2  This chain is one of the better boba places I'...  IZivKqtHyz4-ts8KsnvMrA   \n",
       "3  Dear Mr. Giroux,\\nYou have all of our family t...  wbuW38I-B6V8mbxrae2wiw   \n",
       "4  Amazing service. Moer got to my house within 1...  NA-9WSNjAqJVzpgC29xURQ   \n",
       "\n",
       "   stars        date  useful    type  cool  \n",
       "0      4  2014-08-08       0  review     0  \n",
       "1      2  2013-01-02       1  review     0  \n",
       "2      4  2016-01-01       4  review     3  \n",
       "3      1  2014-07-14       0  review     0  \n",
       "4      5  2016-04-01       0  review     0  "
      ]
     },
     "execution_count": 39,
     "metadata": {},
     "output_type": "execute_result"
    }
   ],
   "source": [
    "df_small = pd.read_csv('data/processed/yelp_subset.csv')\n",
    "df_small.head()"
   ]
  },
  {
   "cell_type": "code",
   "execution_count": 40,
   "metadata": {
    "collapsed": false,
    "deletable": true,
    "editable": true
   },
   "outputs": [
    {
     "data": {
      "text/plain": [
       "10000"
      ]
     },
     "execution_count": 40,
     "metadata": {},
     "output_type": "execute_result"
    }
   ],
   "source": [
    "len(df_small)"
   ]
  },
  {
   "cell_type": "code",
   "execution_count": 41,
   "metadata": {
    "collapsed": false,
    "deletable": true,
    "editable": true
   },
   "outputs": [
    {
     "name": "stdout",
     "output_type": "stream",
     "text": [
      "Number of funny videos: 1141\n"
     ]
    }
   ],
   "source": [
    "print('Number of funny videos:', len(df_small[df_small.funny == 1]))"
   ]
  },
  {
   "cell_type": "code",
   "execution_count": 42,
   "metadata": {
    "collapsed": false,
    "deletable": true,
    "editable": true
   },
   "outputs": [
    {
     "name": "stdout",
     "output_type": "stream",
     "text": [
      "Number of not funny videos: 8125\n"
     ]
    }
   ],
   "source": [
    "print('Number of not funny videos:', len(df_small[df_small.funny == 0]))"
   ]
  },
  {
   "cell_type": "code",
   "execution_count": 43,
   "metadata": {
    "collapsed": true,
    "deletable": true,
    "editable": true
   },
   "outputs": [],
   "source": [
    "funny = df_small[df_small.funny == 1].text.dropna().to_string()"
   ]
  },
  {
   "cell_type": "code",
   "execution_count": 44,
   "metadata": {
    "collapsed": false,
    "deletable": true,
    "editable": true
   },
   "outputs": [],
   "source": [
    "wordcloud = WordCloud(stopwords=STOPWORDS,\n",
    "                      background_color='white',\n",
    "                      width=1200,\n",
    "                      height=1000\n",
    "                      ).generate(funny)"
   ]
  },
  {
   "cell_type": "code",
   "execution_count": 45,
   "metadata": {
    "collapsed": false,
    "deletable": true,
    "editable": true
   },
   "outputs": [
    {
     "data": {
      "image/png": "[encoded data removed]",
      "text/plain": [
       "<matplotlib.figure.Figure at 0x10a188320>"
      ]
     },
     "metadata": {},
     "output_type": "display_data"
    }
   ],
   "source": [
    "plt.imshow(wordcloud)\n",
    "plt.axis(\"off\")\n",
    "plt.show()"
   ]
  },
  {
   "cell_type": "code",
   "execution_count": 46,
   "metadata": {
    "collapsed": true,
    "deletable": true,
    "editable": true
   },
   "outputs": [],
   "source": [
    "plt.imsave('wordcloud.png', wordcloud)"
   ]
  },
  {
   "cell_type": "code",
   "execution_count": null,
   "metadata": {
    "collapsed": true,
    "deletable": true,
    "editable": true
   },
   "outputs": [],
   "source": []
  },
  {
   "cell_type": "markdown",
   "metadata": {},
   "source": [
    "## Small and big datasets"
   ]
  },
  {
   "cell_type": "markdown",
   "metadata": {},
   "source": [
    "The 'small' dataset is the one shown above with 10000 reviews in total drawn from the big one. We name `tag` the variable that shows if we speak about the `small` or `big` datasets"
   ]
  },
  {
   "cell_type": "code",
   "execution_count": 47,
   "metadata": {
    "collapsed": false
   },
   "outputs": [],
   "source": [
    "# Import the utilities we have\n",
    "from yelp_ds import yelp_runner"
   ]
  },
  {
   "cell_type": "markdown",
   "metadata": {},
   "source": [
    "## Making the datasets"
   ]
  },
  {
   "cell_type": "code",
   "execution_count": 54,
   "metadata": {
    "collapsed": true
   },
   "outputs": [],
   "source": [
    "tag = 'small'\n",
    "cores = 6"
   ]
  },
  {
   "cell_type": "code",
   "execution_count": 50,
   "metadata": {
    "collapsed": false
   },
   "outputs": [
    {
     "name": "stdout",
     "output_type": "stream",
     "text": [
      "Train and test datasets in place.\n"
     ]
    }
   ],
   "source": [
    "yelp_runner.create_train_test_datasets(tag)"
   ]
  },
  {
   "cell_type": "markdown",
   "metadata": {},
   "source": [
    "## Create bag of words and tf-idf corpuses"
   ]
  },
  {
   "cell_type": "markdown",
   "metadata": {},
   "source": [
    "### Bag-of-words (BOW model)\n",
    "- In the bag of words model, each word is associated with an id\n",
    "- Each document has as features all dictionary words and the weights are the number of occurrences in the document\n",
    "- With logistic regression it achieves 76% accuracy for the small model and almost 79% for the full one\n",
    "- It’s simple to implement but consumes lots of memory\n"
   ]
  },
  {
   "cell_type": "markdown",
   "metadata": {},
   "source": [
    "### TF-IDF model\n",
    "\n",
    "- Tf-idf is based on the idea of representing how important is a word to a document in a corpus\n",
    "- Term frequency (tf) means we count the number of times the term appears in a document\n",
    "- Inverse document frequency (idf) we multiply tf of a word by the inverse document frequency to distinguish how meaningful is a word for a document\n",
    "- Simple but achieves  good results 79% - 80% accuracy in both small and big datasets\n"
   ]
  },
  {
   "cell_type": "code",
   "execution_count": 53,
   "metadata": {
    "collapsed": false,
    "scrolled": true
   },
   "outputs": [
    {
     "name": "stdout",
     "output_type": "stream",
     "text": [
      "Dictionary exists, loading...\n",
      "Bag of words corpus exists, loading...\n",
      "Tf-Idf corpus exists, loading...\n"
     ]
    }
   ],
   "source": [
    "mm_corpus_bow, mm_corpus_tfidf = yelp_runner.create_bow_tfidf_corpuses(tag)"
   ]
  },
  {
   "cell_type": "markdown",
   "metadata": {},
   "source": [
    "## Train Logistic Regression over bag-of-words and tf-idf"
   ]
  },
  {
   "cell_type": "code",
   "execution_count": 55,
   "metadata": {
    "collapsed": false
   },
   "outputs": [
    {
     "name": "stdout",
     "output_type": "stream",
     "text": [
      "Dictionary exists, loading...\n",
      "Bag of words corpus exists, loading...\n",
      "Tf-Idf corpus exists, loading...\n",
      "Logistic regression for bow exists, loading...\n",
      "Dictionary exists, loading...\n",
      "Bag of words corpus exists, loading...\n",
      "Tf-Idf corpus exists, loading...\n",
      "Logistic Regression model for tfidf exists, loading...\n"
     ]
    }
   ],
   "source": [
    "bow = yelp_runner.train_logistic_regression_bow(tag, cores)\n",
    "tfidf = yelp_runner.train_logistic_regression_tfidf(tag, cores)\n"
   ]
  },
  {
   "cell_type": "markdown",
   "metadata": {},
   "source": [
    "## Predictions and metrics for bow and tf-idf trained with Logistic Regression"
   ]
  },
  {
   "cell_type": "code",
   "execution_count": 57,
   "metadata": {
    "collapsed": false
   },
   "outputs": [
    {
     "name": "stdout",
     "output_type": "stream",
     "text": [
      "Dictionary exists, loading...\n",
      "Bag of words corpus exists, loading...\n",
      "Tf-Idf corpus exists, loading...\n",
      "Logistic regression for bow exists, loading...\n",
      "Dictionary exists, loading...\n",
      "Bag of words corpus exists, loading...\n",
      "Tf-Idf corpus exists, loading...\n",
      "Logistic Regression model for tfidf exists, loading...\n",
      "Predictions exist, loading...\n",
      "name: bow - accuracy: 0.7685\n",
      "name: tfidf - accuracy: 0.8015\n"
     ]
    }
   ],
   "source": [
    "p_metrics_bow, p_metrics_conf_matrix_bow, p_metrics_tfidf, p_metrics_conf_matrix_tfidf = yelp_runner.predict_bow_tfidf(tag)"
   ]
  },
  {
   "cell_type": "markdown",
   "metadata": {},
   "source": [
    "## Create doc2vec models"
   ]
  },
  {
   "cell_type": "markdown",
   "metadata": {},
   "source": [
    "Doc2vec is an unsupervised algorithm to generate features for sentences/paragraphs/documents\n",
    "- For sentence similarity it may perform well, however if there are many misspellings it might not be the ideal choice\n",
    "- It is very memory efficient and if it is trained with tuned parameters it can perform very well\n",
    "- In our dataset we try 3 different doc2vec models. 80% accuracy is achieved in both models\n"
   ]
  },
  {
   "cell_type": "code",
   "execution_count": 59,
   "metadata": {
    "collapsed": false,
    "scrolled": true
   },
   "outputs": [
    {
     "name": "stdout",
     "output_type": "stream",
     "text": [
      "Models exist, loading...\n"
     ]
    }
   ],
   "source": [
    "models = yelp_runner.create_and_train_models_d2vec(tag, cores)"
   ]
  },
  {
   "cell_type": "markdown",
   "metadata": {},
   "source": [
    "## Train Logistic Regression on doc2vec"
   ]
  },
  {
   "cell_type": "markdown",
   "metadata": {},
   "source": [
    "Logistic Regression is a model we can use for dependent variables that are categories, here funny and not funny."
   ]
  },
  {
   "cell_type": "code",
   "execution_count": 61,
   "metadata": {
    "collapsed": false
   },
   "outputs": [
    {
     "name": "stdout",
     "output_type": "stream",
     "text": [
      "Models exist, loading...\n",
      "Models exist, loading...\n",
      "Train corpuses exist, loading...\n",
      "Train corpuses exist, loading...\n",
      "Train corpuses exist, loading...\n",
      "Logistic Regression model exists, loading...\n",
      "Logistic Regression model exists, loading...\n",
      "Logistic Regression model exists, loading...\n"
     ]
    }
   ],
   "source": [
    "lrs = yelp_runner.train_logistic_regression_d2vec(tag, cores)"
   ]
  },
  {
   "cell_type": "markdown",
   "metadata": {},
   "source": [
    "## Predictions and metrics for doc2vec"
   ]
  },
  {
   "cell_type": "code",
   "execution_count": 63,
   "metadata": {
    "collapsed": false
   },
   "outputs": [
    {
     "name": "stdout",
     "output_type": "stream",
     "text": [
      "Models exist, loading...\n",
      "Test corpuses exist, loading...\n",
      "Test corpuses exist, loading...\n",
      "Test corpuses exist, loading...\n",
      "Models exist, loading...\n",
      "Models exist, loading...\n",
      "Train corpuses exist, loading...\n",
      "Train corpuses exist, loading...\n",
      "Train corpuses exist, loading...\n",
      "Logistic Regression model exists, loading...\n",
      "Logistic Regression model exists, loading...\n",
      "Logistic Regression model exists, loading...\n",
      "Models exist, loading...\n",
      "Predictions exist, loading...\n",
      "name: Doc2Vec(dmc_d100_n5_w5_mc2_s0.001_t6) - accuracy: 0.788\n",
      "Predictions exist, loading...\n",
      "name: Doc2Vec(dbow_d100_n5_mc2_s0.001_t6) - accuracy: 0.802\n",
      "Predictions exist, loading...\n",
      "name: Doc2Vec(dmm_d100_n5_w10_mc2_s0.001_t6) - accuracy: 0.0065\n"
     ]
    }
   ],
   "source": [
    "p_metrics_conf_matrix, p_metrics = yelp_runner.predictions_d2vec(tag)"
   ]
  },
  {
   "cell_type": "code",
   "execution_count": null,
   "metadata": {
    "collapsed": true
   },
   "outputs": [],
   "source": []
  },
  {
   "cell_type": "code",
   "execution_count": null,
   "metadata": {
    "collapsed": true
   },
   "outputs": [],
   "source": []
  },
  {
   "cell_type": "markdown",
   "metadata": {},
   "source": [
    "## References"
   ]
  },
  {
   "cell_type": "markdown",
   "metadata": {},
   "source": [
    "- https://www.yelp.com/dataset_challenge\n",
    "- https://cs224d.stanford.edu/reports/OliveiraLuke.pdf\n",
    "- https://radimrehurek.com/gensim/models/doc2vec.html\n",
    "- https://cs.stanford.edu/~quocle/paragraph_vector.pdf\n"
   ]
  },
  {
   "cell_type": "code",
   "execution_count": null,
   "metadata": {
    "collapsed": true
   },
   "outputs": [],
   "source": []
  }
 ],
 "metadata": {
  "kernelspec": {
   "display_name": "Python 3",
   "language": "python",
   "name": "python3"
  },
  "language_info": {
   "codemirror_mode": {
    "name": "ipython",
    "version": 3
   },
   "file_extension": ".py",
   "mimetype": "text/x-python",
   "name": "python",
   "nbconvert_exporter": "python",
   "pygments_lexer": "ipython3",
   "version": "3.6.0"
  }
 },
 "nbformat": 4,
 "nbformat_minor": 2
}
